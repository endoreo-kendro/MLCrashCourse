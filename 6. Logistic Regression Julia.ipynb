{
 "cells": [
  {
   "cell_type": "markdown",
   "metadata": {
    "colab_type": "text",
    "id": "JndnmDMp66FL"
   },
   "source": [
    "This notebook is based on the file [Logistic Regression programming exercise](https://colab.research.google.com/notebooks/mlcc/logistic_regression.ipynb?utm_source=mlcc&utm_campaign=colab-external&utm_medium=referral&utm_content=logisticregression-colab&hl=en), which is part of Google's [Machine Learning Crash Course](https://developers.google.com/machine-learning/crash-course/)."
   ]
  },
  {
   "cell_type": "code",
   "execution_count": 1,
   "metadata": {
    "cellView": "both",
    "colab": {
     "autoexec": {
      "startup": false,
      "wait_interval": 0
     }
    },
    "colab_type": "code",
    "id": "hMqWDc_m6rUC"
   },
   "outputs": [],
   "source": [
    "# Licensed under the Apache License, Version 2.0 (the \"License\");\n",
    "# you may not use this file except in compliance with the License.\n",
    "# You may obtain a copy of the License at\n",
    "#\n",
    "# https://www.apache.org/licenses/LICENSE-2.0\n",
    "#\n",
    "# Unless required by applicable law or agreed to in writing, software\n",
    "# distributed under the License is distributed on an \"AS IS\" BASIS,\n",
    "# WITHOUT WARRANTIES OR CONDITIONS OF ANY KIND, either express or implied.\n",
    "# See the License for the specific language governing permissions and\n",
    "# limitations under the License."
   ]
  },
  {
   "cell_type": "markdown",
   "metadata": {
    "colab_type": "text",
    "id": "g4T-_IsVbweU"
   },
   "source": [
    "# Logistic Regression"
   ]
  },
  {
   "cell_type": "markdown",
   "metadata": {
    "colab_type": "text",
    "id": "LEAHZv4rIYHX"
   },
   "source": [
    "**Learning Objectives:**\n",
    "  * Reframe the median house value predictor (from the preceding exercises) as a binary classification model\n",
    "  * Compare the effectiveness of logisitic regression vs linear regression for a binary classification problem"
   ]
  },
  {
   "cell_type": "markdown",
   "metadata": {
    "colab_type": "text",
    "id": "CnkCZqdIIYHY"
   },
   "source": [
    "As in the prior exercises, we're working with the [California housing data set](https://developers.google.com/machine-learning/crash-course/california-housing-data-description), but this time we will turn it into a binary classification problem by predicting whether a city block is a high-cost city block. We'll also revert to the default features, for now."
   ]
  },
  {
   "cell_type": "markdown",
   "metadata": {
    "colab_type": "text",
    "id": "9pltCyy2K3dd"
   },
   "source": [
    "## Frame the Problem as Binary Classification\n",
    "\n",
    "The target of our dataset is `median_house_value` which is a numeric (continuous-valued) feature. We can create a boolean label by applying a threshold to this continuous value.\n",
    "\n",
    "Given features describing a city block, we wish to predict if it is a high-cost city block. To prepare the targets for train and eval data, we define a classification threshold of the 75%-ile for median house value (a value of approximately 265000). All house values above the threshold are labeled `1`, and all others are labeled `0`."
   ]
  },
  {
   "cell_type": "markdown",
   "metadata": {
    "colab_type": "text",
    "id": "67IJwZX1Vvjt"
   },
   "source": [
    "## Setup\n",
    "\n",
    "Run the cells below to load the data and prepare the input features and targets."
   ]
  },
  {
   "cell_type": "code",
   "execution_count": 2,
   "metadata": {
    "colab": {
     "autoexec": {
      "startup": false,
      "wait_interval": 0
     }
    },
    "colab_type": "code",
    "id": "fOlbcJ4EIYHd"
   },
   "outputs": [
    {
     "name": "stderr",
     "output_type": "stream",
     "text": [
      "2019-02-27 17:20:20.025307: I tensorflow/core/platform/cpu_feature_guard.cc:141] Your CPU supports instructions that this TensorFlow binary was not compiled to use: SSE4.2 AVX AVX2 FMA\n"
     ]
    }
   ],
   "source": [
    "using Plots\n",
    "using Distributions\n",
    "gr(fmt=:png)\n",
    "using DataFrames\n",
    "using TensorFlow\n",
    "import CSV\n",
    "import StatsBase\n",
    "using PyCall\n",
    "using Random\n",
    "using Statistics\n",
    "\n",
    "sess=Session(Graph())\n",
    "california_housing_dataframe = CSV.read(\"california_housing_train.csv\", delim=\",\");\n",
    "california_housing_dataframe = california_housing_dataframe[shuffle(1:size(california_housing_dataframe, 1)),:];"
   ]
  },
  {
   "cell_type": "markdown",
   "metadata": {
    "colab_type": "text",
    "id": "lTB73MNeIYHf"
   },
   "source": [
    "Note how the code below is slightly different from the previous exercises. Instead of using `median_house_value` as target, we create a new binary target, `median_house_value_is_high`."
   ]
  },
  {
   "cell_type": "code",
   "execution_count": 3,
   "metadata": {
    "colab": {
     "autoexec": {
      "startup": false,
      "wait_interval": 0
     }
    },
    "colab_type": "code",
    "id": "kPSqspaqIYHg"
   },
   "outputs": [
    {
     "data": {
      "text/plain": [
       "preprocess_targets (generic function with 1 method)"
      ]
     },
     "execution_count": 3,
     "metadata": {},
     "output_type": "execute_result"
    }
   ],
   "source": [
    "function preprocess_features(california_housing_dataframe)\n",
    "  \"\"\"Prepares input features from California housing data set.\n",
    "\n",
    "  Args:\n",
    "    california_housing_dataframe: A DataFrame expected to contain data\n",
    "      from the California housing data set.\n",
    "  Returns:\n",
    "    A DataFrame that contains the features to be used for the model, including\n",
    "    synthetic features.\n",
    "  \"\"\"\n",
    "  selected_features = california_housing_dataframe[\n",
    "    [:latitude,\n",
    "     :longitude,\n",
    "     :housing_median_age,\n",
    "     :total_rooms,\n",
    "     :total_bedrooms,\n",
    "     :population,\n",
    "     :households,\n",
    "     :median_income]]\n",
    "  processed_features = selected_features\n",
    "  # Create a synthetic feature.\n",
    "  processed_features[:rooms_per_person] = (\n",
    "    california_housing_dataframe[:total_rooms] ./\n",
    "    california_housing_dataframe[:population])\n",
    "  return processed_features\n",
    "end\n",
    "    \n",
    "\n",
    "function preprocess_targets(california_housing_dataframe)\n",
    "  \"\"\"Prepares target features (i.e., labels) from California housing data set.\n",
    "\n",
    "  Args:\n",
    "    california_housing_dataframe: A DataFrame expected to contain data\n",
    "      from the California housing data set.\n",
    "  Returns:\n",
    "    A DataFrame that contains the target feature.\n",
    "  \"\"\"\n",
    "  output_targets = DataFrame()\n",
    "  # Scale the target to be in units of thousands of dollars.\n",
    "  output_targets[:median_house_value_is_high] = convert.(Float64,\n",
    "    california_housing_dataframe[:median_house_value] .> 265000)\n",
    "  return output_targets\n",
    "end\n"
   ]
  },
  {
   "cell_type": "code",
   "execution_count": 4,
   "metadata": {
    "colab": {
     "autoexec": {
      "startup": false,
      "wait_interval": 0
     }
    },
    "colab_type": "code",
    "id": "FwOYWmXqWA6D",
    "scrolled": false
   },
   "outputs": [
    {
     "name": "stdout",
     "output_type": "stream",
     "text": [
      "Training examples summary:\n",
      "Validation examples summary:\n",
      "Training targets summary:\n",
      "Validation targets summary:\n"
     ]
    },
    {
     "data": {
      "text/html": [
       "<table class=\"data-frame\"><thead><tr><th></th><th>variable</th><th>mean</th><th>min</th><th>median</th><th>max</th><th>nunique</th><th>nmissing</th><th>eltype</th></tr><tr><th></th><th>Symbol</th><th>Float64</th><th>Float64</th><th>Float64</th><th>Float64</th><th>Nothing</th><th>Nothing</th><th>DataType</th></tr></thead><tbody><p>1 rows × 8 columns</p><tr><th>1</th><td>median_house_value_is_high</td><td>0.2424</td><td>0.0</td><td>0.0</td><td>1.0</td><td></td><td></td><td>Float64</td></tr></tbody></table>"
      ],
      "text/latex": [
       "\\begin{tabular}{r|cccccccc}\n",
       "\t& variable & mean & min & median & max & nunique & nmissing & eltype\\\\\n",
       "\t\\hline\n",
       "\t& Symbol & Float64 & Float64 & Float64 & Float64 & Nothing & Nothing & DataType\\\\\n",
       "\t\\hline\n",
       "\t1 & median\\_house\\_value\\_is\\_high & 0.2424 & 0.0 & 0.0 & 1.0 &  &  & Float64 \\\\\n",
       "\\end{tabular}\n"
      ],
      "text/plain": [
       "1×8 DataFrame. Omitted printing of 3 columns\n",
       "│ Row │ variable                   │ mean    │ min     │ median  │ max     │\n",
       "│     │ \u001b[90mSymbol\u001b[39m                     │ \u001b[90mFloat64\u001b[39m │ \u001b[90mFloat64\u001b[39m │ \u001b[90mFloat64\u001b[39m │ \u001b[90mFloat64\u001b[39m │\n",
       "├─────┼────────────────────────────┼─────────┼─────────┼─────────┼─────────┤\n",
       "│ 1   │ median_house_value_is_high │ 0.2424  │ 0.0     │ 0.0     │ 1.0     │"
      ]
     },
     "execution_count": 4,
     "metadata": {},
     "output_type": "execute_result"
    }
   ],
   "source": [
    "# Choose the first 12000 (out of 17000) examples for training.\n",
    "training_examples = preprocess_features(first(california_housing_dataframe,12000))\n",
    "training_targets = preprocess_targets(first(california_housing_dataframe,12000))\n",
    "\n",
    "# Choose the last 5000 (out of 17000) examples for validation.\n",
    "validation_examples = preprocess_features(last(california_housing_dataframe,5000))\n",
    "validation_targets = preprocess_targets(last(california_housing_dataframe,5000))\n",
    "\n",
    "# Double-check that we've done the right thing.\n",
    "println(\"Training examples summary:\")\n",
    "describe(training_examples)\n",
    "println(\"Validation examples summary:\")\n",
    "describe(validation_examples)\n",
    "\n",
    "println(\"Training targets summary:\")\n",
    "describe(training_targets)\n",
    "println(\"Validation targets summary:\")\n",
    "describe(validation_targets)"
   ]
  },
  {
   "cell_type": "markdown",
   "metadata": {
    "colab_type": "text",
    "id": "uon1LB3A31VN"
   },
   "source": [
    "## How Would Linear Regression Fare?\n",
    "To see why logistic regression is effective, let us first train a naive model that uses linear regression. This model will use labels with values in the set `{0, 1}` and will try to predict a continuous value that is as close as possible to `0` or `1`. Furthermore, we wish to interpret the output as a probability, so it would be ideal if the output will be within the range `(0, 1)`. We would then apply a threshold of `0.5` to determine the label.\n",
    "\n",
    "Run the cells below to train the linear regression model."
   ]
  },
  {
   "cell_type": "code",
   "execution_count": 5,
   "metadata": {
    "colab": {
     "autoexec": {
      "startup": false,
      "wait_interval": 0
     }
    },
    "colab_type": "code",
    "id": "smmUYRDtWOV_"
   },
   "outputs": [
    {
     "data": {
      "text/plain": [
       "construct_feature_columns (generic function with 1 method)"
      ]
     },
     "execution_count": 5,
     "metadata": {},
     "output_type": "execute_result"
    }
   ],
   "source": [
    "function construct_feature_columns(input_features)\n",
    "  \"\"\"Construct the TensorFlow Feature Columns.\n",
    "\n",
    "  Args:\n",
    "    input_features: The names of the numerical input features to use.\n",
    "  Returns:\n",
    "    A set of feature columns\n",
    "  \"\"\" \n",
    "  out=convert(Matrix, input_features[:,:])\n",
    "  return convert(Matrix{Float64},out)\n",
    "end    "
   ]
  },
  {
   "cell_type": "code",
   "execution_count": 6,
   "metadata": {},
   "outputs": [
    {
     "data": {
      "text/plain": [
       "create_batches (generic function with 3 methods)"
      ]
     },
     "execution_count": 6,
     "metadata": {},
     "output_type": "execute_result"
    }
   ],
   "source": [
    "function create_batches(features, targets, steps, batch_size=5, num_epochs=0)\n",
    "  \"\"\"Create batches.\n",
    "\n",
    "  Args:\n",
    "    features: Input features.\n",
    "    targets: Target column.\n",
    "    steps: Number of steps.\n",
    "    batch_size: Batch size.\n",
    "    num_epochs: Number of epochs, 0 will let TF automatically calculate the correct number\n",
    "  Returns:\n",
    "    An extended set of feature and target columns from which batches can be extracted.\n",
    "  \"\"\"  \n",
    "    \n",
    "    if(num_epochs==0)\n",
    "        num_epochs=ceil(batch_size*steps/size(features,1))\n",
    "    end\n",
    "    \n",
    "    names_features=names(features);\n",
    "    names_targets=names(targets);\n",
    "    \n",
    "    features_batches=copy(features)\n",
    "    target_batches=copy(targets)\n",
    "    \n",
    "    for i=1:num_epochs    \n",
    "        select=shuffle(1:size(features,1)) \n",
    "        if i==1\n",
    "            features_batches=(features[select,:])\n",
    "            target_batches=(targets[select,:])\n",
    "        else     \n",
    "            append!(features_batches, features[select,:])\n",
    "            append!(target_batches, targets[select,:])\n",
    "        end\n",
    "    end \n",
    "    return features_batches, target_batches \n",
    "end"
   ]
  },
  {
   "cell_type": "code",
   "execution_count": 7,
   "metadata": {},
   "outputs": [
    {
     "data": {
      "text/plain": [
       "next_batch (generic function with 1 method)"
      ]
     },
     "execution_count": 7,
     "metadata": {},
     "output_type": "execute_result"
    }
   ],
   "source": [
    "function next_batch(features_batches, targets_batches, batch_size, iter)\n",
    "  \"\"\"Next batch.\n",
    "\n",
    "  Args:\n",
    "    features_batches: Features batches from create_batches.\n",
    "    targets_batches: Target batches from create_batches.\n",
    "    batch_size: Batch size.\n",
    "    iter: Number of the current iteration\n",
    "  Returns:\n",
    "    An extended set of feature and target columns from which batches can be extracted.\n",
    "  \"\"\"  \n",
    "    select=mod((iter-1)*batch_size+1, size(features_batches,1)):mod(iter*batch_size, size(features_batches,1));\n",
    "\n",
    "    ds=features_batches[select,:];\n",
    "    target=targets_batches[select,:];\n",
    "    \n",
    "    return ds, target\n",
    "end"
   ]
  },
  {
   "cell_type": "code",
   "execution_count": 8,
   "metadata": {},
   "outputs": [
    {
     "data": {
      "text/plain": [
       "my_input_fn (generic function with 3 methods)"
      ]
     },
     "execution_count": 8,
     "metadata": {},
     "output_type": "execute_result"
    }
   ],
   "source": [
    "function my_input_fn(features_batches, targets_batches, iter, batch_size=5, shuffle_flag=1)\n",
    "    \"\"\"Prepares a batch of features and labels for model training.\n",
    "  \n",
    "    Args:\n",
    "      features: DataFrame of features\n",
    "      targets: DataFrame of targets\n",
    "      batch_size: Size of batches to be passed to the model\n",
    "      shuffle: True or False. Whether to shuffle the data.\n",
    "      num_epochs: Number of epochs for which data should be repeated. None = repeat indefinitely\n",
    "    Returns:\n",
    "      Tuple of (features, labels) for next data batch\n",
    "    \"\"\"         \n",
    "    # Construct a dataset, and configure batching/repeating.\n",
    "    ds, target = next_batch(features_batches, targets_batches, batch_size, iter)\n",
    "    \n",
    "    # Shuffle the data, if specified.\n",
    "    if shuffle_flag==1\n",
    "      select=shuffle(1:size(ds, 1));\n",
    "        ds = ds[select,:]\n",
    "        target = target[select, :]\n",
    "    end\n",
    "    \n",
    "    # Return the next batch of data.\n",
    "    return ds, target\n",
    "end"
   ]
  },
  {
   "cell_type": "code",
   "execution_count": 9,
   "metadata": {
    "colab": {
     "autoexec": {
      "startup": false,
      "wait_interval": 0
     }
    },
    "colab_type": "code",
    "id": "SE2-hq8PIYHz"
   },
   "outputs": [
    {
     "data": {
      "text/plain": [
       "train_linear_regressor_model (generic function with 1 method)"
      ]
     },
     "execution_count": 9,
     "metadata": {},
     "output_type": "execute_result"
    }
   ],
   "source": [
    "function train_linear_regressor_model(learning_rate,\n",
    "                     steps, \n",
    "                     batch_size, \n",
    "                     training_examples, \n",
    "                     training_targets, \n",
    "                     validation_examples, \n",
    "                     validation_targets)\n",
    "  \"\"\"Trains a linear regression model of one feature.\n",
    "  \n",
    "  Args:\n",
    "    learning_rate: A `float`, the learning rate.\n",
    "    steps: A non-zero `int`, the total number of training steps. A training step\n",
    "      consists of a forward and backward pass using a single batch.\n",
    "    batch_size: A non-zero `int`, the batch size.\n",
    "    training_examples:\n",
    "    training_targets: \n",
    "    validation_examples: \n",
    "    validation_targets:\n",
    "  Returns:\n",
    "    weight: The weights of the model.\n",
    "    bias: Bias of the model.\n",
    "    p1: Graph containing the loss function values for the different iterations.\n",
    "  \"\"\"\n",
    "  \n",
    "  periods = 10\n",
    "  steps_per_period = steps / periods\n",
    "\n",
    "  # Create feature columns.\n",
    "  feature_columns = placeholder(Float32)\n",
    "  target_columns = placeholder(Float32)\n",
    "  \n",
    "  # Create a linear regressor object.\n",
    "  m=Variable(zeros(size(training_examples,2),1))\n",
    "  b=Variable(0.0)\n",
    "  y=(feature_columns*m) .+ b\n",
    "  loss=reduce_sum((target_columns - y).^2)\n",
    "  \n",
    "  features_batches, targets_batches = create_batches(training_examples, training_targets, steps, batch_size)\n",
    "    \n",
    "  # Use gradient descent as the optimizer for training the model.\n",
    "  # Advanced gradient decent with gradient clipping\n",
    "    my_optimizer=(train.GradientDescentOptimizer(learning_rate))\n",
    "    gvs = train.compute_gradients(my_optimizer, loss)\n",
    "    capped_gvs = [(clip_by_norm(grad, 5.), var) for (grad, var) in gvs]\n",
    "    my_optimizer = train.apply_gradients(my_optimizer,capped_gvs) \n",
    "    run(sess, global_variables_initializer())\n",
    "    \n",
    "  # Train the model, but do so inside a loop so that we can periodically assess\n",
    "  # loss metrics.\n",
    "  println(\"Training model...\")\n",
    "  println(\"RMSE (on training data):\")\n",
    "  training_rmse = []\n",
    "  validation_rmse=[]\n",
    "  for period in 1:periods\n",
    "    # Train the model, starting from the prior state.\n",
    "   for i=1:steps_per_period\n",
    "    features, labels = my_input_fn(features_batches, targets_batches, convert(Int,(period-1)*steps_per_period+i), batch_size)\n",
    "    run(sess, my_optimizer, Dict(feature_columns=>construct_feature_columns(features), target_columns=>construct_feature_columns(labels)))\n",
    "   end\n",
    "    # Take a break and compute predictions.\n",
    "    training_predictions = run(sess, y, Dict(feature_columns=> construct_feature_columns(training_examples)));    \n",
    "    validation_predictions = run(sess, y, Dict(feature_columns=> construct_feature_columns(validation_examples)));  \n",
    "        \n",
    "    # Compute loss.\n",
    "     training_mean_squared_error = mean((training_predictions- construct_feature_columns(training_targets)).^2)\n",
    "     training_root_mean_squared_error = sqrt(training_mean_squared_error)\n",
    "     validation_mean_squared_error = mean((validation_predictions- construct_feature_columns(validation_targets)).^2)\n",
    "     validation_root_mean_squared_error = sqrt(validation_mean_squared_error)\n",
    "    # Occasionally print the current loss.\n",
    "    println(\"  period \", period, \": \", training_root_mean_squared_error)\n",
    "    # Add the loss metrics from this period to our list.\n",
    "    push!(training_rmse, training_root_mean_squared_error)\n",
    "    push!(validation_rmse, validation_root_mean_squared_error)\n",
    " end\n",
    " \n",
    "  weight = run(sess,m)\n",
    "  bias = run(sess,b)\n",
    "    \n",
    "  println(\"Model training finished.\")\n",
    "\n",
    "  # Output a graph of loss metrics over periods.\n",
    "  p1=plot(training_rmse, label=\"training\", title=\"Root Mean Squared Error vs. Periods\", ylabel=\"RMSE\", xlabel=\"Periods\")\n",
    "  p1=plot!(validation_rmse, label=\"validation\")\n",
    "    \n",
    "  println(\"Final RMSE (on training data): \", training_rmse[end])\n",
    "  println(\"Final Weight (on training data): \", weight)\n",
    "  println(\"Final Bias (on training data): \", bias)\n",
    "     \n",
    "  return weight, bias, p1 #, calibration_data   \n",
    "end"
   ]
  },
  {
   "cell_type": "code",
   "execution_count": 10,
   "metadata": {},
   "outputs": [
    {
     "name": "stderr",
     "output_type": "stream",
     "text": [
      "┌ Warning: `getindex(o::PyObject, s::Symbol)` is deprecated in favor of dot overloading (`getproperty`) so elements should now be accessed as e.g. `o.s` instead of `o[:s]`.\n",
      "│   caller = (::getfield(Serialization.__deserialized_types__, Symbol(\"##9#10\")))() at TensorFlow.jl:190\n",
      "└ @ Main ~/.julia/dev/TensorFlow/src/TensorFlow.jl:190\n",
      "┌ Warning: `getindex(o::PyObject, s::Symbol)` is deprecated in favor of dot overloading (`getproperty`) so elements should now be accessed as e.g. `o.s` instead of `o[:s]`.\n",
      "│   caller = make_py_graph(::Array{UInt8,1}) at py.jl:51\n",
      "└ @ Main ~/.julia/dev/TensorFlow/src/py.jl:51\n",
      "┌ Warning: `getindex(o::PyObject, s::Symbol)` is deprecated in favor of dot overloading (`getproperty`) so elements should now be accessed as e.g. `o.s` instead of `o[:s]`.\n",
      "│   caller = make_py_graph(::Array{UInt8,1}) at py.jl:52\n",
      "└ @ Main ~/.julia/dev/TensorFlow/src/py.jl:52\n",
      "┌ Warning: `getindex(o::PyObject, s::Symbol)` is deprecated in favor of dot overloading (`getproperty`) so elements should now be accessed as e.g. `o.s` instead of `o[:s]`.\n",
      "│   caller = py_with(::getfield(Main, Symbol(\"##3#4\")){Array{UInt8,1}}, ::PyObject) at py.jl:19\n",
      "└ @ Main ~/.julia/dev/TensorFlow/src/py.jl:19\n",
      "┌ Warning: `getindex(o::PyObject, s::Symbol)` is deprecated in favor of dot overloading (`getproperty`) so elements should now be accessed as e.g. `o.s` instead of `o[:s]`.\n",
      "│   caller = (::getfield(Main, Symbol(\"##3#4\")){Array{UInt8,1}})() at py.jl:54\n",
      "└ @ Main ~/.julia/dev/TensorFlow/src/py.jl:54\n",
      "┌ Warning: `getindex(o::PyObject, s::Symbol)` is deprecated in favor of dot overloading (`getproperty`) so elements should now be accessed as e.g. `o.s` instead of `o[:s]`.\n",
      "│   caller = (::getfield(Main, Symbol(\"##3#4\")){Array{UInt8,1}})() at py.jl:54\n",
      "└ @ Main ~/.julia/dev/TensorFlow/src/py.jl:54\n",
      "┌ Warning: `getindex(o::PyObject, s::Symbol)` is deprecated in favor of dot overloading (`getproperty`) so elements should now be accessed as e.g. `o.s` instead of `o[:s]`.\n",
      "│   caller = (::getfield(Main, Symbol(\"##3#4\")){Array{UInt8,1}})() at py.jl:54\n",
      "└ @ Main ~/.julia/dev/TensorFlow/src/py.jl:54\n",
      "┌ Warning: `getindex(o::PyObject, s::Symbol)` is deprecated in favor of dot overloading (`getproperty`) so elements should now be accessed as e.g. `o.s` instead of `o[:s]`.\n",
      "│   caller = (::getfield(Main, Symbol(\"##3#4\")){Array{UInt8,1}})() at py.jl:55\n",
      "└ @ Main ~/.julia/dev/TensorFlow/src/py.jl:55\n",
      "┌ Warning: `getindex(o::PyObject, s::Symbol)` is deprecated in favor of dot overloading (`getproperty`) so elements should now be accessed as e.g. `o.s` instead of `o[:s]`.\n",
      "│   caller = (::getfield(Main, Symbol(\"##3#4\")){Array{UInt8,1}})() at py.jl:42\n",
      "└ @ Main ~/.julia/dev/TensorFlow/src/py.jl:42\n",
      "┌ Warning: `getindex(o::PyObject, s::Symbol)` is deprecated in favor of dot overloading (`getproperty`) so elements should now be accessed as e.g. `o.s` instead of `o[:s]`.\n",
      "│   caller = (::getfield(Main, Symbol(\"##3#4\")){Array{UInt8,1}})() at py.jl:42\n",
      "└ @ Main ~/.julia/dev/TensorFlow/src/py.jl:42\n",
      "┌ Warning: `getindex(o::PyObject, s::Symbol)` is deprecated in favor of dot overloading (`getproperty`) so elements should now be accessed as e.g. `o.s` instead of `o[:s]`.\n",
      "│   caller = py_with(::getfield(Main, Symbol(\"##3#4\")){Array{UInt8,1}}, ::PyObject) at py.jl:21\n",
      "└ @ Main ~/.julia/dev/TensorFlow/src/py.jl:21\n",
      "┌ Warning: `getindex(o::PyObject, s::Symbol)` is deprecated in favor of dot overloading (`getproperty`) so elements should now be accessed as e.g. `o.s` instead of `o[:s]`.\n",
      "│   caller = (::getfield(Main, Symbol(\"#to_py_node#5\")){PyObject})(::Tuple{String,Int64}) at py.jl:77\n",
      "└ @ Main ~/.julia/dev/TensorFlow/src/py.jl:77\n",
      "┌ Warning: `getindex(o::PyObject, s::Symbol)` is deprecated in favor of dot overloading (`getproperty`) so elements should now be accessed as e.g. `o.s` instead of `o[:s]`.\n",
      "│   caller = py_gradients(::Array{UInt8,1}, ::Array{Tuple{String,Int64},1}, ::Tuple{String,Int64}, ::Nothing) at py.jl:42\n",
      "└ @ Main ~/.julia/dev/TensorFlow/src/py.jl:42\n",
      "┌ Warning: `getindex(o::PyObject, s::Symbol)` is deprecated in favor of dot overloading (`getproperty`) so elements should now be accessed as e.g. `o.s` instead of `o[:s]`.\n",
      "│   caller = py_gradients(::Array{UInt8,1}, ::Array{Tuple{String,Int64},1}, ::Tuple{String,Int64}, ::Nothing) at py.jl:85\n",
      "└ @ Main ~/.julia/dev/TensorFlow/src/py.jl:85\n",
      "┌ Warning: `getindex(o::PyObject, s::Symbol)` is deprecated in favor of dot overloading (`getproperty`) so elements should now be accessed as e.g. `o.s` instead of `o[:s]`.\n",
      "│   caller = py_gradients(::Array{UInt8,1}, ::Array{Tuple{String,Int64},1}, ::Tuple{String,Int64}, ::Nothing) at py.jl:93\n",
      "└ @ Main ~/.julia/dev/TensorFlow/src/py.jl:93\n",
      "┌ Warning: `getindex(o::PyObject, s::Symbol)` is deprecated in favor of dot overloading (`getproperty`) so elements should now be accessed as e.g. `o.s` instead of `o[:s]`.\n",
      "│   caller = py_gradients(::Array{UInt8,1}, ::Array{Tuple{String,Int64},1}, ::Tuple{String,Int64}, ::Nothing) at py.jl:95\n",
      "└ @ Main ~/.julia/dev/TensorFlow/src/py.jl:95\n",
      "┌ Warning: `getindex(o::PyObject, s::Symbol)` is deprecated in favor of dot overloading (`getproperty`) so elements should now be accessed as e.g. `o.s` instead of `o[:s]`.\n",
      "│   caller = to_protos(::PyObject) at py.jl:63\n",
      "└ @ Main ~/.julia/dev/TensorFlow/src/py.jl:63\n",
      "┌ Warning: `getindex(o::PyObject, s::Symbol)` is deprecated in favor of dot overloading (`getproperty`) so elements should now be accessed as e.g. `o.s` instead of `o[:s]`.\n",
      "│   caller = to_protos(::PyObject) at py.jl:68\n",
      "└ @ Main ~/.julia/dev/TensorFlow/src/py.jl:68\n"
     ]
    },
    {
     "name": "stdout",
     "output_type": "stream",
     "text": [
      "Training model...\n",
      "RMSE (on training data):\n",
      "  period 1: 0.45051341666072875\n",
      "  period 2: 0.45182177085209174\n",
      "  period 3: 0.44677893375310757\n",
      "  period 4: 0.44500355042433554\n",
      "  period 5: 0.4441858553929224\n",
      "  period 6: 0.4436945450616647\n",
      "  period 7: 0.4439450480963754\n",
      "  period 8: 0.45147257346713643\n",
      "  period 9: 0.4414136722731065\n",
      "  period 10: 0.4434176213764645\n",
      "Model training finished.\n",
      "Final RMSE (on training data): 0.4434176213764645\n",
      "Final Weight (on training data): [1.0837e-5; -3.77549e-5; 1.4566e-5; 0.000127498; -1.4785e-5; -9.54911e-5; 4.20284e-6; 2.93941e-6; 8.78804e-7]\n",
      "Final Bias (on training data): 0.0004503312421493125\n"
     ]
    },
    {
     "data": {
      "text/plain": [
       "([1.0837e-5; -3.77549e-5; … ; 2.93941e-6; 8.78804e-7], 0.0004503312421493125, Plot{Plots.GRBackend() n=2})"
      ]
     },
     "execution_count": 10,
     "metadata": {},
     "output_type": "execute_result"
    }
   ],
   "source": [
    "weight, bias, p1 = train_linear_regressor_model(\n",
    "    0.000001, #learning rate\n",
    "    200, #steps\n",
    "    20, #batch_size\n",
    "    training_examples,\n",
    "    training_targets,\n",
    "    validation_examples,\n",
    "    validation_targets)"
   ]
  },
  {
   "cell_type": "code",
   "execution_count": 11,
   "metadata": {},
   "outputs": [
    {
     "data": {
      "image/png": "[encoded data removed]"
     },
     "execution_count": 11,
     "metadata": {},
     "output_type": "execute_result"
    }
   ],
   "source": [
    "plot(p1)"
   ]
  },
  {
   "cell_type": "markdown",
   "metadata": {
    "colab_type": "text",
    "id": "JjBZ_q7aD9gh"
   },
   "source": [
    "## Task 1: Can We Calculate LogLoss for These Predictions?\n",
    "\n",
    "**Examine the predictions and decide whether or not we can use them to calculate LogLoss.**\n",
    "\n",
    "A linear regression model uses the L2 loss, which doesn't do a great job at penalizing misclassifications when the output is interpreted as a probability.  For example, there should be a huge difference whether a negative example is classified as positive with a probability of 0.9 vs 0.9999, but L2 loss doesn't strongly differentiate these cases.\n",
    "\n",
    "In contrast, `LogLoss` penalizes these \"confidence errors\" much more heavily.  Remember, `LogLoss` is defined as:\n",
    "\n",
    "$$Log Loss = \\sum_{(x,y)\\in D} -y \\cdot log(y_{pred}) - (1 - y) \\cdot log(1 - y_{pred})$$\n",
    "\n",
    "\n",
    "But first, we'll need to obtain the prediction values. We could use `LinearRegressor.predict` to obtain these.\n",
    "\n",
    "Given the predictions and that targets, can we calculate `LogLoss`?"
   ]
  },
  {
   "cell_type": "markdown",
   "metadata": {
    "colab_type": "text",
    "id": "dPpJUV862FYI"
   },
   "source": [
    "### Solution\n",
    "\n",
    "Click below to display the solution."
   ]
  },
  {
   "cell_type": "code",
   "execution_count": 12,
   "metadata": {
    "colab": {
     "autoexec": {
      "startup": false,
      "wait_interval": 0
     }
    },
    "colab_type": "code",
    "id": "kXFQ5uig2RoP",
    "scrolled": false
   },
   "outputs": [
    {
     "data": {
      "text/plain": [
       "4.726746671464179"
      ]
     },
     "execution_count": 12,
     "metadata": {},
     "output_type": "execute_result"
    }
   ],
   "source": [
    "validation_predictions = (construct_feature_columns(validation_examples)*weight .+ bias) .> 0.5 \n",
    "convert.(Float64, validation_predictions)\n",
    "\n",
    "eps=1E-8\n",
    "validation_log_loss=-mean(log.(validation_predictions.+eps).*construct_feature_columns(validation_targets) + log.(1 .-validation_predictions.+eps).*(1 .-construct_feature_columns(validation_targets))) "
   ]
  },
  {
   "cell_type": "markdown",
   "metadata": {
    "colab_type": "text",
    "id": "rYpy336F9wBg"
   },
   "source": [
    "## Task 2: Train a Logistic Regression Model and Calculate LogLoss on the Validation Set\n",
    "\n",
    "To use logistic regression, we construct a model with a log loss function below.\n"
   ]
  },
  {
   "cell_type": "code",
   "execution_count": 13,
   "metadata": {
    "colab": {
     "autoexec": {
      "startup": false,
      "wait_interval": 0
     }
    },
    "colab_type": "code",
    "id": "JElcb--E9wBm"
   },
   "outputs": [
    {
     "data": {
      "text/plain": [
       "train_linear_classifier_model (generic function with 1 method)"
      ]
     },
     "execution_count": 13,
     "metadata": {},
     "output_type": "execute_result"
    }
   ],
   "source": [
    "function train_linear_classifier_model(learning_rate,\n",
    "                     steps, \n",
    "                     batch_size, \n",
    "                     training_examples, \n",
    "                     training_targets, \n",
    "                     validation_examples, \n",
    "                     validation_targets)\n",
    "  \"\"\"Trains a linear classifier model of one feature.\n",
    "  \n",
    "  Args:\n",
    "    learning_rate: A `float`, the learning rate.\n",
    "    steps: A non-zero `int`, the total number of training steps. A training step\n",
    "      consists of a forward and backward pass using a single batch.\n",
    "    batch_size: A non-zero `int`, the batch size.\n",
    "    training_examples:\n",
    "    training_targets: \n",
    "    validation_examples: \n",
    "    validation_targets:\n",
    "  Returns:\n",
    "    weight: The weights of the model.\n",
    "    bias: Bias of the model.\n",
    "    validation_probabilities: Probabilities for the validation data.\n",
    "    p1: Graph containing the loss function values for the different iterations.\n",
    "  \"\"\"\n",
    "  \n",
    "  periods = 10\n",
    "  steps_per_period = steps / periods\n",
    "\n",
    "  # Create feature columns.\n",
    "  feature_columns = placeholder(Float32)\n",
    "  target_columns = placeholder(Float32)\n",
    "  eps=1E-8\n",
    "  \n",
    "  # Create a linear classifier object.\n",
    "  # Configure the linear regression model with our feature columns and optimizer. \n",
    "  m=Variable(zeros(size(training_examples,2),1).+0.0)\n",
    "  b=Variable(0.0)\n",
    "\n",
    "  ytemp=nn.sigmoid(feature_columns*m + b)\n",
    "  y= clip_by_value(ytemp, 0.0, 1.0)\n",
    "  loss = -reduce_mean(log(y+eps).*target_columns + log(1-y+eps).*(1-target_columns)) \n",
    "\n",
    "  features_batches, targets_batches = create_batches(training_examples, training_targets, steps, batch_size)\n",
    "    \n",
    "  # Adam optimizer with gradient clipping\n",
    "  my_optimizer=(train.AdamOptimizer(learning_rate))\n",
    "  gvs = train.compute_gradients(my_optimizer, loss)\n",
    "  capped_gvs = [(clip_by_norm(grad, 5.0), var) for (grad, var) in gvs]\n",
    "  my_optimizer = train.apply_gradients(my_optimizer,capped_gvs) \n",
    "  run(sess, global_variables_initializer()) #this needs to be run after constructing the optimizer!\n",
    "    \n",
    "  # Train the model, but do so inside a loop so that we can periodically assess\n",
    "  # loss metrics.\n",
    "  println(\"Training model...\")\n",
    "  println(\"LogLoss (on training data):\")\n",
    "  training_log_losses = []\n",
    "  validation_log_losses=[]\n",
    "  for period in 1:periods\n",
    "    # Train the model, starting from the prior state.\n",
    "   for i=1:steps_per_period\n",
    "    features, labels = my_input_fn(features_batches, targets_batches, convert(Int,(period-1)*steps_per_period+i), batch_size)\n",
    "    run(sess, my_optimizer, Dict(feature_columns=>construct_feature_columns(features), target_columns=>construct_feature_columns(labels)))\n",
    "   end\n",
    "    # Take a break and compute predictions.\n",
    "    training_probabilities = run(sess, y, Dict(feature_columns=> construct_feature_columns(training_examples)));    \n",
    "    validation_probabilities = run(sess, y, Dict(feature_columns=> construct_feature_columns(validation_examples)));  \n",
    "        \n",
    "    # Compute loss.\n",
    "     training_log_loss=run(sess,loss,Dict(feature_columns=> construct_feature_columns(training_examples), target_columns=>construct_feature_columns(training_targets)))\n",
    "     validation_log_loss =run(sess,loss,Dict(feature_columns=> construct_feature_columns(validation_examples), target_columns=>construct_feature_columns(validation_targets)))\n",
    "        \n",
    "    # Occasionally print the current loss.\n",
    "    println(\"  period \", period, \": \", training_log_loss)\n",
    "    weight = run(sess,m)\n",
    "    bias = run(sess,b)\n",
    "        \n",
    "    loss_val=run(sess,loss,Dict(feature_columns=> construct_feature_columns(training_examples), target_columns=>construct_feature_columns(training_targets)))\n",
    "        \n",
    "    # Add the loss metrics from this period to our list.\n",
    "    push!(training_log_losses, training_log_loss)\n",
    "    push!(validation_log_losses, validation_log_loss)\n",
    " end\n",
    "\n",
    "  weight = run(sess,m)\n",
    "  bias = run(sess,b)\n",
    "  \n",
    "  println(\"Model training finished.\")\n",
    "\n",
    "  # Output a graph of loss metrics over periods.\n",
    "  p1=plot(training_log_losses, label=\"training\", title=\"LogLoss vs. Periods\", ylabel=\"LogLoss\", xlabel=\"Periods\")\n",
    "  p1=plot!(validation_log_losses, label=\"validation\")\n",
    "\n",
    "  println(\"Final LogLoss (on training data): \", training_log_losses[end])\n",
    "    \n",
    "  # calculate additional ouputs\n",
    "  validation_probabilities = run(sess, y, Dict(feature_columns=> construct_feature_columns(validation_examples)));    \n",
    "    \n",
    "  return weight, bias, validation_probabilities, p1 #, calibration_data   \n",
    "end"
   ]
  },
  {
   "cell_type": "code",
   "execution_count": 14,
   "metadata": {
    "colab": {
     "autoexec": {
      "startup": false,
      "wait_interval": 0
     }
    },
    "colab_type": "code",
    "id": "VM0wmnFUIYH9"
   },
   "outputs": [
    {
     "name": "stdout",
     "output_type": "stream",
     "text": [
      "Training model...\n",
      "LogLoss (on training data):\n",
      "  period 1: 0.6094288971718198\n",
      "  period 2: 0.599245330619635\n",
      "  period 3: 0.5907661769938415\n",
      "  period 4: 0.5833044266780119\n",
      "  period 5: 0.5710450766404077\n",
      "  period 6: 0.5683473572721645\n",
      "  period 7: 0.5578244955218272\n",
      "  period 8: 0.5504936047681086\n",
      "  period 9: 0.5465360894364992\n",
      "  period 10: 0.5420948374829867\n",
      "Model training finished.\n",
      "Final LogLoss (on training data): 0.5420948374829867\n"
     ]
    },
    {
     "data": {
      "text/plain": [
       "([-0.00127667; 0.00123746; … ; 0.000867458; -0.000551008], -0.0010060539207253172, [0.333127; 0.361935; … ; 0.292873; 0.207277], Plot{Plots.GRBackend() n=2})"
      ]
     },
     "execution_count": 14,
     "metadata": {},
     "output_type": "execute_result"
    }
   ],
   "source": [
    "weight, bias, validation_probabilities,  p1 = train_linear_classifier_model(\n",
    "    0.000005, #learning rate\n",
    "    500, #steps\n",
    "    20, #batch_size\n",
    "    training_examples,\n",
    "    training_targets,\n",
    "    validation_examples,\n",
    "    validation_targets)"
   ]
  },
  {
   "cell_type": "code",
   "execution_count": 15,
   "metadata": {},
   "outputs": [
    {
     "data": {
      "image/png": "[encoded data removed]"
     },
     "execution_count": 15,
     "metadata": {},
     "output_type": "execute_result"
    }
   ],
   "source": [
    "plot(p1)"
   ]
  },
  {
   "cell_type": "markdown",
   "metadata": {
    "colab_type": "text",
    "id": "i-Xo83_aR6s_"
   },
   "source": [
    "## Task 3: Calculate Accuracy and plot a ROC Curve for the Validation Set\n",
    "\n",
    "A few of the metrics useful for classification are the model [accuracy](https://en.wikipedia.org/wiki/Accuracy_and_precision#In_binary_classification), the [ROC curve](https://en.wikipedia.org/wiki/Receiver_operating_characteristic) and the area under the ROC curve (AUC). We'll examine these metrics.\n",
    "\n",
    "First, we need to convert probabilities back to 0/1 labels:"
   ]
  },
  {
   "cell_type": "code",
   "execution_count": 16,
   "metadata": {},
   "outputs": [
    {
     "data": {
      "text/plain": [
       "castto01 (generic function with 1 method)"
      ]
     },
     "execution_count": 16,
     "metadata": {},
     "output_type": "execute_result"
    }
   ],
   "source": [
    "# Function for converting probabilities to 0/1 decision\n",
    "function castto01(probabilities)\n",
    "    out=copy(probabilities)\n",
    "    for i=1:length(probabilities)\n",
    "        if(probabilities[i]<0.5)\n",
    "            out[i]=0\n",
    "        else\n",
    "            out[i]=1\n",
    "        end\n",
    "    end\n",
    "    return out\n",
    "end    "
   ]
  },
  {
   "cell_type": "markdown",
   "metadata": {},
   "source": [
    "We use `sklearn`'s metric functions to calculate the ROC curve."
   ]
  },
  {
   "cell_type": "code",
   "execution_count": 17,
   "metadata": {
    "colab": {
     "autoexec": {
      "startup": false,
      "wait_interval": 0
     }
    },
    "colab_type": "code",
    "id": "xaU7ttj8IYIF"
   },
   "outputs": [],
   "source": [
    "sklm=pyimport(\"sklearn.metrics\")\n",
    "evaluation_metrics=DataFrame()\n",
    "false_positive_rate, true_positive_rate, thresholds = sklm.roc_curve(\n",
    "    vec(construct_feature_columns(validation_targets)), vec(validation_probabilities))\n",
    "evaluation_metrics[:auc]=sklm.roc_auc_score(construct_feature_columns(validation_targets), vec(validation_probabilities))\n",
    "validation_predictions=castto01(validation_probabilities);\n",
    "evaluation_metrics[:accuracy]=sum(1 .-(construct_feature_columns(validation_targets)-validation_predictions))/length(validation_predictions);\n",
    "p2=plot(false_positive_rate, true_positive_rate, label=\"our model\")\n",
    "p2=plot!([0, 1], [0, 1], label=\"random classifier\");"
   ]
  },
  {
   "cell_type": "code",
   "execution_count": 18,
   "metadata": {
    "colab": {
     "autoexec": {
      "startup": false,
      "wait_interval": 0
     }
    },
    "colab_type": "code",
    "id": "DKSQ87VVIYIA"
   },
   "outputs": [
    {
     "name": "stdout",
     "output_type": "stream",
     "text": [
      "AUC on the validation set: [0.681192]\n",
      "Accuracy on the validation set: [0.7672]\n"
     ]
    }
   ],
   "source": [
    "#evaluation_metrics = linear_classifier.evaluate(input_fn=predict_validation_input_fn)\n",
    "println(\"AUC on the validation set: \",  evaluation_metrics[:auc])\n",
    "println(\"Accuracy on the validation set: \", evaluation_metrics[:accuracy])"
   ]
  },
  {
   "cell_type": "code",
   "execution_count": 19,
   "metadata": {},
   "outputs": [
    {
     "data": {
      "image/png": "[encoded data removed]"
     },
     "execution_count": 19,
     "metadata": {},
     "output_type": "execute_result"
    }
   ],
   "source": [
    "plot(p2)"
   ]
  },
  {
   "cell_type": "markdown",
   "metadata": {
    "colab_type": "text",
    "id": "PIdhwfgzIYII"
   },
   "source": [
    "**See if you can tune the learning settings of the model trained at Task 2 to improve AUC.**\n",
    "\n",
    "Often, certain metrics improve at the detriment of others, and you'll need to find the settings that achieve a good compromise.\n",
    "\n",
    "**Verify if all metrics improve at the same time.**"
   ]
  },
  {
   "cell_type": "markdown",
   "metadata": {
    "colab_type": "text",
    "id": "VHosS1g2aetf"
   },
   "source": [
    "One possible solution that works is to just train for longer, as long as we don't overfit. \n",
    "\n",
    "We can do this by increasing the number the steps, the batch size, or both.\n",
    "\n",
    "All metrics improve at the same time, so our loss metric is a good proxy\n",
    "for both AUC and accuracy.\n",
    "\n",
    "Notice how it takes many, many more iterations just to squeeze a few more \n",
    "units of AUC. This commonly happens. But often even this small gain is worth \n",
    "the costs."
   ]
  },
  {
   "cell_type": "code",
   "execution_count": 20,
   "metadata": {
    "colab": {
     "autoexec": {
      "startup": false,
      "wait_interval": 0
     }
    },
    "colab_type": "code",
    "id": "XKIqjsqcCaxO"
   },
   "outputs": [
    {
     "name": "stdout",
     "output_type": "stream",
     "text": [
      "Training model...\n",
      "LogLoss (on training data):\n",
      "  period 1: 0.493267901770338\n",
      "  period 2: 0.4785776549933992\n",
      "  period 3: 0.46996659641396493\n",
      "  period 4: 0.4642673725732476\n",
      "  period 5: 0.45983209741733316\n",
      "  period 6: 0.4567572559867093\n",
      "  period 7: 0.4544268354348158\n",
      "  period 8: 0.4524115786296243\n",
      "  period 9: 0.45081088667431535\n",
      "  period 10: 0.449398109543153\n",
      "Model training finished.\n",
      "Final LogLoss (on training data): 0.449398109543153\n",
      "AUC on the validation set: [0.821896]\n",
      "Accuracy on the validation set: [0.8642]\n"
     ]
    }
   ],
   "source": [
    "# TUNE THE SETTINGS BELOW TO IMPROVE AUC\n",
    "weight, bias, validation_probabilities,  p1 = train_linear_classifier_model(\n",
    "    0.000003, #learning rate\n",
    "    20000, #steps\n",
    "    500, #batch_size\n",
    "    training_examples,\n",
    "    training_targets,\n",
    "    validation_examples,\n",
    "    validation_targets)\n",
    "\n",
    "evaluation_metrics=DataFrame()\n",
    "validation_predictions=castto01(validation_probabilities);\n",
    "evaluation_metrics[:accuracy]=sum(1 .-(construct_feature_columns(validation_targets)-validation_predictions))/length(validation_predictions);\n",
    "evaluation_metrics[:auc]=sklm.roc_auc_score(construct_feature_columns(validation_targets), vec(validation_probabilities))\n",
    "false_positive_rate, true_positive_rate, thresholds = sklm.roc_curve(\n",
    "    vec(construct_feature_columns(validation_targets)), vec(validation_probabilities))\n",
    "p2=plot(false_positive_rate, true_positive_rate, label=\"our model\")\n",
    "p2=plot!([0, 1], [0, 1], label=\"random classifier\");\n",
    "\n",
    "println(\"AUC on the validation set: \",  evaluation_metrics[:auc])\n",
    "println(\"Accuracy on the validation set: \", evaluation_metrics[:accuracy])"
   ]
  },
  {
   "cell_type": "code",
   "execution_count": 21,
   "metadata": {
    "scrolled": false
   },
   "outputs": [
    {
     "data": {
      "image/png": "[encoded data removed]"
     },
     "execution_count": 21,
     "metadata": {},
     "output_type": "execute_result"
    }
   ],
   "source": [
    "plot(p1)"
   ]
  },
  {
   "cell_type": "code",
   "execution_count": 22,
   "metadata": {},
   "outputs": [
    {
     "data": {
      "image/png": "[encoded data removed]"
     },
     "execution_count": 22,
     "metadata": {},
     "output_type": "execute_result"
    }
   ],
   "source": [
    "plot(p2)"
   ]
  },
  {
   "cell_type": "code",
   "execution_count": 23,
   "metadata": {},
   "outputs": [],
   "source": [
    "#EOF"
   ]
  }
 ],
 "metadata": {
  "colab": {
   "collapsed_sections": [
    "JndnmDMp66FL",
    "dPpJUV862FYI",
    "i2e3TlyL57Qs",
    "wCugvl0JdWYL"
   ],
   "default_view": {},
   "name": "5. Logistic Regression.ipynb",
   "provenance": [
    {
     "file_id": "/v2/external/notebooks/mlcc/logistic_regression.ipynb",
     "timestamp": 1530130293612
    }
   ],
   "version": "0.3.2",
   "views": {}
  },
  "kernelspec": {
   "display_name": "Julia 1.1.0",
   "language": "julia",
   "name": "julia-1.1"
  },
  "language_info": {
   "file_extension": ".jl",
   "mimetype": "application/julia",
   "name": "julia",
   "version": "1.1.0"
  }
 },
 "nbformat": 4,
 "nbformat_minor": 1
}
