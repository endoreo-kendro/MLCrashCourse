{
 "cells": [
  {
   "cell_type": "markdown",
   "metadata": {
    "colab_type": "text",
    "id": "JndnmDMp66FL"
   },
   "source": [
    "This notebook is based on the file [Feature sets programming exercise](https://colab.research.google.com/notebooks/mlcc/feature_sets.ipynb?utm_source=mlcc&utm_campaign=colab-external&utm_medium=referral&utm_content=featuresets-colab&hl=en), which is part of Google's [Machine Learning Crash Course](https://developers.google.com/machine-learning/crash-course/)."
   ]
  },
  {
   "cell_type": "code",
   "execution_count": 1,
   "metadata": {
    "cellView": "both",
    "colab": {
     "autoexec": {
      "startup": false,
      "wait_interval": 0
     }
    },
    "colab_type": "code",
    "id": "hMqWDc_m6rUC"
   },
   "outputs": [],
   "source": [
    "# Licensed under the Apache License, Version 2.0 (the \"License\");\n",
    "# you may not use this file except in compliance with the License.\n",
    "# You may obtain a copy of the License at\n",
    "#\n",
    "# https://www.apache.org/licenses/LICENSE-2.0\n",
    "#\n",
    "# Unless required by applicable law or agreed to in writing, software\n",
    "# distributed under the License is distributed on an \"AS IS\" BASIS,\n",
    "# WITHOUT WARRANTIES OR CONDITIONS OF ANY KIND, either express or implied.\n",
    "# See the License for the specific language governing permissions and\n",
    "# limitations under the License."
   ]
  },
  {
   "cell_type": "markdown",
   "metadata": {
    "colab_type": "text",
    "id": "zbIgBK-oXHO7"
   },
   "source": [
    "# Feature Sets"
   ]
  },
  {
   "cell_type": "markdown",
   "metadata": {
    "colab_type": "text",
    "id": "bL04rAQwH3pH"
   },
   "source": [
    "**Learning Objective:** Create a minimal set of features that performs just as well as a more complex feature set"
   ]
  },
  {
   "cell_type": "markdown",
   "metadata": {
    "colab_type": "text",
    "id": "F8Hci6tAH3pH"
   },
   "source": [
    "So far, we've thrown all of our features into the model. Models with fewer features use fewer resources and are easier to maintain. Let's see if we can build a model on a minimal set of housing features that will perform equally as well as one that uses all the features in the data set."
   ]
  },
  {
   "cell_type": "markdown",
   "metadata": {
    "colab_type": "text",
    "id": "F5ZjVwK_qOyR"
   },
   "source": [
    "## Setup\n",
    "\n",
    "As before, let's load and prepare the California housing data."
   ]
  },
  {
   "cell_type": "code",
   "execution_count": 2,
   "metadata": {
    "colab": {
     "autoexec": {
      "startup": false,
      "wait_interval": 0
     }
    },
    "colab_type": "code",
    "id": "SrOYRILAH3pJ"
   },
   "outputs": [
    {
     "name": "stderr",
     "output_type": "stream",
     "text": [
      "2019-02-24 14:04:48.236897: I tensorflow/core/platform/cpu_feature_guard.cc:141] Your CPU supports instructions that this TensorFlow binary was not compiled to use: SSE4.2 AVX AVX2 FMA\n"
     ]
    }
   ],
   "source": [
    "using Plots\n",
    "gr(fmt=:png)\n",
    "using DataFrames\n",
    "using TensorFlow\n",
    "import CSV\n",
    "import StatsBase\n",
    "using Random\n",
    "using Statistics\n",
    "\n",
    "sess=Session()\n",
    "california_housing_dataframe = CSV.read(\"california_housing_train.csv\", delim=\",\");\n",
    "california_housing_dataframe = california_housing_dataframe[shuffle(1:size(california_housing_dataframe, 1)),:];"
   ]
  },
  {
   "cell_type": "code",
   "execution_count": 3,
   "metadata": {
    "colab": {
     "autoexec": {
      "startup": false,
      "wait_interval": 0
     }
    },
    "colab_type": "code",
    "id": "dGnXo7flH3pM"
   },
   "outputs": [
    {
     "data": {
      "text/plain": [
       "preprocess_targets (generic function with 1 method)"
      ]
     },
     "execution_count": 3,
     "metadata": {},
     "output_type": "execute_result"
    }
   ],
   "source": [
    "function preprocess_features(california_housing_dataframe)\n",
    "  \"\"\"Prepares input features from California housing data set.\n",
    "\n",
    "  Args:\n",
    "    california_housing_dataframe: A DataFrame expected to contain data\n",
    "      from the California housing data set.\n",
    "  Returns:\n",
    "    A DataFrame that contains the features to be used for the model, including\n",
    "    synthetic features.\n",
    "  \"\"\"\n",
    "  selected_features = california_housing_dataframe[\n",
    "    [:latitude,\n",
    "     :longitude,\n",
    "     :housing_median_age,\n",
    "     :total_rooms,\n",
    "     :total_bedrooms,\n",
    "     :population,\n",
    "     :households,\n",
    "     :median_income]]\n",
    "  processed_features = selected_features\n",
    "  # Create a synthetic feature.\n",
    "  processed_features[:rooms_per_person] = (\n",
    "    california_housing_dataframe[:total_rooms] ./\n",
    "    california_housing_dataframe[:population])\n",
    "  return processed_features\n",
    "end\n",
    "    \n",
    "function preprocess_targets(california_housing_dataframe)\n",
    "  \"\"\"Prepares target features (i.e., labels) from California housing data set.\n",
    "\n",
    "  Args:\n",
    "    california_housing_dataframe: A DataFrame expected to contain data\n",
    "      from the California housing data set.\n",
    "  Returns:\n",
    "    A DataFrame that contains the target feature.\n",
    "  \"\"\"\n",
    "  output_targets = DataFrame()\n",
    "  # Scale the target to be in units of thousands of dollars.\n",
    "  output_targets[:median_house_value] = (\n",
    "    california_housing_dataframe[:median_house_value] ./ 1000.0)\n",
    "  return output_targets\n",
    "end"
   ]
  },
  {
   "cell_type": "code",
   "execution_count": 4,
   "metadata": {
    "colab": {
     "autoexec": {
      "startup": false,
      "wait_interval": 0
     },
     "base_uri": "https://localhost:8080/",
     "height": 1225
    },
    "colab_type": "code",
    "executionInfo": {
     "elapsed": 875,
     "status": "ok",
     "timestamp": 1529956922472,
     "user": {
      "displayName": "Sören Dobberschütz",
      "photoUrl": "//lh4.googleusercontent.com/-zjTpujRnBgI/AAAAAAAAAAI/AAAAAAAAjqE/N66w7uuWXRY/s50-c-k-no/photo.jpg",
      "userId": "109321859854799946351"
     },
     "user_tz": -120
    },
    "id": "jLXC8y4AqsIy",
    "outputId": "e639bbd9-1eb2-42f9-c8f3-2de887e1fa23"
   },
   "outputs": [
    {
     "name": "stdout",
     "output_type": "stream",
     "text": [
      "Training examples summary:\n",
      "Validation examples summary:\n",
      "Training targets summary:\n",
      "Validation targets summary:\n"
     ]
    },
    {
     "data": {
      "text/html": [
       "<table class=\"data-frame\"><thead><tr><th></th><th>variable</th><th>mean</th><th>min</th><th>median</th><th>max</th><th>nunique</th><th>nmissing</th><th>eltype</th></tr><tr><th></th><th>Symbol</th><th>Float64</th><th>Float64</th><th>Float64</th><th>Float64</th><th>Nothing</th><th>Nothing</th><th>DataType</th></tr></thead><tbody><p>1 rows × 8 columns</p><tr><th>1</th><td>median_house_value</td><td>205.749</td><td>14.999</td><td>180.85</td><td>500.001</td><td></td><td></td><td>Float64</td></tr></tbody></table>"
      ],
      "text/latex": [
       "\\begin{tabular}{r|cccccccc}\n",
       "\t& variable & mean & min & median & max & nunique & nmissing & eltype\\\\\n",
       "\t\\hline\n",
       "\t& Symbol & Float64 & Float64 & Float64 & Float64 & Nothing & Nothing & DataType\\\\\n",
       "\t\\hline\n",
       "\t1 & median\\_house\\_value & 205.749 & 14.999 & 180.85 & 500.001 &  &  & Float64 \\\\\n",
       "\\end{tabular}\n"
      ],
      "text/plain": [
       "1×8 DataFrame. Omitted printing of 2 columns\n",
       "│ Row │ variable           │ mean    │ min     │ median  │ max     │ nunique │\n",
       "│     │ \u001b[90mSymbol\u001b[39m             │ \u001b[90mFloat64\u001b[39m │ \u001b[90mFloat64\u001b[39m │ \u001b[90mFloat64\u001b[39m │ \u001b[90mFloat64\u001b[39m │ \u001b[90mNothing\u001b[39m │\n",
       "├─────┼────────────────────┼─────────┼─────────┼─────────┼─────────┼─────────┤\n",
       "│ 1   │ median_house_value │ 205.749 │ 14.999  │ 180.85  │ 500.001 │         │"
      ]
     },
     "execution_count": 4,
     "metadata": {},
     "output_type": "execute_result"
    }
   ],
   "source": [
    "# Choose the first 12000 (out of 17000) examples for training.\n",
    "training_examples = preprocess_features(first(california_housing_dataframe,12000))\n",
    "training_targets = preprocess_targets(first(california_housing_dataframe,12000))\n",
    "\n",
    "# Choose the last 5000 (out of 17000) examples for validation.\n",
    "validation_examples = preprocess_features(last(california_housing_dataframe,5000))\n",
    "validation_targets = preprocess_targets(last(california_housing_dataframe,5000))\n",
    "\n",
    "# Double-check that we've done the right thing.\n",
    "println(\"Training examples summary:\")\n",
    "describe(training_examples)\n",
    "println(\"Validation examples summary:\")\n",
    "describe(validation_examples)\n",
    "\n",
    "println(\"Training targets summary:\")\n",
    "describe(training_targets)\n",
    "println(\"Validation targets summary:\")\n",
    "describe(validation_targets)"
   ]
  },
  {
   "cell_type": "markdown",
   "metadata": {
    "colab_type": "text",
    "id": "hLvmkugKLany"
   },
   "source": [
    "## Task 1: Develop a Good Feature Set\n",
    "\n",
    "**What's the best performance you can get with just 2 or 3 features?**\n",
    "\n",
    "A **correlation matrix** shows pairwise correlations, both for each feature compared to the target and for each feature compared to other features.\n",
    "\n",
    "Here, correlation is defined as the [Pearson correlation coefficient](https://en.wikipedia.org/wiki/Pearson_product-moment_correlation_coefficient).  You don't have to understand the mathematical details for this exercise.\n",
    "\n",
    "Correlation values have the following meanings:\n",
    "\n",
    "  * `-1.0`: perfect negative correlation\n",
    "  * `0.0`: no correlation\n",
    "  * `1.0`: perfect positive correlation"
   ]
  },
  {
   "cell_type": "markdown",
   "metadata": {},
   "source": [
    "The following function will create a correlation matrix from a DataFrame."
   ]
  },
  {
   "cell_type": "code",
   "execution_count": 5,
   "metadata": {},
   "outputs": [
    {
     "data": {
      "text/plain": [
       "cordf (generic function with 1 method)"
      ]
     },
     "execution_count": 5,
     "metadata": {},
     "output_type": "execute_result"
    }
   ],
   "source": [
    "function cordf(df::DataFrame)\n",
    "    out=DataFrame([cor(df[:, a], df[:, b]) for a=1:size(df, 2), b=1:size(df, 2)], names(df))\n",
    "    return(out)\n",
    "end"
   ]
  },
  {
   "cell_type": "markdown",
   "metadata": {},
   "source": [
    "For our data, we obtain:"
   ]
  },
  {
   "cell_type": "code",
   "execution_count": 6,
   "metadata": {
    "cellView": "both",
    "colab": {
     "autoexec": {
      "startup": false,
      "wait_interval": 0
     },
     "base_uri": "https://localhost:8080/",
     "height": 379,
     "test": {
      "output": "ignore",
      "timeout": 600
     }
    },
    "colab_type": "code",
    "executionInfo": {
     "elapsed": 871,
     "status": "ok",
     "timestamp": 1529956928304,
     "user": {
      "displayName": "Sören Dobberschütz",
      "photoUrl": "//lh4.googleusercontent.com/-zjTpujRnBgI/AAAAAAAAAAI/AAAAAAAAjqE/N66w7uuWXRY/s50-c-k-no/photo.jpg",
      "userId": "109321859854799946351"
     },
     "user_tz": -120
    },
    "id": "UzoZUSdLIolF",
    "outputId": "120c5fa0-8a1a-41d8-d58f-1cd247bf8278"
   },
   "outputs": [
    {
     "data": {
      "text/html": [
       "<table class=\"data-frame\"><thead><tr><th></th><th>latitude</th><th>longitude</th><th>housing_median_age</th><th>total_rooms</th><th>total_bedrooms</th><th>population</th><th>households</th><th>median_income</th><th>rooms_per_person</th><th>target</th></tr><tr><th></th><th>Float64</th><th>Float64</th><th>Float64</th><th>Float64</th><th>Float64</th><th>Float64</th><th>Float64</th><th>Float64</th><th>Float64</th><th>Float64</th></tr></thead><tbody><p>10 rows × 10 columns</p><tr><th>1</th><td>1.0</td><td>-0.924768</td><td>0.0207151</td><td>-0.0491701</td><td>-0.0790731</td><td>-0.121665</td><td>-0.0841454</td><td>-0.0803252</td><td>0.137552</td><td>-0.143086</td></tr><tr><th>2</th><td>-0.924768</td><td>1.0</td><td>-0.11589</td><td>0.0568381</td><td>0.0818775</td><td>0.111752</td><td>0.0680984</td><td>-0.016541</td><td>-0.0732938</td><td>-0.0491099</td></tr><tr><th>3</th><td>0.0207151</td><td>-0.11589</td><td>1.0</td><td>-0.351843</td><td>-0.313724</td><td>-0.288073</td><td>-0.295757</td><td>-0.106267</td><td>-0.0927955</td><td>0.108292</td></tr><tr><th>4</th><td>-0.0491701</td><td>0.0568381</td><td>-0.351843</td><td>1.0</td><td>0.926027</td><td>0.852183</td><td>0.914326</td><td>0.202663</td><td>0.114597</td><td>0.136771</td></tr><tr><th>5</th><td>-0.0790731</td><td>0.0818775</td><td>-0.313724</td><td>0.926027</td><td>1.0</td><td>0.874981</td><td>0.978074</td><td>-0.0110881</td><td>0.045526</td><td>0.0492994</td></tr><tr><th>6</th><td>-0.121665</td><td>0.111752</td><td>-0.288073</td><td>0.852183</td><td>0.874981</td><td>1.0</td><td>0.906578</td><td>-0.000999159</td><td>-0.13804</td><td>-0.0278365</td></tr><tr><th>7</th><td>-0.0841454</td><td>0.0680984</td><td>-0.295757</td><td>0.914326</td><td>0.978074</td><td>0.906578</td><td>1.0</td><td>0.00954448</td><td>-0.0390317</td><td>0.0657946</td></tr><tr><th>8</th><td>-0.0803252</td><td>-0.016541</td><td>-0.106267</td><td>0.202663</td><td>-0.0110881</td><td>-0.000999159</td><td>0.00954448</td><td>1.0</td><td>0.215625</td><td>0.693154</td></tr><tr><th>9</th><td>0.137552</td><td>-0.0732938</td><td>-0.0927955</td><td>0.114597</td><td>0.045526</td><td>-0.13804</td><td>-0.0390317</td><td>0.215625</td><td>1.0</td><td>0.192837</td></tr><tr><th>10</th><td>-0.143086</td><td>-0.0491099</td><td>0.108292</td><td>0.136771</td><td>0.0492994</td><td>-0.0278365</td><td>0.0657946</td><td>0.693154</td><td>0.192837</td><td>1.0</td></tr></tbody></table>"
      ],
      "text/latex": [
       "\\begin{tabular}{r|cccccccccc}\n",
       "\t& latitude & longitude & housing\\_median\\_age & total\\_rooms & total\\_bedrooms & population & households & median\\_income & rooms\\_per\\_person & target\\\\\n",
       "\t\\hline\n",
       "\t& Float64 & Float64 & Float64 & Float64 & Float64 & Float64 & Float64 & Float64 & Float64 & Float64\\\\\n",
       "\t\\hline\n",
       "\t1 & 1.0 & -0.924768 & 0.0207151 & -0.0491701 & -0.0790731 & -0.121665 & -0.0841454 & -0.0803252 & 0.137552 & -0.143086 \\\\\n",
       "\t2 & -0.924768 & 1.0 & -0.11589 & 0.0568381 & 0.0818775 & 0.111752 & 0.0680984 & -0.016541 & -0.0732938 & -0.0491099 \\\\\n",
       "\t3 & 0.0207151 & -0.11589 & 1.0 & -0.351843 & -0.313724 & -0.288073 & -0.295757 & -0.106267 & -0.0927955 & 0.108292 \\\\\n",
       "\t4 & -0.0491701 & 0.0568381 & -0.351843 & 1.0 & 0.926027 & 0.852183 & 0.914326 & 0.202663 & 0.114597 & 0.136771 \\\\\n",
       "\t5 & -0.0790731 & 0.0818775 & -0.313724 & 0.926027 & 1.0 & 0.874981 & 0.978074 & -0.0110881 & 0.045526 & 0.0492994 \\\\\n",
       "\t6 & -0.121665 & 0.111752 & -0.288073 & 0.852183 & 0.874981 & 1.0 & 0.906578 & -0.000999159 & -0.13804 & -0.0278365 \\\\\n",
       "\t7 & -0.0841454 & 0.0680984 & -0.295757 & 0.914326 & 0.978074 & 0.906578 & 1.0 & 0.00954448 & -0.0390317 & 0.0657946 \\\\\n",
       "\t8 & -0.0803252 & -0.016541 & -0.106267 & 0.202663 & -0.0110881 & -0.000999159 & 0.00954448 & 1.0 & 0.215625 & 0.693154 \\\\\n",
       "\t9 & 0.137552 & -0.0732938 & -0.0927955 & 0.114597 & 0.045526 & -0.13804 & -0.0390317 & 0.215625 & 1.0 & 0.192837 \\\\\n",
       "\t10 & -0.143086 & -0.0491099 & 0.108292 & 0.136771 & 0.0492994 & -0.0278365 & 0.0657946 & 0.693154 & 0.192837 & 1.0 \\\\\n",
       "\\end{tabular}\n"
      ],
      "text/plain": [
       "10×10 DataFrame. Omitted printing of 6 columns\n",
       "│ Row │ latitude   │ longitude  │ housing_median_age │ total_rooms │\n",
       "│     │ \u001b[90mFloat64\u001b[39m    │ \u001b[90mFloat64\u001b[39m    │ \u001b[90mFloat64\u001b[39m            │ \u001b[90mFloat64\u001b[39m     │\n",
       "├─────┼────────────┼────────────┼────────────────────┼─────────────┤\n",
       "│ 1   │ 1.0        │ -0.924768  │ 0.0207151          │ -0.0491701  │\n",
       "│ 2   │ -0.924768  │ 1.0        │ -0.11589           │ 0.0568381   │\n",
       "│ 3   │ 0.0207151  │ -0.11589   │ 1.0                │ -0.351843   │\n",
       "│ 4   │ -0.0491701 │ 0.0568381  │ -0.351843          │ 1.0         │\n",
       "│ 5   │ -0.0790731 │ 0.0818775  │ -0.313724          │ 0.926027    │\n",
       "│ 6   │ -0.121665  │ 0.111752   │ -0.288073          │ 0.852183    │\n",
       "│ 7   │ -0.0841454 │ 0.0680984  │ -0.295757          │ 0.914326    │\n",
       "│ 8   │ -0.0803252 │ -0.016541  │ -0.106267          │ 0.202663    │\n",
       "│ 9   │ 0.137552   │ -0.0732938 │ -0.0927955         │ 0.114597    │\n",
       "│ 10  │ -0.143086  │ -0.0491099 │ 0.108292           │ 0.136771    │"
      ]
     },
     "execution_count": 6,
     "metadata": {},
     "output_type": "execute_result"
    }
   ],
   "source": [
    "correlation_dataframe = copy(training_examples)\n",
    "correlation_dataframe[:target] = training_targets[:median_house_value]\n",
    "out=cordf(correlation_dataframe)"
   ]
  },
  {
   "cell_type": "markdown",
   "metadata": {
    "colab_type": "text",
    "id": "RQpktkNpia2P"
   },
   "source": [
    "Ideally, we'd like to have features that are strongly correlated with the target.\n",
    "\n",
    "We'd also like to have features that aren't so strongly correlated with each other, so that they add independent information.\n",
    "\n",
    "Use this information to try removing features.  You can also try developing additional synthetic features, such as ratios of two raw features.\n",
    "\n",
    "For convenience, we've included the training code from the previous exercise."
   ]
  },
  {
   "cell_type": "code",
   "execution_count": 7,
   "metadata": {
    "colab": {
     "autoexec": {
      "startup": false,
      "wait_interval": 0
     }
    },
    "colab_type": "code",
    "id": "bjR5jWpFr2xs"
   },
   "outputs": [
    {
     "data": {
      "text/plain": [
       "construct_columns (generic function with 1 method)"
      ]
     },
     "execution_count": 7,
     "metadata": {},
     "output_type": "execute_result"
    }
   ],
   "source": [
    "function construct_columns(input_features)\n",
    "  \"\"\"Construct the Feature Columns.\n",
    "\n",
    "  Args:\n",
    "    input_features: Numerical input features to use.\n",
    "  Returns:\n",
    "    A set of converted feature columns\n",
    "  \"\"\" \n",
    "  out=convert(Matrix, input_features[:,:])\n",
    "  return convert(Matrix{Float64},out)\n",
    "    \n",
    "end\n",
    "    "
   ]
  },
  {
   "cell_type": "code",
   "execution_count": 8,
   "metadata": {},
   "outputs": [
    {
     "data": {
      "text/plain": [
       "create_batches (generic function with 3 methods)"
      ]
     },
     "execution_count": 8,
     "metadata": {},
     "output_type": "execute_result"
    }
   ],
   "source": [
    "function create_batches(features, targets, steps, batch_size=5, num_epochs=0)\n",
    "    \n",
    "    if(num_epochs==0)\n",
    "        num_epochs=ceil(batch_size*steps/size(features,1))\n",
    "    end  \n",
    "    names_features=names(features);\n",
    "    names_targets=names(targets);\n",
    "    \n",
    "    features_batches=copy(features)\n",
    "    target_batches=copy(targets)\n",
    "    \n",
    "    for i=1:num_epochs       \n",
    "        select=shuffle(1:size(features,1))\n",
    "        if i==1\n",
    "            features_batches=(features[select,:])\n",
    "            target_batches=(targets[select,:])\n",
    "        else          \n",
    "            append!(features_batches, features[select,:])\n",
    "            append!(target_batches, targets[select,:])\n",
    "        end\n",
    "    end    \n",
    "    return features_batches, target_batches \n",
    "end"
   ]
  },
  {
   "cell_type": "code",
   "execution_count": 9,
   "metadata": {},
   "outputs": [
    {
     "data": {
      "text/plain": [
       "next_batch (generic function with 1 method)"
      ]
     },
     "execution_count": 9,
     "metadata": {},
     "output_type": "execute_result"
    }
   ],
   "source": [
    "function next_batch(features_batches, targets_batches, batch_size, iter)\n",
    "    select=mod((iter-1)*batch_size+1, size(features_batches,1)):mod(iter*batch_size, size(features_batches,1));\n",
    "\n",
    "    ds=features_batches[select,:];\n",
    "    target=targets_batches[select,:];   \n",
    "    return ds, target\n",
    "end"
   ]
  },
  {
   "cell_type": "code",
   "execution_count": 10,
   "metadata": {
    "colab": {
     "autoexec": {
      "startup": false,
      "wait_interval": 0
     }
    },
    "colab_type": "code",
    "id": "jsvKHzRciH9T"
   },
   "outputs": [
    {
     "data": {
      "text/plain": [
       "my_input_fn (generic function with 3 methods)"
      ]
     },
     "execution_count": 10,
     "metadata": {},
     "output_type": "execute_result"
    }
   ],
   "source": [
    "function my_input_fn(features_batches, targets_batches, iter, batch_size=5, shuffle_flag=1)\n",
    "    \"\"\"Trains a linear regression model of one feature.\n",
    "  \n",
    "    Args:\n",
    "      features: DataFrame of features\n",
    "      targets: DataFrame of targets\n",
    "      batch_size: Size of batches to be passed to the model\n",
    "      shuffle: True or False. Whether to shuffle the data.\n",
    "      num_epochs: Number of epochs for which data should be repeated. None = repeat indefinitely\n",
    "    Returns:\n",
    "      Tuple of (features, labels) for next data batch\n",
    "    \"\"\"\n",
    "  \n",
    "    # Convert pandas data into a dict of np arrays.\n",
    "    #features = {key:np.array(value) for key,value in dict(features).items()}                                           \n",
    " \n",
    "    # Construct a dataset, and configure batching/repeating.\n",
    "    #ds = Dataset.from_tensor_slices((features,targets)) # warning: 2GB limit\n",
    "    ds, target = next_batch(features_batches, targets_batches, batch_size, iter)\n",
    "    \n",
    "    # Shuffle the data, if specified.\n",
    "    if shuffle_flag==1\n",
    "      select=shuffle(1:size(ds, 1));\n",
    "        ds = ds[select,:]\n",
    "        target = target[select, :]\n",
    "    end\n",
    "    \n",
    "    # Return the next batch of data.\n",
    "    # features, labels = ds.make_one_shot_iterator().get_next()\n",
    "    return ds, target\n",
    "end"
   ]
  },
  {
   "cell_type": "code",
   "execution_count": 11,
   "metadata": {
    "colab": {
     "autoexec": {
      "startup": false,
      "wait_interval": 0
     }
    },
    "colab_type": "code",
    "id": "g3kjQV9WH3pb"
   },
   "outputs": [
    {
     "data": {
      "text/plain": [
       "train_model (generic function with 1 method)"
      ]
     },
     "execution_count": 11,
     "metadata": {},
     "output_type": "execute_result"
    }
   ],
   "source": [
    "function train_model(learning_rate,\n",
    "                     steps, \n",
    "                     batch_size, \n",
    "                     training_examples, \n",
    "                     training_targets, \n",
    "                     validation_examples, \n",
    "                     validation_targets)\n",
    "  \"\"\"Trains a linear regression model of one feature.\n",
    "  \n",
    "  Args:\n",
    "    learning_rate: A `float`, the learning rate.\n",
    "    steps: A non-zero `int`, the total number of training steps. A training step\n",
    "      consists of a forward and backward pass using a single batch.\n",
    "    batch_size: A non-zero `int`, the batch size.\n",
    "    input_feature: A column from `california_housing_dataframe`\n",
    "      to use as input feature.\n",
    "  \"\"\"\n",
    "  \n",
    "  periods = 10\n",
    "  steps_per_period = steps / periods\n",
    "    \n",
    "  # Create feature columns.\n",
    "  feature_columns = placeholder(Float32)\n",
    "  target_columns = placeholder(Float32)\n",
    "  \n",
    "  # Create a linear regressor object.\n",
    "  # Configure the linear regression model with our feature columns and optimizer.\n",
    "  m=Variable(zeros(size(training_examples,2),1))\n",
    "  b=Variable(0.0)\n",
    "  y=(feature_columns*m) .+ b\n",
    "  loss=reduce_sum((target_columns - y).^2)\n",
    "  run(sess, global_variables_initializer())\n",
    "  features_batches, targets_batches = create_batches(training_examples, training_targets, steps, batch_size)\n",
    "\n",
    "  # Advanced gradient decent with gradient clipping\n",
    "  my_optimizer=(train.GradientDescentOptimizer(learning_rate))\n",
    "  gvs = train.compute_gradients(my_optimizer, loss)\n",
    "  capped_gvs = [(clip_by_norm(grad, 5.), var) for (grad, var) in gvs]\n",
    "  my_optimizer = train.apply_gradients(my_optimizer,capped_gvs)\n",
    "     \n",
    "  # Train the model, but do so inside a loop so that we can periodically assess\n",
    "  # loss metrics.\n",
    "  println(\"Training model...\")\n",
    "  println(\"RMSE (on training data):\")\n",
    "  training_rmse = []\n",
    "  validation_rmse=[]\n",
    "  for period in 1:periods\n",
    "    # Train the model, starting from the prior state.\n",
    "   for i=1:steps_per_period\n",
    "    features, labels = my_input_fn(features_batches, targets_batches, convert(Int,(period-1)*steps_per_period+i), batch_size)\n",
    "    #println(construct_columns(features))\n",
    "    #println(construct_columns(labels))\n",
    "    run(sess, my_optimizer, Dict(feature_columns=>construct_columns(features), target_columns=>construct_columns(labels)))\n",
    "   end\n",
    "    # Take a break and compute predictions.\n",
    "    training_predictions = run(sess, y, Dict(feature_columns=> construct_columns(training_examples)));    \n",
    "    validation_predictions = run(sess, y, Dict(feature_columns=> construct_columns(validation_examples)));  \n",
    "        \n",
    "    # Compute loss.\n",
    "     training_mean_squared_error = mean((training_predictions- construct_columns(training_targets)).^2)\n",
    "     training_root_mean_squared_error = sqrt(training_mean_squared_error)\n",
    "     validation_mean_squared_error = mean((validation_predictions- construct_columns(validation_targets)).^2)\n",
    "     validation_root_mean_squared_error = sqrt(validation_mean_squared_error)\n",
    "    # Occasionally print the current loss.\n",
    "    println(\"  period \", period, \": \", training_root_mean_squared_error)\n",
    "    # Add the loss metrics from this period to our list.\n",
    "    push!(training_rmse, training_root_mean_squared_error)\n",
    "    push!(validation_rmse, validation_root_mean_squared_error)\n",
    " end\n",
    "\n",
    "  weight = run(sess,m)\n",
    "  bias = run(sess,b)\n",
    "    \n",
    "  println(\"Model training finished.\")\n",
    "\n",
    "  # Output a graph of loss metrics over periods.\n",
    "  p1=plot(training_rmse, label=\"training\", title=\"Root Mean Squared Error vs. Periods\", ylabel=\"RMSE\", xlabel=\"Periods\")\n",
    "  p1=plot!(validation_rmse, label=\"validation\")\n",
    "\n",
    "  println(\"Final RMSE (on training data): \", training_rmse[end])\n",
    "  println(\"Final Weight (on training data): \", weight)\n",
    "  println(\"Final Bias (on training data): \", bias)\n",
    "       \n",
    "  return weight, bias, p1 #, calibration_data   \n",
    "end"
   ]
  },
  {
   "cell_type": "markdown",
   "metadata": {
    "colab_type": "text",
    "id": "varLu7RNH3pf"
   },
   "source": [
    "Spend 5 minutes searching for a good set of features and training parameters. Then check the solution to see what we chose. Don't forget that different features may require different learning parameters."
   ]
  },
  {
   "cell_type": "code",
   "execution_count": 12,
   "metadata": {
    "colab": {
     "autoexec": {
      "startup": false,
      "wait_interval": 0
     }
    },
    "colab_type": "code",
    "id": "DSgUxRIlH3pg",
    "scrolled": false
   },
   "outputs": [
    {
     "name": "stdout",
     "output_type": "stream",
     "text": [
      "Training model...\n",
      "RMSE (on training data):\n",
      "  period 1: 183.7392602245132\n",
      "  period 2: 206.75150876495923\n",
      "  period 3: 165.87993791913442\n",
      "  period 4: 164.7679483284074\n",
      "  period 5: 179.45652052917944\n",
      "  period 6: 163.26477717777334\n",
      "  period 7: 166.5608653030198\n",
      "  period 8: 170.54872843543188\n",
      "  period 9: 158.48629508215632\n",
      "  period 10: 167.62633326469208\n",
      "Model training finished.\n",
      "Final RMSE (on training data): 167.62633326469208\n",
      "Final Weight (on training data): [0.686872; 0.155786; 0.0428863; 0.302144]\n",
      "Final Bias (on training data): 3.196519044607023\n"
     ]
    },
    {
     "data": {
      "text/plain": [
       "([0.686872; 0.155786; 0.0428863; 0.302144], 3.196519044607023, Plot{Plots.GRBackend() n=2})"
      ]
     },
     "execution_count": 12,
     "metadata": {},
     "output_type": "execute_result"
    }
   ],
   "source": [
    "#\n",
    "# Your code here: add your features of choice as a list of quoted strings.\n",
    "#\n",
    "minimal_features = [:latitude,\n",
    "    :median_income,\n",
    "    :rooms_per_person,\n",
    "    :total_bedrooms\n",
    "]\n",
    "\n",
    "minimal_training_examples = training_examples[minimal_features]\n",
    "minimal_validation_examples = validation_examples[minimal_features]\n",
    "\n",
    "#\n",
    "# Don't forget to adjust these parameters.\n",
    "#\n",
    "weight, bias, p1 = train_model(\n",
    "    # TWEAK THESE VALUES TO SEE HOW MUCH YOU CAN IMPROVE THE RMSE\n",
    "    0.003, #learning rate\n",
    "    500, #steps\n",
    "    5, #batch_size\n",
    "    minimal_training_examples,\n",
    "    training_targets,\n",
    "    minimal_validation_examples,\n",
    "    validation_targets)"
   ]
  },
  {
   "cell_type": "code",
   "execution_count": 13,
   "metadata": {},
   "outputs": [
    {
     "data": {
      "image/png": "[encoded data removed]"
     },
     "execution_count": 13,
     "metadata": {},
     "output_type": "execute_result"
    }
   ],
   "source": [
    "plot(p1)"
   ]
  },
  {
   "cell_type": "markdown",
   "metadata": {
    "colab_type": "text",
    "id": "IGINhMIJ5Wyt"
   },
   "source": [
    "### Solution\n",
    "\n",
    "Click below for a solution."
   ]
  },
  {
   "cell_type": "code",
   "execution_count": 14,
   "metadata": {
    "colab": {
     "autoexec": {
      "startup": false,
      "wait_interval": 0
     }
    },
    "colab_type": "code",
    "id": "BAGoXFPZ5ZE3"
   },
   "outputs": [
    {
     "name": "stdout",
     "output_type": "stream",
     "text": [
      "Training model...\n",
      "RMSE (on training data):\n",
      "  period 1: 165.0985970722029\n",
      "  period 2: 124.19657540259746\n",
      "  period 3: 117.80756502081594\n",
      "  period 4: 117.25684139473813\n",
      "  period 5: 116.88559847743232\n",
      "  period 6: 116.28598538447449\n",
      "  period 7: 115.98012301500343\n",
      "  period 8: 115.9458593580111\n",
      "  period 9: 114.21584881804682\n",
      "  period 10: 114.18447169380268\n",
      "Model training finished.\n",
      "Final RMSE (on training data): 114.18447169380268\n",
      "Final Weight (on training data): [4.32013; 4.8583]\n",
      "Final Bias (on training data): 5.247893056091381\n"
     ]
    },
    {
     "data": {
      "text/plain": [
       "([4.32013; 4.8583], 5.247893056091381, Plot{Plots.GRBackend() n=2})"
      ]
     },
     "execution_count": 14,
     "metadata": {},
     "output_type": "execute_result"
    }
   ],
   "source": [
    "minimal_features = [\n",
    "  :median_income,\n",
    "  :latitude,\n",
    "]\n",
    "\n",
    "minimal_training_examples = training_examples[minimal_features]\n",
    "minimal_validation_examples = validation_examples[minimal_features]\n",
    "\n",
    "weight, bias, p1 = train_model(\n",
    "    # TWEAK THESE VALUES TO SEE HOW MUCH YOU CAN IMPROVE THE RMSE\n",
    "    0.01, #learning rate\n",
    "    500, #steps\n",
    "    5, #batch_size\n",
    "    minimal_training_examples,\n",
    "    training_targets,\n",
    "    minimal_validation_examples,\n",
    "    validation_targets)"
   ]
  },
  {
   "cell_type": "code",
   "execution_count": 15,
   "metadata": {},
   "outputs": [
    {
     "data": {
      "image/png": "[encoded data removed]"
     },
     "execution_count": 15,
     "metadata": {},
     "output_type": "execute_result"
    }
   ],
   "source": [
    "plot(p1)"
   ]
  },
  {
   "cell_type": "markdown",
   "metadata": {
    "colab_type": "text",
    "id": "RidI9YhKOiY2"
   },
   "source": [
    "## Task 2: Make Better Use of Latitude\n",
    "\n",
    "Plotting `latitude` vs. `median_house_value` shows that there really isn't a linear relationship there.\n",
    "\n",
    "Instead, there are a couple of peaks, which roughly correspond to Los Angeles and San Francisco."
   ]
  },
  {
   "cell_type": "code",
   "execution_count": 16,
   "metadata": {
    "cellView": "both",
    "colab": {
     "autoexec": {
      "startup": false,
      "wait_interval": 0
     },
     "test": {
      "output": "ignore",
      "timeout": 600
     }
    },
    "colab_type": "code",
    "id": "hfGUKj2IR_F1",
    "scrolled": false
   },
   "outputs": [],
   "source": [
    "#scatter(training_examples[:latitude], training_targets[:median_house_value])"
   ]
  },
  {
   "cell_type": "markdown",
   "metadata": {
    "colab_type": "text",
    "id": "6N0p91k2iFCP"
   },
   "source": [
    "**Try creating some synthetic features that do a better job with latitude.**\n",
    "\n",
    "For example, you could have a feature that maps `latitude` to a value of `|latitude - 38|`, and call this `distance_from_san_francisco`.\n",
    "\n",
    "Or you could break the space into 10 different buckets.  `latitude_32_to_33`, `latitude_33_to_34`, etc., each showing a value of `1.0` if `latitude` is within that bucket range and a value of `0.0` otherwise.\n",
    "\n",
    "Use the correlation matrix to help guide development, and then add them to your model if you find something that looks good.\n",
    "\n",
    "What's the best validation performance you can get?"
   ]
  },
  {
   "cell_type": "code",
   "execution_count": 17,
   "metadata": {
    "cellView": "form",
    "colab": {
     "autoexec": {
      "startup": false,
      "wait_interval": 0
     }
    },
    "colab_type": "code",
    "id": "wduJ2B28yMFl"
   },
   "outputs": [
    {
     "data": {
      "text/plain": [
       "select_and_transform_features (generic function with 1 method)"
      ]
     },
     "execution_count": 17,
     "metadata": {},
     "output_type": "execute_result"
    }
   ],
   "source": [
    "lat1=32:41\n",
    "lat2=33:42\n",
    "lat_range=zip(lat1,lat2) # zip creates a set of tuples from vectors\n",
    "\n",
    "function create_index(value, r1, r2)\n",
    "    if value >=r1 && value <r2\n",
    "        out=1.0\n",
    "    else\n",
    "        out=0.0\n",
    "    end\n",
    "    return out\n",
    "end\n",
    "\n",
    "function select_and_transform_features(source_df, lat_range)\n",
    "    selected_examples=DataFrame()\n",
    "    selected_examples[:median_income]=source_df[:median_income]\n",
    "    \n",
    "    # Symbol(string) allows to convert a string to a DataFrames name :string\n",
    "    for range in lat_range\n",
    "        selected_examples[Symbol(string(\"latitude_\", range[1],\"_\", range[2]))]=create_index.(source_df[:latitude], range[1], range[2])\n",
    "    end\n",
    "        \n",
    "    return selected_examples\n",
    "end"
   ]
  },
  {
   "cell_type": "code",
   "execution_count": 18,
   "metadata": {
    "scrolled": true
   },
   "outputs": [],
   "source": [
    "selected_training_examples = select_and_transform_features(training_examples, lat_range)\n",
    "selected_validation_examples = select_and_transform_features(validation_examples, lat_range);"
   ]
  },
  {
   "cell_type": "code",
   "execution_count": 19,
   "metadata": {},
   "outputs": [
    {
     "data": {
      "text/html": [
       "<table class=\"data-frame\"><thead><tr><th></th><th>median_income</th><th>latitude_32_33</th><th>latitude_33_34</th><th>latitude_34_35</th><th>latitude_35_36</th><th>latitude_36_37</th><th>latitude_37_38</th><th>latitude_38_39</th><th>latitude_39_40</th><th>latitude_40_41</th><th>latitude_41_42</th><th>target</th></tr><tr><th></th><th>Float64</th><th>Float64</th><th>Float64</th><th>Float64</th><th>Float64</th><th>Float64</th><th>Float64</th><th>Float64</th><th>Float64</th><th>Float64</th><th>Float64</th><th>Float64</th></tr></thead><tbody><p>12 rows × 12 columns</p><tr><th>1</th><td>1.0</td><td>-0.0461611</td><td>0.0798491</td><td>0.0268932</td><td>-0.0818347</td><td>-0.106086</td><td>0.136879</td><td>-0.0642332</td><td>-0.11522</td><td>-0.0866492</td><td>-0.054577</td><td>0.693154</td></tr><tr><th>2</th><td>-0.0461611</td><td>1.0</td><td>-0.144928</td><td>-0.150919</td><td>-0.0418442</td><td>-0.0660024</td><td>-0.138853</td><td>-0.087688</td><td>-0.0459155</td><td>-0.0328115</td><td>-0.0159071</td><td>-0.0610642</td></tr><tr><th>3</th><td>0.0798491</td><td>-0.144928</td><td>1.0</td><td>-0.318112</td><td>-0.0882006</td><td>-0.139122</td><td>-0.292678</td><td>-0.184832</td><td>-0.0967821</td><td>-0.0691612</td><td>-0.0335295</td><td>0.0689311</td></tr><tr><th>4</th><td>0.0268932</td><td>-0.150919</td><td>-0.318112</td><td>1.0</td><td>-0.0918468</td><td>-0.144873</td><td>-0.304777</td><td>-0.192472</td><td>-0.100783</td><td>-0.0720203</td><td>-0.0349156</td><td>0.123685</td></tr><tr><th>5</th><td>-0.0818347</td><td>-0.0418442</td><td>-0.0882006</td><td>-0.0918468</td><td>1.0</td><td>-0.040168</td><td>-0.0845035</td><td>-0.0533655</td><td>-0.0279434</td><td>-0.0199686</td><td>-0.0096808</td><td>-0.127083</td></tr><tr><th>6</th><td>-0.106086</td><td>-0.0660024</td><td>-0.139122</td><td>-0.144873</td><td>-0.040168</td><td>1.0</td><td>-0.13329</td><td>-0.0841753</td><td>-0.0440762</td><td>-0.0314971</td><td>-0.0152699</td><td>-0.175789</td></tr><tr><th>7</th><td>0.136879</td><td>-0.138853</td><td>-0.292678</td><td>-0.304777</td><td>-0.0845035</td><td>-0.13329</td><td>1.0</td><td>-0.177084</td><td>-0.0927253</td><td>-0.0662622</td><td>-0.032124</td><td>0.211228</td></tr><tr><th>8</th><td>-0.0642332</td><td>-0.087688</td><td>-0.184832</td><td>-0.192472</td><td>-0.0533655</td><td>-0.0841753</td><td>-0.177084</td><td>1.0</td><td>-0.0585577</td><td>-0.0418458</td><td>-0.0202869</td><td>-0.159032</td></tr><tr><th>9</th><td>-0.11522</td><td>-0.0459155</td><td>-0.0967821</td><td>-0.100783</td><td>-0.0279434</td><td>-0.0440762</td><td>-0.0927253</td><td>-0.0585577</td><td>1.0</td><td>-0.0219114</td><td>-0.0106227</td><td>-0.150613</td></tr><tr><th>10</th><td>-0.0866492</td><td>-0.0328115</td><td>-0.0691612</td><td>-0.0720203</td><td>-0.0199686</td><td>-0.0314971</td><td>-0.0662622</td><td>-0.0418458</td><td>-0.0219114</td><td>1.0</td><td>-0.00759106</td><td>-0.128711</td></tr><tr><th>11</th><td>-0.054577</td><td>-0.0159071</td><td>-0.0335295</td><td>-0.0349156</td><td>-0.0096808</td><td>-0.0152699</td><td>-0.032124</td><td>-0.0202869</td><td>-0.0106227</td><td>-0.00759106</td><td>1.0</td><td>-0.072223</td></tr><tr><th>12</th><td>0.693154</td><td>-0.0610642</td><td>0.0689311</td><td>0.123685</td><td>-0.127083</td><td>-0.175789</td><td>0.211228</td><td>-0.159032</td><td>-0.150613</td><td>-0.128711</td><td>-0.072223</td><td>1.0</td></tr></tbody></table>"
      ],
      "text/latex": [
       "\\begin{tabular}{r|cccccccccccc}\n",
       "\t& median\\_income & latitude\\_32\\_33 & latitude\\_33\\_34 & latitude\\_34\\_35 & latitude\\_35\\_36 & latitude\\_36\\_37 & latitude\\_37\\_38 & latitude\\_38\\_39 & latitude\\_39\\_40 & latitude\\_40\\_41 & latitude\\_41\\_42 & target\\\\\n",
       "\t\\hline\n",
       "\t& Float64 & Float64 & Float64 & Float64 & Float64 & Float64 & Float64 & Float64 & Float64 & Float64 & Float64 & Float64\\\\\n",
       "\t\\hline\n",
       "\t1 & 1.0 & -0.0461611 & 0.0798491 & 0.0268932 & -0.0818347 & -0.106086 & 0.136879 & -0.0642332 & -0.11522 & -0.0866492 & -0.054577 & 0.693154 \\\\\n",
       "\t2 & -0.0461611 & 1.0 & -0.144928 & -0.150919 & -0.0418442 & -0.0660024 & -0.138853 & -0.087688 & -0.0459155 & -0.0328115 & -0.0159071 & -0.0610642 \\\\\n",
       "\t3 & 0.0798491 & -0.144928 & 1.0 & -0.318112 & -0.0882006 & -0.139122 & -0.292678 & -0.184832 & -0.0967821 & -0.0691612 & -0.0335295 & 0.0689311 \\\\\n",
       "\t4 & 0.0268932 & -0.150919 & -0.318112 & 1.0 & -0.0918468 & -0.144873 & -0.304777 & -0.192472 & -0.100783 & -0.0720203 & -0.0349156 & 0.123685 \\\\\n",
       "\t5 & -0.0818347 & -0.0418442 & -0.0882006 & -0.0918468 & 1.0 & -0.040168 & -0.0845035 & -0.0533655 & -0.0279434 & -0.0199686 & -0.0096808 & -0.127083 \\\\\n",
       "\t6 & -0.106086 & -0.0660024 & -0.139122 & -0.144873 & -0.040168 & 1.0 & -0.13329 & -0.0841753 & -0.0440762 & -0.0314971 & -0.0152699 & -0.175789 \\\\\n",
       "\t7 & 0.136879 & -0.138853 & -0.292678 & -0.304777 & -0.0845035 & -0.13329 & 1.0 & -0.177084 & -0.0927253 & -0.0662622 & -0.032124 & 0.211228 \\\\\n",
       "\t8 & -0.0642332 & -0.087688 & -0.184832 & -0.192472 & -0.0533655 & -0.0841753 & -0.177084 & 1.0 & -0.0585577 & -0.0418458 & -0.0202869 & -0.159032 \\\\\n",
       "\t9 & -0.11522 & -0.0459155 & -0.0967821 & -0.100783 & -0.0279434 & -0.0440762 & -0.0927253 & -0.0585577 & 1.0 & -0.0219114 & -0.0106227 & -0.150613 \\\\\n",
       "\t10 & -0.0866492 & -0.0328115 & -0.0691612 & -0.0720203 & -0.0199686 & -0.0314971 & -0.0662622 & -0.0418458 & -0.0219114 & 1.0 & -0.00759106 & -0.128711 \\\\\n",
       "\t11 & -0.054577 & -0.0159071 & -0.0335295 & -0.0349156 & -0.0096808 & -0.0152699 & -0.032124 & -0.0202869 & -0.0106227 & -0.00759106 & 1.0 & -0.072223 \\\\\n",
       "\t12 & 0.693154 & -0.0610642 & 0.0689311 & 0.123685 & -0.127083 & -0.175789 & 0.211228 & -0.159032 & -0.150613 & -0.128711 & -0.072223 & 1.0 \\\\\n",
       "\\end{tabular}\n"
      ],
      "text/plain": [
       "12×12 DataFrame. Omitted printing of 8 columns\n",
       "│ Row │ median_income │ latitude_32_33 │ latitude_33_34 │ latitude_34_35 │\n",
       "│     │ \u001b[90mFloat64\u001b[39m       │ \u001b[90mFloat64\u001b[39m        │ \u001b[90mFloat64\u001b[39m        │ \u001b[90mFloat64\u001b[39m        │\n",
       "├─────┼───────────────┼────────────────┼────────────────┼────────────────┤\n",
       "│ 1   │ 1.0           │ -0.0461611     │ 0.0798491      │ 0.0268932      │\n",
       "│ 2   │ -0.0461611    │ 1.0            │ -0.144928      │ -0.150919      │\n",
       "│ 3   │ 0.0798491     │ -0.144928      │ 1.0            │ -0.318112      │\n",
       "│ 4   │ 0.0268932     │ -0.150919      │ -0.318112      │ 1.0            │\n",
       "│ 5   │ -0.0818347    │ -0.0418442     │ -0.0882006     │ -0.0918468     │\n",
       "│ 6   │ -0.106086     │ -0.0660024     │ -0.139122      │ -0.144873      │\n",
       "│ 7   │ 0.136879      │ -0.138853      │ -0.292678      │ -0.304777      │\n",
       "│ 8   │ -0.0642332    │ -0.087688      │ -0.184832      │ -0.192472      │\n",
       "│ 9   │ -0.11522      │ -0.0459155     │ -0.0967821     │ -0.100783      │\n",
       "│ 10  │ -0.0866492    │ -0.0328115     │ -0.0691612     │ -0.0720203     │\n",
       "│ 11  │ -0.054577     │ -0.0159071     │ -0.0335295     │ -0.0349156     │\n",
       "│ 12  │ 0.693154      │ -0.0610642     │ 0.0689311      │ 0.123685       │"
      ]
     },
     "execution_count": 19,
     "metadata": {},
     "output_type": "execute_result"
    }
   ],
   "source": [
    "correlation_dataframe = copy(selected_training_examples)\n",
    "correlation_dataframe[:target] = training_targets[:median_house_value]\n",
    "out=cordf(correlation_dataframe)"
   ]
  },
  {
   "cell_type": "code",
   "execution_count": 20,
   "metadata": {},
   "outputs": [
    {
     "name": "stdout",
     "output_type": "stream",
     "text": [
      "Training model...\n",
      "RMSE (on training data):\n",
      "  period 1: 202.2772070655988\n",
      "  period 2: 167.2989175502785\n",
      "  period 3: 134.76365553300957\n",
      "  period 4: 107.52030372796295\n",
      "  period 5: 92.51799718077424\n",
      "  period 6: 86.03199391863457\n",
      "  period 7: 84.45828539342742\n",
      "  period 8: 84.06088173431573\n",
      "  period 9: 84.07858353750237\n",
      "  period 10: 83.7300253769773\n",
      "Model training finished.\n",
      "Final RMSE (on training data): 83.7300253769773\n",
      "Final Weight (on training data): [41.3982; 0.0286937; 3.31032; 4.70875; -0.380607; -1.0631; 4.79874; -0.908675; -0.524214; -0.386934; -0.142933]\n",
      "Final Bias (on training data): 42.14021193860397\n"
     ]
    },
    {
     "data": {
      "text/plain": [
       "([41.3982; 0.0286937; … ; -0.386934; -0.142933], 42.14021193860397, Plot{Plots.GRBackend() n=2})"
      ]
     },
     "execution_count": 20,
     "metadata": {},
     "output_type": "execute_result"
    }
   ],
   "source": [
    "weight, bias, p1 = train_model(\n",
    "    # TWEAK THESE VALUES TO SEE HOW MUCH YOU CAN IMPROVE THE RMSE\n",
    "    0.01, #learning rate\n",
    "    1500, #steps\n",
    "    5, #batch_size\n",
    "    selected_training_examples,\n",
    "    training_targets,\n",
    "    selected_validation_examples,\n",
    "    validation_targets)"
   ]
  },
  {
   "cell_type": "code",
   "execution_count": 21,
   "metadata": {},
   "outputs": [
    {
     "data": {
      "image/png": "[encoded data removed]"
     },
     "execution_count": 21,
     "metadata": {},
     "output_type": "execute_result"
    }
   ],
   "source": [
    "plot(p1)"
   ]
  },
  {
   "cell_type": "code",
   "execution_count": 22,
   "metadata": {},
   "outputs": [],
   "source": [
    "#EOF"
   ]
  },
  {
   "cell_type": "code",
   "execution_count": null,
   "metadata": {},
   "outputs": [],
   "source": []
  }
 ],
 "metadata": {
  "colab": {
   "collapsed_sections": [
    "JndnmDMp66FL",
    "IGINhMIJ5Wyt",
    "pZa8miwu6_tQ"
   ],
   "default_view": {},
   "name": "4. Feature Sets.ipynb",
   "provenance": [
    {
     "file_id": "/v2/external/notebooks/mlcc/feature_sets.ipynb",
     "timestamp": 1529956667755
    }
   ],
   "version": "0.3.2",
   "views": {}
  },
  "kernelspec": {
   "display_name": "Julia 1.1.0",
   "language": "julia",
   "name": "julia-1.1"
  },
  "language_info": {
   "file_extension": ".jl",
   "mimetype": "application/julia",
   "name": "julia",
   "version": "1.1.0"
  }
 },
 "nbformat": 4,
 "nbformat_minor": 1
}
