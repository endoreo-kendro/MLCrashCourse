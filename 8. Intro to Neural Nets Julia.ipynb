{
 "cells": [
  {
   "cell_type": "markdown",
   "metadata": {
    "colab_type": "text",
    "id": "JndnmDMp66FL"
   },
   "source": [
    "This notebook is based on the file [Intro to Neural Nets programming exercise](https://colab.research.google.com/notebooks/mlcc/intro_to_neural_nets.ipynb?utm_source=mlcc&utm_campaign=colab-external&utm_medium=referral&utm_content=introneuralnets-colab&hl=en), which is part of Google's [Machine Learning Crash Course](https://developers.google.com/machine-learning/crash-course/)."
   ]
  },
  {
   "cell_type": "code",
   "execution_count": 1,
   "metadata": {
    "cellView": "both",
    "colab": {
     "autoexec": {
      "startup": false,
      "wait_interval": 0
     }
    },
    "colab_type": "code",
    "id": "hMqWDc_m6rUC"
   },
   "outputs": [],
   "source": [
    "# Licensed under the Apache License, Version 2.0 (the \"License\");\n",
    "# you may not use this file except in compliance with the License.\n",
    "# You may obtain a copy of the License at\n",
    "#\n",
    "# https://www.apache.org/licenses/LICENSE-2.0\n",
    "#\n",
    "# Unless required by applicable law or agreed to in writing, software\n",
    "# distributed under the License is distributed on an \"AS IS\" BASIS,\n",
    "# WITHOUT WARRANTIES OR CONDITIONS OF ANY KIND, either express or implied.\n",
    "# See the License for the specific language governing permissions and\n",
    "# limitations under the License."
   ]
  },
  {
   "cell_type": "markdown",
   "metadata": {
    "colab_type": "text",
    "id": "eV16J6oUY-HN",
    "slideshow": {
     "slide_type": "slide"
    }
   },
   "source": [
    "# Intro to Neural Networks"
   ]
  },
  {
   "cell_type": "markdown",
   "metadata": {
    "colab_type": "text",
    "id": "_wIcUFLSKNdx"
   },
   "source": [
    "**Learning Objectives:**\n",
    "  * Define a neural network (NN) and its hidden layers \n",
    "  * Train a neural network to learn nonlinearities in a dataset and achieve better performance than a linear regression model"
   ]
  },
  {
   "cell_type": "markdown",
   "metadata": {
    "colab_type": "text",
    "id": "_ZZ7f7prKNdy"
   },
   "source": [
    "In the previous exercises, we used synthetic features to help our model incorporate nonlinearities.\n",
    "\n",
    "One important set of nonlinearities was around latitude and longitude, but there may be others.\n",
    "\n",
    "We'll also switch back, for now, to a standard regression task, rather than the logistic regression task from the previous exercise. That is, we'll be predicting `median_house_value` directly."
   ]
  },
  {
   "cell_type": "markdown",
   "metadata": {
    "colab_type": "text",
    "id": "J2kqX6VZTHUy"
   },
   "source": [
    "## Setup\n",
    "\n",
    "First, let's load and prepare the data."
   ]
  },
  {
   "cell_type": "code",
   "execution_count": 2,
   "metadata": {
    "colab": {
     "autoexec": {
      "startup": false,
      "wait_interval": 0
     }
    },
    "colab_type": "code",
    "id": "AGOM1TUiKNdz"
   },
   "outputs": [
    {
     "name": "stderr",
     "output_type": "stream",
     "text": [
      "2019-02-24 14:37:13.958387: I tensorflow/core/platform/cpu_feature_guard.cc:141] Your CPU supports instructions that this TensorFlow binary was not compiled to use: SSE4.2 AVX AVX2 FMA\n"
     ]
    }
   ],
   "source": [
    "using Plots\n",
    "using Distributions\n",
    "gr(fmt=:png)\n",
    "using DataFrames\n",
    "using TensorFlow\n",
    "import CSV\n",
    "import StatsBase\n",
    "using PyCall\n",
    "using Random\n",
    "using Statistics\n",
    "\n",
    "sess=Session(Graph())\n",
    "california_housing_dataframe = CSV.read(\"california_housing_train.csv\", delim=\",\");\n",
    "california_housing_dataframe = california_housing_dataframe[shuffle(1:size(california_housing_dataframe, 1)),:];"
   ]
  },
  {
   "cell_type": "code",
   "execution_count": 3,
   "metadata": {
    "colab": {
     "autoexec": {
      "startup": false,
      "wait_interval": 0
     }
    },
    "colab_type": "code",
    "id": "2I8E2qhyKNd4"
   },
   "outputs": [
    {
     "data": {
      "text/plain": [
       "preprocess_targets (generic function with 1 method)"
      ]
     },
     "execution_count": 3,
     "metadata": {},
     "output_type": "execute_result"
    }
   ],
   "source": [
    "function preprocess_features(california_housing_dataframe)\n",
    "  \"\"\"Prepares input features from California housing data set.\n",
    "\n",
    "  Args:\n",
    "    california_housing_dataframe: A DataFrame expected to contain data\n",
    "      from the California housing data set.\n",
    "  Returns:\n",
    "    A DataFrame that contains the features to be used for the model, including\n",
    "    synthetic features.\n",
    "  \"\"\"\n",
    "  selected_features = california_housing_dataframe[\n",
    "    [:latitude,\n",
    "     :longitude,\n",
    "     :housing_median_age,\n",
    "     :total_rooms,\n",
    "     :total_bedrooms,\n",
    "     :population,\n",
    "     :households,\n",
    "     :median_income]]\n",
    "  processed_features = selected_features\n",
    "  # Create a synthetic feature.\n",
    "  processed_features[:rooms_per_person] = (\n",
    "    california_housing_dataframe[:total_rooms] ./\n",
    "    california_housing_dataframe[:population])\n",
    "  return processed_features\n",
    "end\n",
    "    \n",
    "function preprocess_targets(california_housing_dataframe)\n",
    "  \"\"\"Prepares target features (i.e., labels) from California housing data set.\n",
    "\n",
    "  Args:\n",
    "    california_housing_dataframe: A DataFrame expected to contain data\n",
    "      from the California housing data set.\n",
    "  Returns:\n",
    "    A DataFrame that contains the target feature.\n",
    "  \"\"\"\n",
    "  output_targets = DataFrame()\n",
    "  # Scale the target to be in units of thousands of dollars.\n",
    "  output_targets[:median_house_value] = (\n",
    "    california_housing_dataframe[:median_house_value] ./ 1000.0)\n",
    "  return output_targets\n",
    "end"
   ]
  },
  {
   "cell_type": "code",
   "execution_count": 4,
   "metadata": {
    "colab": {
     "autoexec": {
      "startup": false,
      "wait_interval": 0
     }
    },
    "colab_type": "code",
    "id": "pQzcj2B1T5dA"
   },
   "outputs": [
    {
     "name": "stdout",
     "output_type": "stream",
     "text": [
      "Training examples summary:\n",
      "Validation examples summary:\n",
      "Training targets summary:\n",
      "Validation targets summary:\n"
     ]
    },
    {
     "data": {
      "text/html": [
       "<table class=\"data-frame\"><thead><tr><th></th><th>variable</th><th>mean</th><th>min</th><th>median</th><th>max</th><th>nunique</th><th>nmissing</th><th>eltype</th></tr><tr><th></th><th>Symbol</th><th>Float64</th><th>Float64</th><th>Float64</th><th>Float64</th><th>Nothing</th><th>Nothing</th><th>DataType</th></tr></thead><tbody><p>1 rows × 8 columns</p><tr><th>1</th><td>median_house_value</td><td>207.114</td><td>14.999</td><td>179.45</td><td>500.001</td><td></td><td></td><td>Float64</td></tr></tbody></table>"
      ],
      "text/latex": [
       "\\begin{tabular}{r|cccccccc}\n",
       "\t& variable & mean & min & median & max & nunique & nmissing & eltype\\\\\n",
       "\t\\hline\n",
       "\t& Symbol & Float64 & Float64 & Float64 & Float64 & Nothing & Nothing & DataType\\\\\n",
       "\t\\hline\n",
       "\t1 & median\\_house\\_value & 207.114 & 14.999 & 179.45 & 500.001 &  &  & Float64 \\\\\n",
       "\\end{tabular}\n"
      ],
      "text/plain": [
       "1×8 DataFrame. Omitted printing of 2 columns\n",
       "│ Row │ variable           │ mean    │ min     │ median  │ max     │ nunique │\n",
       "│     │ \u001b[90mSymbol\u001b[39m             │ \u001b[90mFloat64\u001b[39m │ \u001b[90mFloat64\u001b[39m │ \u001b[90mFloat64\u001b[39m │ \u001b[90mFloat64\u001b[39m │ \u001b[90mNothing\u001b[39m │\n",
       "├─────┼────────────────────┼─────────┼─────────┼─────────┼─────────┼─────────┤\n",
       "│ 1   │ median_house_value │ 207.114 │ 14.999  │ 179.45  │ 500.001 │         │"
      ]
     },
     "execution_count": 4,
     "metadata": {},
     "output_type": "execute_result"
    }
   ],
   "source": [
    "# Choose the first 12000 (out of 17000) examples for training.\n",
    "training_examples = preprocess_features(first(california_housing_dataframe,12000))\n",
    "training_targets = preprocess_targets(first(california_housing_dataframe,12000))\n",
    "\n",
    "# Choose the last 5000 (out of 17000) examples for validation.\n",
    "validation_examples = preprocess_features(last(california_housing_dataframe,5000))\n",
    "validation_targets = preprocess_targets(last(california_housing_dataframe,5000))\n",
    "\n",
    "# Double-check that we've done the right thing.\n",
    "println(\"Training examples summary:\")\n",
    "describe(training_examples)\n",
    "println(\"Validation examples summary:\")\n",
    "describe(validation_examples)\n",
    "\n",
    "println(\"Training targets summary:\")\n",
    "describe(training_targets)\n",
    "println(\"Validation targets summary:\")\n",
    "describe(validation_targets)"
   ]
  },
  {
   "cell_type": "markdown",
   "metadata": {
    "colab_type": "text",
    "id": "RWq0xecNKNeG"
   },
   "source": [
    "## Building a Neural Network\n",
    "\n",
    "Use **`hidden_units`** to define the structure of the NN.  The `hidden_units` argument provides a list of ints, where each int corresponds to a hidden layer and indicates the number of nodes in it.  For example, consider the following assignment:\n",
    "\n",
    "`hidden_units=[3,10]`\n",
    "\n",
    "The preceding assignment specifies a neural net with two hidden layers:\n",
    "\n",
    "* The first hidden layer contains 3 nodes.\n",
    "* The second hidden layer contains 10 nodes.\n",
    "\n",
    "If we wanted to add more layers, we'd add more ints to the list. For example, `hidden_units=[10,20,30,40]` would create four layers with ten, twenty, thirty, and forty units, respectively.\n",
    "\n",
    "By default, all hidden layers will use ReLu activation and will be fully connected."
   ]
  },
  {
   "cell_type": "code",
   "execution_count": 5,
   "metadata": {
    "colab": {
     "autoexec": {
      "startup": false,
      "wait_interval": 0
     }
    },
    "colab_type": "code",
    "id": "ni0S6zHcTb04"
   },
   "outputs": [
    {
     "data": {
      "text/plain": [
       "construct_columns (generic function with 1 method)"
      ]
     },
     "execution_count": 5,
     "metadata": {},
     "output_type": "execute_result"
    }
   ],
   "source": [
    "function construct_columns(input_features)\n",
    "  \"\"\"Construct the TensorFlow Feature Columns.\n",
    "\n",
    "  Args:\n",
    "    input_features: DataFrame of the numerical input features to use.\n",
    "  Returns:\n",
    "    A set of feature columns\n",
    "  \"\"\" \n",
    "  out=convert(Matrix, input_features[:,:])\n",
    "  return convert(Matrix{Float64},out)\n",
    "    \n",
    "end"
   ]
  },
  {
   "cell_type": "code",
   "execution_count": 6,
   "metadata": {},
   "outputs": [
    {
     "data": {
      "text/plain": [
       "create_batches (generic function with 3 methods)"
      ]
     },
     "execution_count": 6,
     "metadata": {},
     "output_type": "execute_result"
    }
   ],
   "source": [
    "function create_batches(features, targets, steps, batch_size=5, num_epochs=0)\n",
    "  \"\"\"Create batches.\n",
    "\n",
    "  Args:\n",
    "    features: Input features.\n",
    "    targets: Target column.\n",
    "    steps: Number of steps.\n",
    "    batch_size: Batch size.\n",
    "    num_epochs: Number of epochs, 0 will let TF automatically calculate the correct number\n",
    "  Returns:\n",
    "    An extended set of feature and target columns from which batches can be extracted.\n",
    "  \"\"\"  \n",
    "    \n",
    "    if(num_epochs==0)\n",
    "        num_epochs=ceil(batch_size*steps/size(features,1))\n",
    "    end\n",
    "    \n",
    "    names_features=names(features);\n",
    "    names_targets=names(targets);\n",
    "    \n",
    "    features_batches=copy(features)\n",
    "    target_batches=copy(targets)\n",
    "\n",
    "    for i=1:num_epochs\n",
    "        \n",
    "        select=shuffle(1:size(features,1))\n",
    "     \n",
    "        if i==1\n",
    "            features_batches=(features[select,:])\n",
    "            target_batches=(targets[select,:])\n",
    "        else\n",
    "            \n",
    "            append!(features_batches, features[select,:])\n",
    "            append!(target_batches, targets[select,:])\n",
    "        end\n",
    "    end\n",
    "    return features_batches, target_batches \n",
    "end"
   ]
  },
  {
   "cell_type": "code",
   "execution_count": 7,
   "metadata": {},
   "outputs": [
    {
     "data": {
      "text/plain": [
       "next_batch (generic function with 1 method)"
      ]
     },
     "execution_count": 7,
     "metadata": {},
     "output_type": "execute_result"
    }
   ],
   "source": [
    "function next_batch(features_batches, targets_batches, batch_size, iter)\n",
    "  \"\"\"Next batch.\n",
    "\n",
    "  Args:\n",
    "    features_batches: Features batches from create_batches.\n",
    "    targets_batches: Target batches from create_batches.\n",
    "    batch_size: Batch size.\n",
    "    iter: Number of the current iteration\n",
    "  Returns:\n",
    "    An extended set of feature and target columns from which batches can be extracted.\n",
    "  \"\"\" \n",
    "    select=mod((iter-1)*batch_size+1, size(features_batches,1)):mod(iter*batch_size, size(features_batches,1));\n",
    "\n",
    "    ds=features_batches[select,:];\n",
    "    target=targets_batches[select,:];\n",
    "    \n",
    "    return ds, target\n",
    "end"
   ]
  },
  {
   "cell_type": "code",
   "execution_count": 8,
   "metadata": {},
   "outputs": [
    {
     "data": {
      "text/plain": [
       "my_input_fn (generic function with 3 methods)"
      ]
     },
     "execution_count": 8,
     "metadata": {},
     "output_type": "execute_result"
    }
   ],
   "source": [
    "function my_input_fn(features_batches, targets_batches, iter, batch_size=5, shuffle_flag=1)\n",
    "    \"\"\"Prepares a batch of features and labels for model training.\n",
    "  \n",
    "    Args:\n",
    "      features_batches: Features batches from create_batches.\n",
    "      targets_batches: Target batches from create_batches.\n",
    "      iter: Number of the current iteration\n",
    "      batch_size: Batch size.\n",
    "      shuffle_flag: Determines wether data is shuffled before being returned\n",
    "    Returns:\n",
    "      Tuple of (features, labels) for next data batch\n",
    "    \"\"\"                                          \n",
    " \n",
    "    # Construct a dataset, and configure batching/repeating.\n",
    "    ds, target = next_batch(features_batches, targets_batches, batch_size, iter)\n",
    "    \n",
    "    # Shuffle the data, if specified.\n",
    "    if shuffle_flag==1\n",
    "      select=shuffle(1:size(ds, 1));\n",
    "        ds = ds[select,:]\n",
    "        target = target[select, :]\n",
    "    end\n",
    "    \n",
    "    # Return the next batch of data.\n",
    "    return ds, target\n",
    "end"
   ]
  },
  {
   "cell_type": "code",
   "execution_count": 9,
   "metadata": {},
   "outputs": [
    {
     "data": {
      "text/plain": [
       "train_nn_regression_model (generic function with 1 method)"
      ]
     },
     "execution_count": 9,
     "metadata": {},
     "output_type": "execute_result"
    }
   ],
   "source": [
    "function train_nn_regression_model(learning_rate,\n",
    "                     steps, \n",
    "                     batch_size, \n",
    "                     hidden_units,\n",
    "                     keep_probability,\n",
    "                     training_examples, \n",
    "                     training_targets, \n",
    "                     validation_examples, \n",
    "                     validation_targets)\n",
    "  \"\"\"Trains a neural network model of one feature.\n",
    "  \n",
    "  Args:\n",
    "    learning_rate: A `float`, the learning rate.\n",
    "    steps: A non-zero `int`, the total number of training steps. A training step\n",
    "      consists of a forward and backward pass using a single batch.\n",
    "    batch_size: A non-zero `int`, the batch size.\n",
    "    hidden_units: A vector describing the layout of the neural network\n",
    "    keep_probability: A `float`, the probability of keeping a node active during one training step.\n",
    "  \"\"\"\n",
    "  \n",
    "  periods = 10\n",
    "  steps_per_period = steps / periods\n",
    "\n",
    "  # Create feature columns.\n",
    "  feature_columns = placeholder(Float32, shape=[-1, size(construct_columns(training_examples),2)])\n",
    "  target_columns = placeholder(Float32, shape=[-1, size(construct_columns(training_targets),2)])\n",
    "  \n",
    "  # Network parameters\n",
    "  push!(hidden_units,size(training_targets,2)) #create an output node that fits to the size of the targets\n",
    "  activation_functions = Vector{Function}(undef, size(hidden_units,1))\n",
    "  activation_functions[1:end-1] .= z->nn.dropout(nn.relu(z), keep_probability)\n",
    "  activation_functions[end] = identity #Last function should be idenity as we need the logits  \n",
    "    \n",
    "  # create network - professional template\n",
    "  Zs = [feature_columns]\n",
    "  for (ii,(hlsize, actfun)) in enumerate(zip(hidden_units, activation_functions))\n",
    "        Wii = get_variable(\"W_$ii\"*randstring(4), [get_shape(Zs[end], 2), hlsize], Float32)\n",
    "        bii = get_variable(\"b_$ii\"*randstring(4), [hlsize], Float32)\n",
    "        Zii = actfun(Zs[end]*Wii + bii)\n",
    "        push!(Zs, Zii)\n",
    "  end\n",
    "  \n",
    "  y=Zs[end]\n",
    "  loss=reduce_sum((target_columns - y).^2)\n",
    " \n",
    "  features_batches, targets_batches = create_batches(training_examples, training_targets, steps, batch_size)\n",
    "   \n",
    "  # Advanced gradient decent with gradient clipping\n",
    "  my_optimizer=(train.AdamOptimizer(learning_rate))\n",
    "  gvs = train.compute_gradients(my_optimizer, loss)\n",
    "  capped_gvs = [(clip_by_norm(grad, 5.), var) for (grad, var) in gvs]\n",
    "  my_optimizer = train.apply_gradients(my_optimizer,capped_gvs)\n",
    "    \n",
    "  run(sess, global_variables_initializer())\n",
    "    \n",
    "  # Train the model, but do so inside a loop so that we can periodically assess\n",
    "  # loss metrics.\n",
    "  println(\"Training model...\")\n",
    "  println(\"RMSE (on training data):\")\n",
    "  training_rmse = []\n",
    "  validation_rmse=[]\n",
    "  \n",
    "  for period in 1:periods\n",
    "    # Train the model, starting from the prior state.\n",
    "   for i=1:steps_per_period\n",
    "    features, labels = my_input_fn(features_batches, targets_batches, convert(Int,(period-1)*steps_per_period+i), batch_size)\n",
    "    run(sess, my_optimizer, Dict(feature_columns=>construct_columns(features), target_columns=>construct_columns(labels)))\n",
    "   end\n",
    "    # Take a break and compute predictions.\n",
    "    training_predictions = run(sess, y, Dict(feature_columns=> construct_columns(training_examples)));    \n",
    "    validation_predictions = run(sess, y, Dict(feature_columns=> construct_columns(validation_examples)));  \n",
    "                                   \n",
    "    # Compute loss.\n",
    "     training_mean_squared_error = mean((training_predictions- construct_columns(training_targets)).^2)\n",
    "     training_root_mean_squared_error = sqrt(training_mean_squared_error)\n",
    "     validation_mean_squared_error = mean((validation_predictions- construct_columns(validation_targets)).^2)\n",
    "     validation_root_mean_squared_error = sqrt(validation_mean_squared_error)\n",
    "    # Occasionally print the current loss.\n",
    "    println(\"  period \", period, \": \", training_root_mean_squared_error)\n",
    "    # Add the loss metrics from this period to our list.\n",
    "    push!(training_rmse, training_root_mean_squared_error)\n",
    "    push!(validation_rmse, validation_root_mean_squared_error)\n",
    " end\n",
    "    \n",
    "  println(\"Model training finished.\")\n",
    "\n",
    "  # Output a graph of loss metrics over periods.\n",
    "  p1=plot(training_rmse, label=\"training\", title=\"Root Mean Squared Error vs. Periods\", ylabel=\"RMSE\", xlabel=\"Periods\")\n",
    "  p1=plot!(validation_rmse, label=\"validation\")\n",
    "    \n",
    "  #\n",
    "  println(\"Final RMSE (on training data): \", training_rmse[end])\n",
    "  println(\"Final RMSE (on validation data): \", validation_rmse[end])\n",
    "    \n",
    "  return y, feature_columns, p1 \n",
    "end"
   ]
  },
  {
   "cell_type": "markdown",
   "metadata": {
    "colab_type": "text",
    "id": "2QhdcCy-Y8QR",
    "slideshow": {
     "slide_type": "slide"
    }
   },
   "source": [
    "## Task 1: Train a NN Model\n",
    "\n",
    "**Adjust hyperparameters, aiming to drop RMSE below 110.**\n",
    "\n",
    "Run the following block to train a NN model.  \n",
    "\n",
    "Recall that in the linear regression exercise with many features, an RMSE of 110 or so was pretty good.  We'll aim to beat that.\n",
    "\n",
    "Your task here is to modify various learning settings to improve accuracy on validation data.\n",
    "\n",
    "Overfitting is a real potential hazard for NNs.  You can look at the gap between loss on training data and loss on validation data to help judge if your model is starting to overfit. If the gap starts to grow, that is usually a sure sign of overfitting.\n",
    "\n",
    "Because of the number of different possible settings, it's strongly recommended that you take notes on each trial to help guide your development process.\n",
    "\n",
    "Also, when you get a good setting, try running it multiple times and see how repeatable your result is. NN weights are typically initialized to small random values, so you should see differences from run to run.\n"
   ]
  },
  {
   "cell_type": "code",
   "execution_count": 10,
   "metadata": {},
   "outputs": [
    {
     "name": "stdout",
     "output_type": "stream",
     "text": [
      "Training model...\n",
      "RMSE (on training data):\n",
      "  period 1: 159.5003388798359\n",
      "  period 2: 146.17210524272318\n",
      "  period 3: 115.86667616689647\n",
      "  period 4: 103.41430171920487\n",
      "  period 5: 101.759607509385\n",
      "  period 6: 100.03529275063775\n",
      "  period 7: 99.1696604548445\n",
      "  period 8: 97.63196027126274\n",
      "  period 9: 96.23186697214885\n",
      "  period 10: 96.03693581788262\n",
      "Model training finished.\n",
      "Final RMSE (on training data): 96.03693581788262\n",
      "Final RMSE (on validation data): 95.03425708133081\n"
     ]
    },
    {
     "data": {
      "text/plain": [
       "(<Tensor Identity:1 shape=(?, 1) dtype=Float32>, <Tensor placeholder:1 shape=(?, 9) dtype=Float32>, Plot{Plots.GRBackend() n=2})"
      ]
     },
     "execution_count": 10,
     "metadata": {},
     "output_type": "execute_result"
    }
   ],
   "source": [
    " output_function, output_columns, p1 = train_nn_regression_model(\n",
    "    # TWEAK THESE VALUES TO SEE HOW MUCH YOU CAN IMPROVE THE RMSE\n",
    "    0.001, #learning rate\n",
    "    2000, #steps\n",
    "    100, #batch_size\n",
    "    [10, 10], #hidden_units\n",
    "    1.0, # keep probability\n",
    "    training_examples,\n",
    "    training_targets,\n",
    "    validation_examples,\n",
    "    validation_targets)"
   ]
  },
  {
   "cell_type": "code",
   "execution_count": 11,
   "metadata": {},
   "outputs": [
    {
     "data": {
      "image/png": "[encoded data removed]"
     },
     "execution_count": 11,
     "metadata": {},
     "output_type": "execute_result"
    }
   ],
   "source": [
    "plot(p1)"
   ]
  },
  {
   "cell_type": "markdown",
   "metadata": {
    "colab_type": "text",
    "id": "c6diezCSeH4Y",
    "slideshow": {
     "slide_type": "slide"
    }
   },
   "source": [
    "## Task 2: Evaluate on Test Data\n",
    "\n",
    "**Confirm that your validation performance results hold up on test data.**\n",
    "\n",
    "Once you have a model you're happy with, evaluate it on test data to compare that to validation performance.\n",
    "\n",
    "Reminder, the test data set is located [here](https://storage.googleapis.com/mledu-datasets/california_housing_test.csv)."
   ]
  },
  {
   "cell_type": "markdown",
   "metadata": {
    "colab_type": "text",
    "id": "FyDh7Qy6rQb0"
   },
   "source": [
    "Similar to what the code at the top does, we just need to load the appropriate data file, preprocess it and call predict and mean_squared_error.\n",
    "\n",
    "Note that we don't have to randomize the test data, since we will use all records."
   ]
  },
  {
   "cell_type": "code",
   "execution_count": 12,
   "metadata": {},
   "outputs": [
    {
     "name": "stdout",
     "output_type": "stream",
     "text": [
      "Final RMSE (on test data): 94.71009531508615"
     ]
    }
   ],
   "source": [
    "california_housing_test_data  = CSV.read(\"california_housing_test.csv\", delim=\",\");\n",
    "test_examples = preprocess_features(california_housing_test_data)\n",
    "test_targets = preprocess_targets(california_housing_test_data)\n",
    "\n",
    "test_predictions  = run(sess, output_function, Dict(output_columns=> construct_columns(test_examples))); \n",
    "test_mean_squared_error = mean((test_predictions- construct_columns(test_targets)).^2)\n",
    "test_root_mean_squared_error = sqrt(test_mean_squared_error)\n",
    "\n",
    "print(\"Final RMSE (on test data): \", test_root_mean_squared_error)"
   ]
  },
  {
   "cell_type": "code",
   "execution_count": 13,
   "metadata": {},
   "outputs": [],
   "source": [
    "#EOF"
   ]
  }
 ],
 "metadata": {
  "colab": {
   "collapsed_sections": [
    "JndnmDMp66FL",
    "O2q5RRCKqYaU",
    "vvT2jDWjrKew"
   ],
   "default_view": {},
   "name": "8. Intro to Neural Nets.ipynb",
   "provenance": [
    {
     "file_id": "/v2/external/notebooks/mlcc/intro_to_neural_nets.ipynb",
     "timestamp": 1531038995036
    }
   ],
   "version": "0.3.2",
   "views": {}
  },
  "kernelspec": {
   "display_name": "Julia 1.1.0",
   "language": "julia",
   "name": "julia-1.1"
  },
  "language_info": {
   "file_extension": ".jl",
   "mimetype": "application/julia",
   "name": "julia",
   "version": "1.1.0"
  }
 },
 "nbformat": 4,
 "nbformat_minor": 1
}
