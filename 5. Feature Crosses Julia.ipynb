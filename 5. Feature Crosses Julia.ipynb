{
 "cells": [
  {
   "cell_type": "markdown",
   "metadata": {
    "colab_type": "text",
    "id": "JndnmDMp66FL"
   },
   "source": [
    "This notebook is based on the file [Feature crosses programming exercise](https://colab.research.google.com/notebooks/mlcc/feature_crosses.ipynb?utm_source=mlcc&utm_campaign=colab-external&utm_medium=referral&utm_content=featurecrosses-colab&hl=en), which is part of Google's [Machine Learning Crash Course](https://developers.google.com/machine-learning/crash-course/)."
   ]
  },
  {
   "cell_type": "code",
   "execution_count": 1,
   "metadata": {
    "cellView": "both",
    "colab": {
     "autoexec": {
      "startup": false,
      "wait_interval": 0
     }
    },
    "colab_type": "code",
    "id": "hMqWDc_m6rUC"
   },
   "outputs": [],
   "source": [
    "# Licensed under the Apache License, Version 2.0 (the \"License\");\n",
    "# you may not use this file except in compliance with the License.\n",
    "# You may obtain a copy of the License at\n",
    "#\n",
    "# https://www.apache.org/licenses/LICENSE-2.0\n",
    "#\n",
    "# Unless required by applicable law or agreed to in writing, software\n",
    "# distributed under the License is distributed on an \"AS IS\" BASIS,\n",
    "# WITHOUT WARRANTIES OR CONDITIONS OF ANY KIND, either express or implied.\n",
    "# See the License for the specific language governing permissions and\n",
    "# limitations under the License."
   ]
  },
  {
   "cell_type": "markdown",
   "metadata": {
    "colab_type": "text",
    "id": "g4T-_IsVbweU"
   },
   "source": [
    "# Feature Crosses"
   ]
  },
  {
   "cell_type": "markdown",
   "metadata": {
    "colab_type": "text",
    "id": "F7dke6skIK-k"
   },
   "source": [
    "**Learning Objectives:**\n",
    "  * Improve a linear regression model with the addition of additional synthetic features (this is a continuation of the previous exercise)\n",
    "  * Use an input function to convert  `DataFrame` objects to feature columns\n",
    "  * Use the Adam optimization algorithm for model training\n",
    "  * Create new synthetic features through one-hot encoding, binning, and feature crosses"
   ]
  },
  {
   "cell_type": "markdown",
   "metadata": {
    "colab_type": "text",
    "id": "NS_fcQRd8B97"
   },
   "source": [
    "## Setup"
   ]
  },
  {
   "cell_type": "markdown",
   "metadata": {
    "colab_type": "text",
    "id": "4IdzD8IdIK-l"
   },
   "source": [
    "First, as we've done in previous exercises, let's define the input and create the data-loading code."
   ]
  },
  {
   "cell_type": "code",
   "execution_count": 2,
   "metadata": {
    "colab": {
     "autoexec": {
      "startup": false,
      "wait_interval": 0
     }
    },
    "colab_type": "code",
    "id": "CsfdiLiDIK-n"
   },
   "outputs": [
    {
     "name": "stderr",
     "output_type": "stream",
     "text": [
      "2019-02-24 14:12:38.860817: I tensorflow/core/platform/cpu_feature_guard.cc:141] Your CPU supports instructions that this TensorFlow binary was not compiled to use: SSE4.2 AVX AVX2 FMA\n"
     ]
    }
   ],
   "source": [
    "using Plots\n",
    "gr(fmt=:png)\n",
    "using DataFrames\n",
    "using TensorFlow\n",
    "import CSV\n",
    "import StatsBase\n",
    "using Random\n",
    "using Statistics\n",
    "\n",
    "sess=Session()\n",
    "california_housing_dataframe = CSV.read(\"california_housing_train.csv\", delim=\",\");\n",
    "california_housing_dataframe = california_housing_dataframe[shuffle(1:size(california_housing_dataframe, 1)),:];"
   ]
  },
  {
   "cell_type": "code",
   "execution_count": 3,
   "metadata": {
    "colab": {
     "autoexec": {
      "startup": false,
      "wait_interval": 0
     }
    },
    "colab_type": "code",
    "id": "10rhoflKIK-s"
   },
   "outputs": [
    {
     "data": {
      "text/plain": [
       "preprocess_targets (generic function with 1 method)"
      ]
     },
     "execution_count": 3,
     "metadata": {},
     "output_type": "execute_result"
    }
   ],
   "source": [
    "function preprocess_features(california_housing_dataframe)\n",
    "  \"\"\"Prepares input features from California housing data set.\n",
    "\n",
    "  Args:\n",
    "    california_housing_dataframe: A DataFrame expected to contain data\n",
    "      from the California housing data set.\n",
    "  Returns:\n",
    "    A DataFrame that contains the features to be used for the model, including\n",
    "    synthetic features.\n",
    "  \"\"\"\n",
    "  selected_features = california_housing_dataframe[\n",
    "    [:latitude,\n",
    "     :longitude,\n",
    "     :housing_median_age,\n",
    "     #:total_rooms,\n",
    "     #:total_bedrooms,\n",
    "     #:population,\n",
    "     :households,\n",
    "     :median_income]]\n",
    "  processed_features = selected_features\n",
    "  # Create a synthetic feature.\n",
    "  processed_features[:rooms_per_person] = (\n",
    "    california_housing_dataframe[:total_rooms] ./\n",
    "    california_housing_dataframe[:population])\n",
    "  return processed_features\n",
    "end\n",
    "    \n",
    "function preprocess_targets(california_housing_dataframe)\n",
    "  \"\"\"Prepares target features (i.e., labels) from California housing data set.\n",
    "\n",
    "  Args:\n",
    "    california_housing_dataframe: A DataFrame expected to contain data\n",
    "      from the California housing data set.\n",
    "  Returns:\n",
    "    A DataFrame that contains the target feature.\n",
    "  \"\"\"\n",
    "  output_targets = DataFrame()\n",
    "  # Scale the target to be in units of thousands of dollars.\n",
    "  output_targets[:median_house_value] = (\n",
    "    california_housing_dataframe[:median_house_value] ./ 1000.0)\n",
    "  return output_targets\n",
    "end"
   ]
  },
  {
   "cell_type": "code",
   "execution_count": 4,
   "metadata": {
    "colab": {
     "autoexec": {
      "startup": false,
      "wait_interval": 0
     },
     "base_uri": "https://localhost:8080/",
     "height": 1205
    },
    "colab_type": "code",
    "executionInfo": {
     "elapsed": 977,
     "status": "ok",
     "timestamp": 1530124536915,
     "user": {
      "displayName": "Sören Dobberschütz",
      "photoUrl": "//lh4.googleusercontent.com/-zjTpujRnBgI/AAAAAAAAAAI/AAAAAAAAjqE/N66w7uuWXRY/s50-c-k-no/photo.jpg",
      "userId": "109321859854799946351"
     },
     "user_tz": -120
    },
    "id": "ufplEkjN8KUp",
    "outputId": "a87b216f-e368-493e-997b-2f3636084ed8"
   },
   "outputs": [
    {
     "name": "stdout",
     "output_type": "stream",
     "text": [
      "Training examples summary:\n",
      "Validation examples summary:\n",
      "Training targets summary:\n",
      "Validation targets summary:\n"
     ]
    },
    {
     "data": {
      "text/html": [
       "<table class=\"data-frame\"><thead><tr><th></th><th>variable</th><th>mean</th><th>min</th><th>median</th><th>max</th><th>nunique</th><th>nmissing</th><th>eltype</th></tr><tr><th></th><th>Symbol</th><th>Float64</th><th>Float64</th><th>Float64</th><th>Float64</th><th>Nothing</th><th>Nothing</th><th>DataType</th></tr></thead><tbody><p>1 rows × 8 columns</p><tr><th>1</th><td>median_house_value</td><td>209.163</td><td>14.999</td><td>181.95</td><td>500.001</td><td></td><td></td><td>Float64</td></tr></tbody></table>"
      ],
      "text/latex": [
       "\\begin{tabular}{r|cccccccc}\n",
       "\t& variable & mean & min & median & max & nunique & nmissing & eltype\\\\\n",
       "\t\\hline\n",
       "\t& Symbol & Float64 & Float64 & Float64 & Float64 & Nothing & Nothing & DataType\\\\\n",
       "\t\\hline\n",
       "\t1 & median\\_house\\_value & 209.163 & 14.999 & 181.95 & 500.001 &  &  & Float64 \\\\\n",
       "\\end{tabular}\n"
      ],
      "text/plain": [
       "1×8 DataFrame. Omitted printing of 2 columns\n",
       "│ Row │ variable           │ mean    │ min     │ median  │ max     │ nunique │\n",
       "│     │ \u001b[90mSymbol\u001b[39m             │ \u001b[90mFloat64\u001b[39m │ \u001b[90mFloat64\u001b[39m │ \u001b[90mFloat64\u001b[39m │ \u001b[90mFloat64\u001b[39m │ \u001b[90mNothing\u001b[39m │\n",
       "├─────┼────────────────────┼─────────┼─────────┼─────────┼─────────┼─────────┤\n",
       "│ 1   │ median_house_value │ 209.163 │ 14.999  │ 181.95  │ 500.001 │         │"
      ]
     },
     "execution_count": 4,
     "metadata": {},
     "output_type": "execute_result"
    }
   ],
   "source": [
    "# Choose the first 12000 (out of 17000) examples for training.\n",
    "training_examples = preprocess_features(first(california_housing_dataframe,12000))\n",
    "training_targets = preprocess_targets(first(california_housing_dataframe,12000))\n",
    "\n",
    "# Choose the last 5000 (out of 17000) examples for validation.\n",
    "validation_examples = preprocess_features(last(california_housing_dataframe,5000))\n",
    "validation_targets = preprocess_targets(last(california_housing_dataframe,5000))\n",
    "\n",
    "# Double-check that we've done the right thing.\n",
    "println(\"Training examples summary:\")\n",
    "describe(training_examples)\n",
    "println(\"Validation examples summary:\")\n",
    "describe(validation_examples)\n",
    "\n",
    "println(\"Training targets summary:\")\n",
    "describe(training_targets)\n",
    "println(\"Validation targets summary:\")\n",
    "describe(validation_targets)"
   ]
  },
  {
   "cell_type": "code",
   "execution_count": 5,
   "metadata": {
    "colab": {
     "autoexec": {
      "startup": false,
      "wait_interval": 0
     }
    },
    "colab_type": "code",
    "id": "oJlrB4rJ_2Ma"
   },
   "outputs": [
    {
     "data": {
      "text/plain": [
       "construct_feature_columns (generic function with 1 method)"
      ]
     },
     "execution_count": 5,
     "metadata": {},
     "output_type": "execute_result"
    }
   ],
   "source": [
    "function construct_feature_columns(input_features)\n",
    "  \"\"\"Construct the TensorFlow Feature Columns.\n",
    "\n",
    "  Args:\n",
    "    input_features: The names of the numerical input features to use.\n",
    "  Returns:\n",
    "    A set of feature columns\n",
    "  \"\"\" \n",
    "  out=convert(Matrix, input_features[:,:])\n",
    "  return convert(Matrix{Float64},out) \n",
    "end"
   ]
  },
  {
   "cell_type": "code",
   "execution_count": 6,
   "metadata": {},
   "outputs": [
    {
     "data": {
      "text/plain": [
       "create_batches (generic function with 3 methods)"
      ]
     },
     "execution_count": 6,
     "metadata": {},
     "output_type": "execute_result"
    }
   ],
   "source": [
    "function create_batches(features, targets, steps, batch_size=5, num_epochs=0)\n",
    "  \"\"\"Create batches.\n",
    "\n",
    "  Args:\n",
    "    features: Input features.\n",
    "    targets: Target column.\n",
    "    steps: Number of steps.\n",
    "    batch_size: Batch size.\n",
    "    num_epochs: Number of epochs, 0 will let TF automatically calculate the correct number\n",
    "  Returns:\n",
    "    An extended set of feature and target columns from which batches can be extracted.\n",
    "  \"\"\"     \n",
    "    if(num_epochs==0)\n",
    "        num_epochs=ceil(batch_size*steps/size(features,1))\n",
    "    end\n",
    "    \n",
    "    names_features=names(features);\n",
    "    names_targets=names(targets);\n",
    "    \n",
    "    features_batches=copy(features)\n",
    "    target_batches=copy(targets)\n",
    "    \n",
    "\n",
    "    for i=1:num_epochs\n",
    "        \n",
    "        select=shuffle(1:size(features,1))\n",
    "     \n",
    "        if i==1\n",
    "            features_batches=(features[select,:])\n",
    "            target_batches=(targets[select,:])\n",
    "        else\n",
    "            \n",
    "            append!(features_batches, features[select,:])\n",
    "            append!(target_batches, targets[select,:])\n",
    "        end\n",
    "    end\n",
    "    \n",
    "    return features_batches, target_batches \n",
    "end"
   ]
  },
  {
   "cell_type": "code",
   "execution_count": 7,
   "metadata": {},
   "outputs": [
    {
     "data": {
      "text/plain": [
       "next_batch (generic function with 1 method)"
      ]
     },
     "execution_count": 7,
     "metadata": {},
     "output_type": "execute_result"
    }
   ],
   "source": [
    "function next_batch(features_batches, targets_batches, batch_size, iter)\n",
    "  \"\"\"Next batch.\n",
    "\n",
    "  Args:\n",
    "    features_batches: Features batches from create_batches.\n",
    "    targets_batches: Target batches from create_batches.\n",
    "    batch_size: Batch size.\n",
    "    iter: Number of the current iteration\n",
    "  Returns:\n",
    "    An extended set of feature and target columns from which batches can be extracted.\n",
    "  \"\"\"     \n",
    "    select=mod((iter-1)*batch_size+1, size(features_batches,1)):mod(iter*batch_size, size(features_batches,1));\n",
    "\n",
    "    ds=features_batches[select,:];\n",
    "    target=targets_batches[select,:];\n",
    "    \n",
    "    return ds, target\n",
    "end"
   ]
  },
  {
   "cell_type": "code",
   "execution_count": 8,
   "metadata": {
    "colab": {
     "autoexec": {
      "startup": false,
      "wait_interval": 0
     }
    },
    "colab_type": "code",
    "id": "NBxoAfp2AcB6"
   },
   "outputs": [
    {
     "data": {
      "text/plain": [
       "my_input_fn (generic function with 3 methods)"
      ]
     },
     "execution_count": 8,
     "metadata": {},
     "output_type": "execute_result"
    }
   ],
   "source": [
    "function my_input_fn(features_batches, targets_batches, iter, batch_size=5, shuffle_flag=1)\n",
    "    \"\"\"Prepares a batch of features and labels for model training.\n",
    "  \n",
    "    Args:\n",
    "      features: DataFrame of features\n",
    "      targets: DataFrame of targets\n",
    "      batch_size: Size of batches to be passed to the model\n",
    "      shuffle: True or False. Whether to shuffle the data.\n",
    "      num_epochs: Number of epochs for which data should be repeated. None = repeat indefinitely\n",
    "    Returns:\n",
    "      Tuple of (features, labels) for next data batch\n",
    "    \"\"\"                                        \n",
    " \n",
    "    # Construct a dataset, and configure batching/repeating.\n",
    "    #ds = Dataset.from_tensor_slices((features,targets)) # warning: 2GB limit\n",
    "    ds, target = next_batch(features_batches, targets_batches, batch_size, iter)\n",
    "    \n",
    "    # Shuffle the data, if specified.\n",
    "    if shuffle_flag==1\n",
    "      select=shuffle(1:size(ds, 1));\n",
    "        ds = ds[select,:]\n",
    "        target = target[select, :]\n",
    "    end\n",
    "    \n",
    "    # Return the next batch of data.\n",
    "    # features, labels = ds.make_one_shot_iterator().get_next()\n",
    "    return ds, target\n",
    "end"
   ]
  },
  {
   "cell_type": "markdown",
   "metadata": {
    "colab_type": "text",
    "id": "hweDyy31LBsV"
   },
   "source": [
    "## Adam Optimization Algorithm\n",
    "\n",
    "High dimensional linear models benefit from using a variant of gradient-based optimization called Adam optimization. This algorithm has the benefit of scaling the learning rate differently for different coefficients, which can be useful if some features rarely take non-zero values. "
   ]
  },
  {
   "cell_type": "code",
   "execution_count": 9,
   "metadata": {
    "colab": {
     "autoexec": {
      "startup": false,
      "wait_interval": 0
     }
    },
    "colab_type": "code",
    "id": "S0SBf1X1IK_O"
   },
   "outputs": [
    {
     "data": {
      "text/plain": [
       "train_model (generic function with 1 method)"
      ]
     },
     "execution_count": 9,
     "metadata": {},
     "output_type": "execute_result"
    }
   ],
   "source": [
    "function train_model(learning_rate,\n",
    "                     steps, \n",
    "                     batch_size,\n",
    "                     feature_column_function::Function,\n",
    "                     training_examples, \n",
    "                     training_targets, \n",
    "                     validation_examples, \n",
    "                     validation_targets)\n",
    "  \"\"\"Trains a linear regression model of one feature.\n",
    "  \n",
    "  Args:\n",
    "    learning_rate: A `float`, the learning rate.\n",
    "    steps: A non-zero `int`, the total number of training steps. A training step\n",
    "      consists of a forward and backward pass using a single batch.\n",
    "    batch_size: A non-zero `int`, the batch size.\n",
    "    feature_column_function: Function for transforming the feature columns.\n",
    "    training_examples:\n",
    "    training_targets: \n",
    "    validation_examples: \n",
    "    validation_targets:\n",
    "  Returns:\n",
    "    weight: The weights of the model.\n",
    "    bias: Bias of the model.\n",
    "    p1: Graph containing the loss function values for the different iterations.\n",
    "  \"\"\"\n",
    "  \n",
    "  periods = 10\n",
    "  steps_per_period = steps / periods\n",
    "\n",
    "  # Create feature columns.\n",
    "  feature_columns = placeholder(Float32)\n",
    "  target_columns = placeholder(Float32)\n",
    "  \n",
    "  # Create a linear regressor object.\n",
    "  m=Variable(zeros(size(feature_column_function(training_examples),2),1))\n",
    "  b=Variable(0.0)\n",
    "  y=(feature_columns*m) .+ b\n",
    "  loss=reduce_sum((target_columns - y).^2)\n",
    " \n",
    "  features_batches, targets_batches = create_batches(training_examples, training_targets, steps, batch_size)\n",
    "    \n",
    "  # Set up Adam optimizer\n",
    "  my_optimizer=(train.AdamOptimizer(learning_rate))\n",
    "  gvs = train.compute_gradients(my_optimizer, loss)\n",
    "  capped_gvs = [(clip_by_norm(grad, 5.), var) for (grad, var) in gvs]\n",
    "  my_optimizer = train.apply_gradients(my_optimizer,capped_gvs)\n",
    "  run(sess, global_variables_initializer())\n",
    "    \n",
    "  # Train the model, but do so inside a loop so that we can periodically assess\n",
    "  # loss metrics.\n",
    "  println(\"Training model...\")\n",
    "  println(\"RMSE (on training data):\")\n",
    "  training_rmse = []\n",
    "  validation_rmse=[]\n",
    "  for period in 1:periods\n",
    "    # Train the model, starting from the prior state.\n",
    "   for i=1:steps_per_period\n",
    "    features, labels = my_input_fn(features_batches, targets_batches, convert(Int,(period-1)*steps_per_period+i), batch_size)\n",
    "    run(sess, my_optimizer, Dict(feature_columns=>feature_column_function(features), target_columns=>construct_feature_columns(labels)))\n",
    "   end\n",
    "    # Take a break and compute predictions.\n",
    "    training_predictions = run(sess, y, Dict(feature_columns=> feature_column_function(training_examples)));    \n",
    "    validation_predictions = run(sess, y, Dict(feature_columns=> feature_column_function(validation_examples)));  \n",
    "        \n",
    "    # Compute loss.\n",
    "     training_mean_squared_error = mean((training_predictions- construct_feature_columns(training_targets)).^2)\n",
    "     training_root_mean_squared_error = sqrt(training_mean_squared_error)\n",
    "     validation_mean_squared_error = mean((validation_predictions- construct_feature_columns(validation_targets)).^2)\n",
    "     validation_root_mean_squared_error = sqrt(validation_mean_squared_error)\n",
    "    # Occasionally print the current loss.\n",
    "    println(\"  period \", period, \": \", training_root_mean_squared_error)\n",
    "    # Add the loss metrics from this period to our list.\n",
    "    push!(training_rmse, training_root_mean_squared_error)\n",
    "    push!(validation_rmse, validation_root_mean_squared_error)\n",
    " end\n",
    "\n",
    "  weight = run(sess,m)\n",
    "  bias = run(sess,b)\n",
    "    \n",
    "  println(\"Model training finished.\")\n",
    "\n",
    "  # Output a graph of loss metrics over periods.\n",
    "  p1=plot(training_rmse, label=\"training\", title=\"Root Mean Squared Error vs. Periods\", ylabel=\"RMSE\", xlabel=\"Periods\")\n",
    "  p1=plot!(validation_rmse, label=\"validation\")\n",
    "    \n",
    "  println(\"Final RMSE (on training data): \", training_rmse[end])\n",
    "  println(\"Final Weight (on training data): \", weight)\n",
    "  println(\"Final Bias (on training data): \", bias)\n",
    "    \n",
    "  return weight, bias, p1 #, calibration_data   \n",
    "end"
   ]
  },
  {
   "cell_type": "code",
   "execution_count": 10,
   "metadata": {
    "colab": {
     "autoexec": {
      "startup": false,
      "wait_interval": 0
     },
     "base_uri": "https://localhost:8080/",
     "height": 622
    },
    "colab_type": "code",
    "executionInfo": {
     "elapsed": 126013,
     "status": "ok",
     "timestamp": 1530124982358,
     "user": {
      "displayName": "Sören Dobberschütz",
      "photoUrl": "//lh4.googleusercontent.com/-zjTpujRnBgI/AAAAAAAAAAI/AAAAAAAAjqE/N66w7uuWXRY/s50-c-k-no/photo.jpg",
      "userId": "109321859854799946351"
     },
     "user_tz": -120
    },
    "id": "1Cdr02tLIK_Q",
    "outputId": "fb7bd5cf-9679-4f94-8503-91e312e69f8b",
    "scrolled": true
   },
   "outputs": [
    {
     "name": "stdout",
     "output_type": "stream",
     "text": [
      "Training model...\n",
      "RMSE (on training data):\n",
      "  period 1: 163.40066528018832\n",
      "  period 2: 146.52114081767553\n",
      "  period 3: 140.86123226817278\n",
      "  period 4: 137.1772581781986\n",
      "  period 5: 130.62764204789096\n",
      "  period 6: 127.19379116167481\n",
      "  period 7: 123.66203006894426\n",
      "  period 8: 123.13795665497169\n",
      "  period 9: 123.16096172210501\n",
      "  period 10: 119.15539913574085\n",
      "Model training finished.\n",
      "Final RMSE (on training data): 119.15539913574085\n",
      "Final Weight (on training data): [0.705068; -0.732617; 0.739885; 0.120607; 1.07408; 0.94443]\n",
      "Final Bias (on training data): 0.4130073131683406\n"
     ]
    },
    {
     "data": {
      "text/plain": [
       "([0.705068; -0.732617; … ; 1.07408; 0.94443], 0.4130073131683406, Plot{Plots.GRBackend() n=2})"
      ]
     },
     "execution_count": 10,
     "metadata": {},
     "output_type": "execute_result"
    }
   ],
   "source": [
    "weight, bias, p1 = train_model(\n",
    "    # TWEAK THESE VALUES TO SEE HOW MUCH YOU CAN IMPROVE THE RMSE\n",
    "    0.003, #learning rate\n",
    "    500, #steps\n",
    "    5, #batch_size\n",
    "    construct_feature_columns, # feature column function\n",
    "    training_examples,\n",
    "    training_targets,\n",
    "    validation_examples,\n",
    "    validation_targets)"
   ]
  },
  {
   "cell_type": "code",
   "execution_count": 11,
   "metadata": {},
   "outputs": [
    {
     "data": {
      "image/png": "[encoded data removed]"
     },
     "execution_count": 11,
     "metadata": {},
     "output_type": "execute_result"
    }
   ],
   "source": [
    "plot(p1)"
   ]
  },
  {
   "cell_type": "markdown",
   "metadata": {
    "colab_type": "text",
    "id": "i4lGvqajDWlw"
   },
   "source": [
    "## One-Hot Encoding for Discrete Features\n",
    "\n",
    "Discrete (i.e. strings, enumerations, integers) features are usually converted into families of binary features before training a logistic regression model.\n",
    "\n",
    "For example, suppose we created a synthetic feature that can take any of the values `0`, `1` or `2`, and that we have a few training points:\n",
    "\n",
    "| # | feature_value |\n",
    "|---|---------------|\n",
    "| 0 |             2 |\n",
    "| 1 |             0 |\n",
    "| 2 |             1 |\n",
    "\n",
    "For each possible categorical value, we make a new **binary** feature of **real values** that can take one of just two possible values: 1.0 if the example has that value, and 0.0 if not. In the example above, the categorical feature would be converted into three features, and the training points now look like:\n",
    "\n",
    "| # | feature_value_0 | feature_value_1 | feature_value_2 |\n",
    "|---|-----------------|-----------------|-----------------|\n",
    "| 0 |             0.0 |             0.0 |             1.0 |\n",
    "| 1 |             1.0 |             0.0 |             0.0 |\n",
    "| 2 |             0.0 |             1.0 |             0.0 |"
   ]
  },
  {
   "cell_type": "markdown",
   "metadata": {
    "colab_type": "text",
    "id": "KnssXowblKm7"
   },
   "source": [
    "## Bucketized (Binned) Features\n",
    "\n",
    "Bucketization is also known as binning.\n",
    "\n",
    "We can bucketize `population` into the following 3 buckets (for instance):\n",
    "- `bucket_0` (`< 5000`): corresponding to less populated blocks\n",
    "- `bucket_1` (`5000 - 25000`): corresponding to mid populated blocks\n",
    "- `bucket_2` (`> 25000`): corresponding to highly populated blocks\n",
    "\n",
    "Given the preceding bucket definitions, the following `population` vector:\n",
    "\n",
    "    [[10001], [42004], [2500], [18000]]\n",
    "\n",
    "becomes the following bucketized feature vector:\n",
    "\n",
    "    [[1], [2], [0], [1]]\n",
    "\n",
    "The feature values are now the bucket indices. Note that these indices are considered to be discrete features. Typically, these will be further converted in one-hot representations as above, but this is done transparently.\n",
    "\n",
    "The following code defines bucketized feature columns for `households` and `longitude`; the `get_quantile_based_boundaries` function calculates boundaries based on quantiles, so that each bucket contains an equal number of elements."
   ]
  },
  {
   "cell_type": "code",
   "execution_count": 12,
   "metadata": {
    "colab": {
     "autoexec": {
      "startup": false,
      "wait_interval": 0
     }
    },
    "colab_type": "code",
    "id": "cc9qZrtRy-ED"
   },
   "outputs": [
    {
     "data": {
      "text/plain": [
       "get_quantile_based_boundaries (generic function with 1 method)"
      ]
     },
     "execution_count": 12,
     "metadata": {},
     "output_type": "execute_result"
    }
   ],
   "source": [
    "function get_quantile_based_boundaries(feature_values, num_buckets)\n",
    "  #Investigate why [:] is necessary - there is some conflict that construct_feature_columns\n",
    "  # spits out Array{Float64,2} where it should be Array{Float64,1}!!\n",
    "  quantiles = StatsBase.nquantile(construct_feature_columns(feature_values)[:], num_buckets)\n",
    "  return quantiles# [quantiles[q] for q in keys(quantiles)]\n",
    "end"
   ]
  },
  {
   "cell_type": "code",
   "execution_count": 13,
   "metadata": {},
   "outputs": [
    {
     "data": {
      "text/plain": [
       "construct_bucketized_column (generic function with 1 method)"
      ]
     },
     "execution_count": 13,
     "metadata": {},
     "output_type": "execute_result"
    }
   ],
   "source": [
    "function construct_bucketized_column(input_features, boundaries)\n",
    "    \n",
    "    data_out=zeros(size(input_features))\n",
    "    \n",
    "    for i=1:size(input_features,2)\n",
    "       curr_feature=input_features[:,i]\n",
    "       curr_boundary=boundaries[i]\n",
    "        \n",
    "        for k=1:length(curr_boundary)\n",
    "        for j=1:size(input_features,1)\n",
    "            if(curr_feature[j] >= curr_boundary[k] )\n",
    "                data_out[j,i]+=1\n",
    "            end\n",
    "        end\n",
    "        end\n",
    "\n",
    "    end\n",
    "    return data_out   \n",
    "end"
   ]
  },
  {
   "cell_type": "markdown",
   "metadata": {},
   "source": [
    "We need a special function to convert the bucketized columns into a one-hot encoding. Contrary to the high-level API of Python's TensorFlow, the Julia verion does not transparently handle buckets."
   ]
  },
  {
   "cell_type": "code",
   "execution_count": 14,
   "metadata": {},
   "outputs": [
    {
     "data": {
      "text/plain": [
       "construct_bucketized_onehot_column (generic function with 1 method)"
      ]
     },
     "execution_count": 14,
     "metadata": {},
     "output_type": "execute_result"
    }
   ],
   "source": [
    "function construct_bucketized_onehot_column(input_features, boundaries)\n",
    "    \n",
    "    length_out=0\n",
    "    for i=1:length(boundaries)\n",
    "        length_out+=length(boundaries[i])-1\n",
    "    end\n",
    "    \n",
    "    data_out=zeros(size(input_features,1), length_out)\n",
    "    \n",
    "    curr_index=1;\n",
    "    for i=1:size(input_features,2)\n",
    "       curr_feature=input_features[:,i]\n",
    "       curr_boundary=boundaries[i]\n",
    "        \n",
    "        for k=1:length(curr_boundary)-1\n",
    "        for j=1:size(input_features,1)\n",
    "            if((curr_feature[j] >= curr_boundary[k]) && (curr_feature[j] < curr_boundary[k+1] ))\n",
    "                data_out[j,curr_index]+=1\n",
    "            end\n",
    "        end\n",
    "            curr_index+=1;\n",
    "        end\n",
    "    end\n",
    "    return data_out   \n",
    "end"
   ]
  },
  {
   "cell_type": "markdown",
   "metadata": {},
   "source": [
    "Let's divide the household and longitude data into buckets."
   ]
  },
  {
   "cell_type": "code",
   "execution_count": 15,
   "metadata": {},
   "outputs": [
    {
     "data": {
      "text/plain": [
       "17000×10 Array{Float64,2}:\n",
       " 0.0  0.0  1.0  0.0  0.0  0.0  0.0  0.0  0.0  0.0\n",
       " 0.0  0.0  0.0  0.0  0.0  0.0  0.0  0.0  1.0  0.0\n",
       " 0.0  0.0  1.0  0.0  0.0  0.0  0.0  0.0  0.0  0.0\n",
       " 0.0  0.0  0.0  0.0  0.0  0.0  1.0  0.0  0.0  0.0\n",
       " 0.0  0.0  0.0  0.0  0.0  0.0  1.0  0.0  0.0  0.0\n",
       " 0.0  0.0  1.0  0.0  0.0  0.0  0.0  0.0  0.0  0.0\n",
       " 0.0  0.0  0.0  1.0  0.0  0.0  0.0  0.0  0.0  0.0\n",
       " 1.0  0.0  0.0  0.0  0.0  0.0  0.0  0.0  0.0  0.0\n",
       " 0.0  0.0  0.0  0.0  0.0  0.0  0.0  1.0  0.0  0.0\n",
       " 0.0  0.0  0.0  0.0  0.0  0.0  0.0  0.0  1.0  0.0\n",
       " 0.0  1.0  0.0  0.0  0.0  0.0  0.0  0.0  0.0  0.0\n",
       " 0.0  1.0  0.0  0.0  0.0  0.0  0.0  0.0  0.0  0.0\n",
       " 0.0  0.0  0.0  0.0  0.0  0.0  1.0  0.0  0.0  0.0\n",
       " ⋮                        ⋮                      \n",
       " 1.0  0.0  0.0  0.0  0.0  0.0  0.0  0.0  0.0  0.0\n",
       " 0.0  0.0  0.0  0.0  1.0  0.0  0.0  0.0  0.0  0.0\n",
       " 0.0  1.0  0.0  0.0  0.0  0.0  0.0  0.0  0.0  0.0\n",
       " 0.0  0.0  1.0  0.0  0.0  0.0  0.0  0.0  0.0  0.0\n",
       " 0.0  0.0  0.0  0.0  1.0  0.0  0.0  0.0  0.0  0.0\n",
       " 0.0  0.0  0.0  0.0  1.0  0.0  0.0  0.0  0.0  0.0\n",
       " 0.0  0.0  0.0  0.0  0.0  0.0  1.0  0.0  0.0  0.0\n",
       " 0.0  0.0  1.0  0.0  0.0  0.0  0.0  0.0  0.0  0.0\n",
       " 1.0  0.0  0.0  0.0  0.0  0.0  0.0  0.0  0.0  0.0\n",
       " 0.0  0.0  0.0  0.0  0.0  1.0  0.0  0.0  0.0  0.0\n",
       " 0.0  0.0  0.0  0.0  0.0  0.0  1.0  0.0  0.0  0.0\n",
       " 0.0  0.0  1.0  0.0  0.0  0.0  0.0  0.0  0.0  0.0"
      ]
     },
     "execution_count": 15,
     "metadata": {},
     "output_type": "execute_result"
    }
   ],
   "source": [
    "# Divide households into 7 buckets.\n",
    "households = california_housing_dataframe[:households]\n",
    "bucketized_households = construct_bucketized_onehot_column(\n",
    "    households, [get_quantile_based_boundaries(\n",
    "    california_housing_dataframe[:households], 7)])\n",
    "\n",
    "# Divide longitude into 10 buckets.\n",
    "longitude = california_housing_dataframe[:longitude]\n",
    "bucketized_longitude  = construct_bucketized_onehot_column(\n",
    "    longitude, [get_quantile_based_boundaries(\n",
    "    california_housing_dataframe[:longitude], 10)])"
   ]
  },
  {
   "cell_type": "markdown",
   "metadata": {
    "colab_type": "text",
    "id": "U-pQDAa0MeN3"
   },
   "source": [
    "## Task 1: Train the Model on Bucketized Feature Columns\n",
    "**Bucketize all the real valued features in our example, train the model and see if the results improve.**\n",
    "\n",
    "In the preceding code block, two real valued columns (namely `households` and `longitude`) have been transformed into bucketized feature columns. Your task is to bucketize the rest of the columns, then run the code to train the model. There are various heuristics to find the range of the buckets. This exercise uses a quantile-based technique, which chooses the bucket boundaries in such a way that each bucket has the same number of examples."
   ]
  },
  {
   "cell_type": "code",
   "execution_count": 16,
   "metadata": {
    "colab": {
     "autoexec": {
      "startup": false,
      "wait_interval": 0
     },
     "base_uri": "https://localhost:8080/",
     "height": 622
    },
    "colab_type": "code",
    "executionInfo": {
     "elapsed": 217426,
     "status": "ok",
     "timestamp": 1530126040355,
     "user": {
      "displayName": "Sören Dobberschütz",
      "photoUrl": "//lh4.googleusercontent.com/-zjTpujRnBgI/AAAAAAAAAAI/AAAAAAAAjqE/N66w7uuWXRY/s50-c-k-no/photo.jpg",
      "userId": "109321859854799946351"
     },
     "user_tz": -120
    },
    "id": "RNgfYk6OO8Sy",
    "outputId": "7ac63d40-03a5-4f18-a4a2-24cc6d343077"
   },
   "outputs": [
    {
     "data": {
      "text/plain": [
       "6-element Array{Array{Float64,1},1}:\n",
       " [32.55, 33.61, 33.85, 33.99, 34.09, 34.24, 36.61, 37.48, 37.81, 38.48, 41.95]                    \n",
       " [-124.3, -122.29, -121.98, -121.34, -119.83, -118.48, -118.3, -118.12, -117.87, -117.24, -114.31]\n",
       " [1.0, 15.0, 20.0, 26.0, 32.0, 36.0, 43.0, 52.0]                                                  \n",
       " [1.0, 220.0, 300.0, 372.0, 453.0, 572.0, 773.0, 6082.0]                                          \n",
       " [0.4999, 2.12521, 2.6923, 3.234, 3.81649, 4.52643, 5.58403, 15.0001]                             \n",
       " [0.0180649, 1.24696, 1.59646, 1.84287, 2.03541, 2.23856, 2.5183, 52.0333]                        "
      ]
     },
     "execution_count": 16,
     "metadata": {},
     "output_type": "execute_result"
    }
   ],
   "source": [
    "quantiles_latitude=get_quantile_based_boundaries(\n",
    "    training_examples[:latitude], 10)\n",
    "quantiles_longitude=get_quantile_based_boundaries(\n",
    "    training_examples[:longitude], 10)\n",
    "quantiles_housing_median_age=get_quantile_based_boundaries(\n",
    "    training_examples[:housing_median_age], 7)\n",
    "quantiles_households=get_quantile_based_boundaries(\n",
    "    training_examples[:households], 7)\n",
    "quantiles_median_income=get_quantile_based_boundaries(\n",
    "    training_examples[:median_income], 7)\n",
    "quantiles_rooms_per_person=get_quantile_based_boundaries(\n",
    "    training_examples[:rooms_per_person], 7)\n",
    "\n",
    "quantiles_vec=[quantiles_latitude,\n",
    "               quantiles_longitude,\n",
    "                quantiles_housing_median_age,\n",
    "                quantiles_households,\n",
    "                quantiles_median_income,\n",
    "                quantiles_rooms_per_person \n",
    "]"
   ]
  },
  {
   "cell_type": "code",
   "execution_count": 17,
   "metadata": {
    "scrolled": false
   },
   "outputs": [
    {
     "name": "stdout",
     "output_type": "stream",
     "text": [
      "Training model...\n",
      "RMSE (on training data):\n",
      "  period 1: 202.72463349839262\n",
      "  period 2: 171.78849030380562\n",
      "  period 3: 145.2635554495821\n",
      "  period 4: 124.71823709982627\n",
      "  period 5: 110.32950574255553\n",
      "  period 6: 100.6139387049533\n",
      "  period 7: 93.60621652368602\n",
      "  period 8: 88.30830153898088\n",
      "  period 9: 84.12833254564481\n",
      "  period 10: 80.90929566707702\n",
      "Model training finished.\n",
      "Final RMSE (on training data): 80.90929566707702\n",
      "Final Weight (on training data): [39.3923; 43.1646; 22.9269; 44.9485; 45.9324; 10.1383; 39.0275; 49.2261; 15.8903; -27.9299; 50.2951; 43.2011; 26.3118; -11.8351; 17.9301; 58.4617; 32.1206; 34.3472; 21.7817; -6.78351; 19.5952; 23.5582; 32.8533; 30.6326; 30.7012; 31.973; 31.6763; 31.1743; 31.591; 31.1047; 34.6392; 35.6798; 38.3245; 41.5214; -31.3323; -17.3332; 2.60318; 15.4069; 29.15; 45.0948; 65.9498; -7.01649; -5.40451; 4.29645; 16.067; 33.9617; 49.9225; 61.5666]\n",
      "Final Bias (on training data): 49.640670673368234\n"
     ]
    },
    {
     "data": {
      "text/plain": [
       "([39.3923; 43.1646; … ; 49.9225; 61.5666], 49.640670673368234, Plot{Plots.GRBackend() n=2})"
      ]
     },
     "execution_count": 17,
     "metadata": {},
     "output_type": "execute_result"
    }
   ],
   "source": [
    "weight, bias, p1 = train_model(\n",
    "    # TWEAK THESE VALUES TO SEE HOW MUCH YOU CAN IMPROVE THE RMSE\n",
    "    0.03, #learning rate\n",
    "    2000, #steps\n",
    "    100, #batch_size\n",
    "    x -> construct_bucketized_onehot_column(x, quantiles_vec), # feature column function\n",
    "    training_examples,\n",
    "    training_targets,\n",
    "    validation_examples,\n",
    "    validation_targets)"
   ]
  },
  {
   "cell_type": "code",
   "execution_count": 18,
   "metadata": {},
   "outputs": [
    {
     "data": {
      "image/png": "[encoded data removed]"
     },
     "execution_count": 18,
     "metadata": {},
     "output_type": "execute_result"
    }
   ],
   "source": [
    "plot(p1)"
   ]
  },
  {
   "cell_type": "markdown",
   "metadata": {
    "colab_type": "text",
    "id": "AFJ1qoZPlQcs"
   },
   "source": [
    "## Feature Crosses\n",
    "\n",
    "Crossing two (or more) features is a clever way to learn non-linear relations using a linear model. In our problem, if we just use the feature `latitude` for learning, the model might learn that city blocks at a particular latitude (or within a particular range of latitudes since we have bucketized it) are more likely to be expensive than others. Similarly for the feature `longitude`. However, if we cross `longitude` by `latitude`, the crossed feature represents a well defined city block. If the model learns that certain city blocks (within range of latitudes and longitudes) are more likely to be more expensive than others, it is a stronger signal than two features considered individually.\n",
    "\n",
    "If we cross the `latitude` and `longitude` features (supposing, for example, that `longitude` was bucketized into `2` buckets, while `latitude` has `3` buckets), we actually get six crossed binary features. Each of these features will get its own separate weight when we train the model."
   ]
  },
  {
   "cell_type": "markdown",
   "metadata": {
    "colab_type": "text",
    "id": "-Rk0c1oTYaVH"
   },
   "source": [
    "## Task 2: Train the Model Using Feature Crosses\n",
    "\n",
    "**Add a feature cross of `longitude` and `latitude` to your model, train it, and determine whether the results improve.**\n",
    "\n",
    "The following function creates a feature cross of latitude and longitude and then feeds it to the model."
   ]
  },
  {
   "cell_type": "code",
   "execution_count": 19,
   "metadata": {
    "cellView": "both",
    "colab": {
     "autoexec": {
      "startup": false,
      "wait_interval": 0
     }
    },
    "colab_type": "code",
    "id": "-eYiVEGeYhUi"
   },
   "outputs": [
    {
     "data": {
      "text/plain": [
       "construct_latXlong_onehot_column (generic function with 1 method)"
      ]
     },
     "execution_count": 19,
     "metadata": {},
     "output_type": "execute_result"
    }
   ],
   "source": [
    "function construct_latXlong_onehot_column(input_features, boundaries) \n",
    "    #latitude and longitude are the first two columns - treat them separately\n",
    "    \n",
    "    #initialization - calculate total length of feature_vec\n",
    "    length_out=0\n",
    "    # lat and long\n",
    "    length_lat=length(boundaries[1])-1\n",
    "    length_long= length(boundaries[2])-1\n",
    "    length_out+=length_lat*length_long\n",
    "    # all other features\n",
    "    for i=3:length(boundaries)\n",
    "        length_out+=length(boundaries[i])-1\n",
    "    end\n",
    "    data_out=zeros(size(input_features,1), length_out)\n",
    "      \n",
    "    # all other features\n",
    "    curr_index=length_lat*length_long+1;\n",
    "    for i=3:size(input_features,2)\n",
    "        curr_feature=input_features[:,i]\n",
    "       curr_boundary=boundaries[i]\n",
    "       #println(curr_boundary)\n",
    "        \n",
    "        for k=1:length(curr_boundary)-1\n",
    "        for j=1:size(input_features,1)\n",
    "            if((curr_feature[j] >= curr_boundary[k]) && (curr_feature[j] < curr_boundary[k+1] ))\n",
    "                data_out[j,curr_index]+=1\n",
    "            end\n",
    "        end\n",
    "            curr_index+=1;\n",
    "        end\n",
    "    end\n",
    "    \n",
    "    # lat and long\n",
    "    data_temp=zeros(size(input_features,1), length_lat+length_long)\n",
    "    curr_index=1\n",
    "        for i=1:2\n",
    "        curr_feature=input_features[:,i]\n",
    "       curr_boundary=boundaries[i]\n",
    "       #println(curr_boundary)\n",
    "        \n",
    "        for k=1:length(curr_boundary)-1\n",
    "        for j=1:size(input_features,1)\n",
    "            if((curr_feature[j] >= curr_boundary[k]) && (curr_feature[j] < curr_boundary[k+1] ))\n",
    "                data_temp[j,curr_index]+=1\n",
    "            end\n",
    "        end\n",
    "            curr_index+=1;\n",
    "        end\n",
    "    end\n",
    "    \n",
    "    vec_temp=1\n",
    "    for j=1:size(input_features,1)\n",
    "        vec1=data_temp[j,1:length_lat]\n",
    "        vec2=data_temp[j, length_lat+1:length_lat+length_long]\n",
    "        vec_temp=vec1*vec2'\n",
    "        data_out[j, 1:length_lat*length_long]= (vec_temp)[:]\n",
    "    end\n",
    "    \n",
    "    return data_out \n",
    "end"
   ]
  },
  {
   "cell_type": "code",
   "execution_count": 20,
   "metadata": {
    "colab": {
     "autoexec": {
      "startup": false,
      "wait_interval": 0
     }
    },
    "colab_type": "code",
    "id": "xZuZMp3EShkM",
    "scrolled": false
   },
   "outputs": [
    {
     "name": "stdout",
     "output_type": "stream",
     "text": [
      "Training model...\n",
      "RMSE (on training data):\n",
      "  period 1: 208.01934398715014\n",
      "  period 2: 181.32512572835964\n",
      "  period 3: 157.3466935603145\n",
      "  period 4: 136.90056422790624\n",
      "  period 5: 120.48339242694792\n",
      "  period 6: 108.01996714153945\n",
      "  period 7: 98.69501405105021\n",
      "  period 8: 91.59963480335907\n",
      "  period 9: 86.0126149075253\n",
      "  period 10: 81.53319732851088\n",
      "Model training finished.\n",
      "Final RMSE (on training data): 81.53319732851088\n",
      "Final Weight (on training data): [0.0; 0.0; 0.0; 0.0; 0.0; 0.0; 10.781; 61.097; 33.9225; -24.2297; 0.0; 0.0; 0.0; 0.0; 0.0; 0.0; 56.053; 27.9595; 34.8299; -26.6627; 0.0; 0.0; 0.0; 0.0; 0.0; 30.0389; 45.3963; 33.0454; 3.48417; -26.6781; 0.0; 0.0; 0.0; 0.0; 0.0; 16.2348; -30.6454; -9.64208; -22.339; -11.2892; 0.0; 0.0; 9.26873; 37.3225; 43.7293; 10.2209; -37.8064; -1.9528; -4.64414; 0.0; 13.061; 44.5835; 44.2813; 56.928; 49.7988; 13.144; -6.29884; -3.23325; 0.0; 0.0; 0.0; 38.3727; 4.61048; 27.0774; 45.9326; 7.20543; -4.86048; 0.0; 0.0; 0.0; 6.3926; 41.4644; 29.9347; 23.31; 38.8112; -10.0548; -4.92673; 0.0; 0.0; 0.0; 47.8428; 39.642; 15.443; -3.61567; -1.29152; -24.2082; 0.0; 0.0; 0.0; 0.0; 12.1213; -12.51; -7.12022; -4.73556; -22.11; -21.2569; 0.0; 0.0; 0.0; 0.0; 26.3331; 29.3483; 37.7775; 37.3735; 38.0477; 39.3658; 38.9229; 36.6694; 37.997; 38.0297; 40.6225; 41.0741; 42.4169; 45.8614; -21.5192; -7.15329; 12.2244; 25.216; 36.4927; 48.9852; 65.9487; 5.31295; 6.16995; 15.3919; 25.5406; 40.2037; 52.3533; 61.9954]\n",
      "Final Bias (on training data): 55.103583663594556\n"
     ]
    },
    {
     "data": {
      "text/plain": [
       "([0.0; 0.0; … ; 52.3533; 61.9954], 55.103583663594556, Plot{Plots.GRBackend() n=2})"
      ]
     },
     "execution_count": 20,
     "metadata": {},
     "output_type": "execute_result"
    }
   ],
   "source": [
    "weight, bias, p1 = train_model(\n",
    "    # TWEAK THESE VALUES TO SEE HOW MUCH YOU CAN IMPROVE THE RMSE\n",
    "    0.03, #learning rate\n",
    "    2000, #steps\n",
    "    100, #batch_size\n",
    "    x -> construct_latXlong_onehot_column(x, quantiles_vec), # feature column function\n",
    "    training_examples,\n",
    "    training_targets,\n",
    "    validation_examples,\n",
    "    validation_targets)"
   ]
  },
  {
   "cell_type": "code",
   "execution_count": 21,
   "metadata": {},
   "outputs": [
    {
     "data": {
      "image/png": "[encoded data removed]"
     },
     "execution_count": 21,
     "metadata": {},
     "output_type": "execute_result"
    }
   ],
   "source": [
    "plot(p1)"
   ]
  },
  {
   "cell_type": "markdown",
   "metadata": {
    "colab_type": "text",
    "id": "ymlHJ-vrhLZw"
   },
   "source": [
    "## Optional Challenge: Try Out More Synthetic Features\n",
    "\n",
    "So far, we've tried simple bucketized columns and feature crosses, but there are many more combinations that could potentially improve the results. For example, you could cross multiple columns. What happens if you vary the number of buckets? What other synthetic features can you think of? Do they improve the model?"
   ]
  }
 ],
 "metadata": {
  "colab": {
   "collapsed_sections": [
    "JndnmDMp66FL",
    "ZTDHHM61NPTw",
    "0i7vGo9PTaZl"
   ],
   "default_view": {},
   "name": "5. Feature Crosses.ipynb",
   "provenance": [
    {
     "file_id": "/v2/external/notebooks/mlcc/feature_crosses.ipynb",
     "timestamp": 1530124267842
    }
   ],
   "version": "0.3.2",
   "views": {}
  },
  "kernelspec": {
   "display_name": "Julia 1.1.0",
   "language": "julia",
   "name": "julia-1.1"
  },
  "language_info": {
   "file_extension": ".jl",
   "mimetype": "application/julia",
   "name": "julia",
   "version": "1.1.0"
  }
 },
 "nbformat": 4,
 "nbformat_minor": 1
}
