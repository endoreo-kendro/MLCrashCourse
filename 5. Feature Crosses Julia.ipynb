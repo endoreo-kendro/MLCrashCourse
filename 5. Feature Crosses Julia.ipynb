{
 "cells": [
  {
   "cell_type": "markdown",
   "metadata": {
    "colab_type": "text",
    "id": "JndnmDMp66FL"
   },
   "source": [
    "This notebook is based on the file [Feature crosses programming exercise](https://colab.research.google.com/notebooks/mlcc/feature_crosses.ipynb?utm_source=mlcc&utm_campaign=colab-external&utm_medium=referral&utm_content=featurecrosses-colab&hl=en), which is part of Google's [Machine Learning Crash Course](https://developers.google.com/machine-learning/crash-course/)."
   ]
  },
  {
   "cell_type": "code",
   "execution_count": 0,
   "metadata": {
    "cellView": "both",
    "colab": {
     "autoexec": {
      "startup": false,
      "wait_interval": 0
     }
    },
    "colab_type": "code",
    "id": "hMqWDc_m6rUC"
   },
   "outputs": [],
   "source": [
    "# Licensed under the Apache License, Version 2.0 (the \"License\");\n",
    "# you may not use this file except in compliance with the License.\n",
    "# You may obtain a copy of the License at\n",
    "#\n",
    "# https://www.apache.org/licenses/LICENSE-2.0\n",
    "#\n",
    "# Unless required by applicable law or agreed to in writing, software\n",
    "# distributed under the License is distributed on an \"AS IS\" BASIS,\n",
    "# WITHOUT WARRANTIES OR CONDITIONS OF ANY KIND, either express or implied.\n",
    "# See the License for the specific language governing permissions and\n",
    "# limitations under the License."
   ]
  },
  {
   "cell_type": "markdown",
   "metadata": {
    "colab_type": "text",
    "id": "g4T-_IsVbweU"
   },
   "source": [
    "# Feature Crosses"
   ]
  },
  {
   "cell_type": "markdown",
   "metadata": {
    "colab_type": "text",
    "id": "F7dke6skIK-k"
   },
   "source": [
    "**Learning Objectives:**\n",
    "  * Improve a linear regression model with the addition of additional synthetic features (this is a continuation of the previous exercise)\n",
    "  * Use an input function to convert  `DataFrame` objects to feature columns\n",
    "  * Use the Adam optimization algorithm for model training\n",
    "  * Create new synthetic features through one-hot encoding, binning, and feature crosses"
   ]
  },
  {
   "cell_type": "markdown",
   "metadata": {
    "colab_type": "text",
    "id": "NS_fcQRd8B97"
   },
   "source": [
    "## Setup"
   ]
  },
  {
   "cell_type": "markdown",
   "metadata": {
    "colab_type": "text",
    "id": "4IdzD8IdIK-l"
   },
   "source": [
    "First, as we've done in previous exercises, let's define the input and create the data-loading code."
   ]
  },
  {
   "cell_type": "code",
   "execution_count": 1,
   "metadata": {
    "colab": {
     "autoexec": {
      "startup": false,
      "wait_interval": 0
     }
    },
    "colab_type": "code",
    "id": "CsfdiLiDIK-n"
   },
   "outputs": [],
   "source": [
    "using Plots\n",
    "gr()\n",
    "using DataFrames\n",
    "using TensorFlow\n",
    "import CSV\n",
    "import StatsBase\n",
    "\n",
    "sess=Session()\n",
    "california_housing_dataframe = CSV.read(\"california_housing_train.csv\", delim=\",\");\n",
    "california_housing_dataframe = california_housing_dataframe[shuffle(1:size(california_housing_dataframe, 1)),:];"
   ]
  },
  {
   "cell_type": "code",
   "execution_count": 2,
   "metadata": {
    "colab": {
     "autoexec": {
      "startup": false,
      "wait_interval": 0
     }
    },
    "colab_type": "code",
    "id": "10rhoflKIK-s"
   },
   "outputs": [
    {
     "data": {
      "text/plain": [
       "preprocess_targets (generic function with 1 method)"
      ]
     },
     "execution_count": 2,
     "metadata": {},
     "output_type": "execute_result"
    },
    {
     "name": "stderr",
     "output_type": "stream",
     "text": [
      "2018-08-20 19:01:33.349400: I tensorflow/core/platform/cpu_feature_guard.cc:140] Your CPU supports instructions that this TensorFlow binary was not compiled to use: SSE4.2 AVX AVX2 FMA\n"
     ]
    }
   ],
   "source": [
    "function preprocess_features(california_housing_dataframe)\n",
    "  \"\"\"Prepares input features from California housing data set.\n",
    "\n",
    "  Args:\n",
    "    california_housing_dataframe: A DataFrame expected to contain data\n",
    "      from the California housing data set.\n",
    "  Returns:\n",
    "    A DataFrame that contains the features to be used for the model, including\n",
    "    synthetic features.\n",
    "  \"\"\"\n",
    "  selected_features = california_housing_dataframe[\n",
    "    [:latitude,\n",
    "     :longitude,\n",
    "     :housing_median_age,\n",
    "     #:total_rooms,\n",
    "     #:total_bedrooms,\n",
    "     #:population,\n",
    "     :households,\n",
    "     :median_income]]\n",
    "  processed_features = selected_features\n",
    "  # Create a synthetic feature.\n",
    "  processed_features[:rooms_per_person] = (\n",
    "    california_housing_dataframe[:total_rooms] ./\n",
    "    california_housing_dataframe[:population])\n",
    "  return processed_features\n",
    "end\n",
    "    \n",
    "function preprocess_targets(california_housing_dataframe)\n",
    "  \"\"\"Prepares target features (i.e., labels) from California housing data set.\n",
    "\n",
    "  Args:\n",
    "    california_housing_dataframe: A DataFrame expected to contain data\n",
    "      from the California housing data set.\n",
    "  Returns:\n",
    "    A DataFrame that contains the target feature.\n",
    "  \"\"\"\n",
    "  output_targets = DataFrame()\n",
    "  # Scale the target to be in units of thousands of dollars.\n",
    "  output_targets[:median_house_value] = (\n",
    "    california_housing_dataframe[:median_house_value] ./ 1000.0)\n",
    "  return output_targets\n",
    "end"
   ]
  },
  {
   "cell_type": "code",
   "execution_count": 3,
   "metadata": {
    "colab": {
     "autoexec": {
      "startup": false,
      "wait_interval": 0
     },
     "base_uri": "https://localhost:8080/",
     "height": 1205
    },
    "colab_type": "code",
    "executionInfo": {
     "elapsed": 977,
     "status": "ok",
     "timestamp": 1530124536915,
     "user": {
      "displayName": "Sören Dobberschütz",
      "photoUrl": "//lh4.googleusercontent.com/-zjTpujRnBgI/AAAAAAAAAAI/AAAAAAAAjqE/N66w7uuWXRY/s50-c-k-no/photo.jpg",
      "userId": "109321859854799946351"
     },
     "user_tz": -120
    },
    "id": "ufplEkjN8KUp",
    "outputId": "a87b216f-e368-493e-997b-2f3636084ed8"
   },
   "outputs": [
    {
     "name": "stdout",
     "output_type": "stream",
     "text": [
      "Training examples summary:\n"
     ]
    },
    {
     "data": {
      "text/html": [
       "<table class=\"data-frame\"><thead><tr><th></th><th>variable</th><th>mean</th><th>min</th><th>median</th><th>max</th><th>nunique</th><th>nmissing</th><th>eltype</th></tr></thead><tbody><tr><th>1</th><td>median_house_value</td><td>206.395</td><td>22.5</td><td>179.55</td><td>500.001</td><td></td><td></td><td>Float64</td></tr></tbody></table>"
      ],
      "text/plain": [
       "1×8 DataFrames.DataFrame. Omitted printing of 2 columns\n",
       "│ Row │ variable           │ mean    │ min  │ median │ max     │ nunique │\n",
       "├─────┼────────────────────┼─────────┼──────┼────────┼─────────┼─────────┤\n",
       "│ 1   │ median_house_value │ 206.395 │ 22.5 │ 179.55 │ 500.001 │         │"
      ]
     },
     "execution_count": 3,
     "metadata": {},
     "output_type": "execute_result"
    },
    {
     "name": "stdout",
     "output_type": "stream",
     "text": [
      "Validation examples summary:\n",
      "Training targets summary:\n",
      "Validation targets summary:\n"
     ]
    }
   ],
   "source": [
    "# Choose the first 12000 (out of 17000) examples for training.\n",
    "training_examples = preprocess_features(head(california_housing_dataframe,12000))\n",
    "training_targets = preprocess_targets(head(california_housing_dataframe,12000))\n",
    "\n",
    "# Choose the last 5000 (out of 17000) examples for validation.\n",
    "validation_examples = preprocess_features(tail(california_housing_dataframe,5000))\n",
    "validation_targets = preprocess_targets(tail(california_housing_dataframe,5000))\n",
    "\n",
    "# Double-check that we've done the right thing.\n",
    "println(\"Training examples summary:\")\n",
    "describe(training_examples)\n",
    "println(\"Validation examples summary:\")\n",
    "describe(validation_examples)\n",
    "\n",
    "println(\"Training targets summary:\")\n",
    "describe(training_targets)\n",
    "println(\"Validation targets summary:\")\n",
    "describe(validation_targets)"
   ]
  },
  {
   "cell_type": "code",
   "execution_count": 4,
   "metadata": {
    "colab": {
     "autoexec": {
      "startup": false,
      "wait_interval": 0
     }
    },
    "colab_type": "code",
    "id": "oJlrB4rJ_2Ma"
   },
   "outputs": [
    {
     "data": {
      "text/plain": [
       "construct_feature_columns (generic function with 1 method)"
      ]
     },
     "execution_count": 4,
     "metadata": {},
     "output_type": "execute_result"
    }
   ],
   "source": [
    "function construct_feature_columns(input_features)\n",
    "  \"\"\"Construct the TensorFlow Feature Columns.\n",
    "\n",
    "  Args:\n",
    "    input_features: The names of the numerical input features to use.\n",
    "  Returns:\n",
    "    A set of feature columns\n",
    "  \"\"\" \n",
    "  out=convert(Array, input_features[:,:])\n",
    "  return convert.(Float64,out) \n",
    "end"
   ]
  },
  {
   "cell_type": "code",
   "execution_count": 5,
   "metadata": {},
   "outputs": [
    {
     "data": {
      "text/plain": [
       "create_batches (generic function with 3 methods)"
      ]
     },
     "execution_count": 5,
     "metadata": {},
     "output_type": "execute_result"
    }
   ],
   "source": [
    "function create_batches(features, targets, steps, batch_size=5, num_epochs=0)\n",
    "  \"\"\"Create batches.\n",
    "\n",
    "  Args:\n",
    "    features: Input features.\n",
    "    targets: Target column.\n",
    "    steps: Number of steps.\n",
    "    batch_size: Batch size.\n",
    "    num_epochs: Number of epochs, 0 will let TF automatically calculate the correct number\n",
    "  Returns:\n",
    "    An extended set of feature and target columns from which batches can be extracted.\n",
    "  \"\"\"     \n",
    "    if(num_epochs==0)\n",
    "        num_epochs=ceil(batch_size*steps/size(features,1))\n",
    "    end\n",
    "    \n",
    "    names_features=names(features);\n",
    "    names_targets=names(targets);\n",
    "    \n",
    "    features_batches=copy(features)\n",
    "    target_batches=copy(targets)\n",
    "    \n",
    "\n",
    "    for i=1:num_epochs\n",
    "        \n",
    "        select=shuffle(1:size(features,1))\n",
    "     \n",
    "        if i==1\n",
    "            features_batches=(features[select,:])\n",
    "            target_batches=(targets[select,:])\n",
    "        else\n",
    "            \n",
    "            append!(features_batches, features[select,:])\n",
    "            append!(target_batches, targets[select,:])\n",
    "        end\n",
    "    end\n",
    "    \n",
    "    return features_batches, target_batches \n",
    "end"
   ]
  },
  {
   "cell_type": "code",
   "execution_count": 6,
   "metadata": {},
   "outputs": [
    {
     "data": {
      "text/plain": [
       "next_batch (generic function with 1 method)"
      ]
     },
     "execution_count": 6,
     "metadata": {},
     "output_type": "execute_result"
    }
   ],
   "source": [
    "function next_batch(features_batches, targets_batches, batch_size, iter)\n",
    "  \"\"\"Next batch.\n",
    "\n",
    "  Args:\n",
    "    features_batches: Features batches from create_batches.\n",
    "    targets_batches: Target batches from create_batches.\n",
    "    batch_size: Batch size.\n",
    "    iter: Number of the current iteration\n",
    "  Returns:\n",
    "    An extended set of feature and target columns from which batches can be extracted.\n",
    "  \"\"\"     \n",
    "    select=mod((iter-1)*batch_size+1, size(features_batches,1)):mod(iter*batch_size, size(features_batches,1));\n",
    "\n",
    "    ds=features_batches[select,:];\n",
    "    target=targets_batches[select,:];\n",
    "    \n",
    "    return ds, target\n",
    "end"
   ]
  },
  {
   "cell_type": "code",
   "execution_count": 7,
   "metadata": {
    "colab": {
     "autoexec": {
      "startup": false,
      "wait_interval": 0
     }
    },
    "colab_type": "code",
    "id": "NBxoAfp2AcB6"
   },
   "outputs": [
    {
     "data": {
      "text/plain": [
       "my_input_fn (generic function with 3 methods)"
      ]
     },
     "execution_count": 7,
     "metadata": {},
     "output_type": "execute_result"
    }
   ],
   "source": [
    "function my_input_fn(features_batches, targets_batches, iter, batch_size=5, shuffle_flag=1):\n",
    "    \"\"\"Trains a linear regression model of one feature.\n",
    "  \n",
    "    Args:\n",
    "      features: DataFrame of features\n",
    "      targets: DataFrame of targets\n",
    "      batch_size: Size of batches to be passed to the model\n",
    "      shuffle: True or False. Whether to shuffle the data.\n",
    "      num_epochs: Number of epochs for which data should be repeated. None = repeat indefinitely\n",
    "    Returns:\n",
    "      Tuple of (features, labels) for next data batch\n",
    "    \"\"\"                                        \n",
    " \n",
    "    # Construct a dataset, and configure batching/repeating.\n",
    "    #ds = Dataset.from_tensor_slices((features,targets)) # warning: 2GB limit\n",
    "    ds, target = next_batch(features_batches, targets_batches, batch_size, iter)\n",
    "    \n",
    "    # Shuffle the data, if specified.\n",
    "    if shuffle_flag==1\n",
    "      select=shuffle(1:size(ds, 1));\n",
    "        ds = ds[select,:]\n",
    "        target = target[select, :]\n",
    "    end\n",
    "    \n",
    "    # Return the next batch of data.\n",
    "    # features, labels = ds.make_one_shot_iterator().get_next()\n",
    "    return ds, target\n",
    "end"
   ]
  },
  {
   "cell_type": "markdown",
   "metadata": {
    "colab_type": "text",
    "id": "hweDyy31LBsV"
   },
   "source": [
    "## Adam Optimization Algorithm\n",
    "\n",
    "High dimensional linear models benefit from using a variant of gradient-based optimization called Adam optimization. This algorithm has the benefit of scaling the learning rate differently for different coefficients, which can be useful if some features rarely take non-zero values. "
   ]
  },
  {
   "cell_type": "code",
   "execution_count": 8,
   "metadata": {
    "colab": {
     "autoexec": {
      "startup": false,
      "wait_interval": 0
     }
    },
    "colab_type": "code",
    "id": "S0SBf1X1IK_O"
   },
   "outputs": [
    {
     "data": {
      "text/plain": [
       "train_model (generic function with 1 method)"
      ]
     },
     "execution_count": 8,
     "metadata": {},
     "output_type": "execute_result"
    }
   ],
   "source": [
    "function train_model(learning_rate,\n",
    "                     steps, \n",
    "                     batch_size,\n",
    "                     feature_column_function::Function,\n",
    "                     training_examples, \n",
    "                     training_targets, \n",
    "                     validation_examples, \n",
    "                     validation_targets)\n",
    "  \"\"\"Trains a linear regression model of one feature.\n",
    "  \n",
    "  Args:\n",
    "    learning_rate: A `float`, the learning rate.\n",
    "    steps: A non-zero `int`, the total number of training steps. A training step\n",
    "      consists of a forward and backward pass using a single batch.\n",
    "    batch_size: A non-zero `int`, the batch size.\n",
    "    feature_column_function: Function for transforming the feature columns.\n",
    "    training_examples:\n",
    "    training_targets: \n",
    "    validation_examples: \n",
    "    validation_targets:\n",
    "  Returns:\n",
    "    weight: The weights of the model.\n",
    "    bias: Bias of the model.\n",
    "    p1: Graph containing the loss function values for the different iterations.\n",
    "  \"\"\"\n",
    "  \n",
    "  periods = 10\n",
    "  steps_per_period = steps / periods\n",
    "\n",
    "  # Create feature columns.\n",
    "  feature_columns = placeholder(Float32)\n",
    "  target_columns = placeholder(Float32)\n",
    "  \n",
    "  # Create a linear regressor object.\n",
    "  m=Variable(zeros(size(feature_column_function(training_examples),2),1))\n",
    "  b=Variable(0.0)\n",
    "  y=(feature_columns*m) .+ b\n",
    "  loss=reduce_sum((target_columns - y).^2)\n",
    " \n",
    "  features_batches, targets_batches = create_batches(training_examples, training_targets, steps, batch_size)\n",
    "    \n",
    "  # Set up Adam optimizer\n",
    "  my_optimizer=(train.AdamOptimizer(learning_rate))\n",
    "  gvs = train.compute_gradients(my_optimizer, loss)\n",
    "  capped_gvs = [(clip_by_norm(grad, 5.), var) for (grad, var) in gvs]\n",
    "  my_optimizer = train.apply_gradients(my_optimizer,capped_gvs)\n",
    "  run(sess, global_variables_initializer())\n",
    "    \n",
    "  # Train the model, but do so inside a loop so that we can periodically assess\n",
    "  # loss metrics.\n",
    "  println(\"Training model...\")\n",
    "  println(\"RMSE (on training data):\")\n",
    "  training_rmse = []\n",
    "  validation_rmse=[]\n",
    "  for period in 1:periods\n",
    "    # Train the model, starting from the prior state.\n",
    "   for i=1:steps_per_period\n",
    "    features, labels = my_input_fn(features_batches, targets_batches, convert(Int,(period-1)*steps_per_period+i), batch_size)\n",
    "    run(sess, my_optimizer, Dict(feature_columns=>feature_column_function(features), target_columns=>construct_feature_columns(labels)))\n",
    "   end\n",
    "    # Take a break and compute predictions.\n",
    "    training_predictions = run(sess, y, Dict(feature_columns=> feature_column_function(training_examples)));    \n",
    "    validation_predictions = run(sess, y, Dict(feature_columns=> feature_column_function(validation_examples)));  \n",
    "        \n",
    "    # Compute loss.\n",
    "     training_mean_squared_error = mean((training_predictions- construct_feature_columns(training_targets)).^2)\n",
    "     training_root_mean_squared_error = sqrt(training_mean_squared_error)\n",
    "     validation_mean_squared_error = mean((validation_predictions- construct_feature_columns(validation_targets)).^2)\n",
    "     validation_root_mean_squared_error = sqrt(validation_mean_squared_error)\n",
    "    # Occasionally print the current loss.\n",
    "    println(\"  period \", period, \": \", training_root_mean_squared_error)\n",
    "    # Add the loss metrics from this period to our list.\n",
    "    push!(training_rmse, training_root_mean_squared_error)\n",
    "    push!(validation_rmse, validation_root_mean_squared_error)\n",
    " end\n",
    "\n",
    "  weight = run(sess,m)\n",
    "  bias = run(sess,b)\n",
    "    \n",
    "  println(\"Model training finished.\")\n",
    "\n",
    "  # Output a graph of loss metrics over periods.\n",
    "  p1=plot(training_rmse, label=\"training\", title=\"Root Mean Squared Error vs. Periods\", ylabel=\"RMSE\", xlabel=\"Periods\")\n",
    "  p1=plot!(validation_rmse, label=\"validation\")\n",
    "    \n",
    "  println(\"Final RMSE (on training data): \", training_rmse[end])\n",
    "  println(\"Final Weight (on training data): \", weight)\n",
    "  println(\"Final Bias (on training data): \", bias)\n",
    "    \n",
    "  return weight, bias, p1 #, calibration_data   \n",
    "end"
   ]
  },
  {
   "cell_type": "code",
   "execution_count": 9,
   "metadata": {
    "colab": {
     "autoexec": {
      "startup": false,
      "wait_interval": 0
     },
     "base_uri": "https://localhost:8080/",
     "height": 622
    },
    "colab_type": "code",
    "executionInfo": {
     "elapsed": 126013,
     "status": "ok",
     "timestamp": 1530124982358,
     "user": {
      "displayName": "Sören Dobberschütz",
      "photoUrl": "//lh4.googleusercontent.com/-zjTpujRnBgI/AAAAAAAAAAI/AAAAAAAAjqE/N66w7uuWXRY/s50-c-k-no/photo.jpg",
      "userId": "109321859854799946351"
     },
     "user_tz": -120
    },
    "id": "1Cdr02tLIK_Q",
    "outputId": "fb7bd5cf-9679-4f94-8503-91e312e69f8b",
    "scrolled": true
   },
   "outputs": [
    {
     "name": "stdout",
     "output_type": "stream",
     "text": [
      "Training model...\n",
      "RMSE (on training data):\n",
      "  period 1: 165.18692421457004\n",
      "  period 2: 145.60713458568068\n",
      "  period 3: 142.433078624291\n",
      "  period 4: 134.75421062357708\n",
      "  period 5: 130.1562366092935\n",
      "  period 6: 127.09267658400229\n",
      "  period 7: 123.3747359316491\n",
      "  period 8: 120.42333195391147\n",
      "  period 9: 118.18552801954465\n",
      "  period 10: 117.1353141583384\n",
      "Model training finished.\n",
      "Final RMSE (on training data): 117.1353141583384\n",
      "Final Weight (on training data): "
     ]
    },
    {
     "data": {
      "text/plain": [
       "([0.762966; -0.789043; … ; 1.01543; 0.84879], 0.5041953427446556, Plot{Plots.GRBackend() n=2})"
      ]
     },
     "execution_count": 9,
     "metadata": {},
     "output_type": "execute_result"
    },
    {
     "name": "stdout",
     "output_type": "stream",
     "text": [
      "[0.762966; -0.789043; 0.750761; 0.099341; 1.01543; 0.84879]\n",
      "Final Bias (on training data): 0.5041953427446556\n"
     ]
    }
   ],
   "source": [
    "weight, bias, p1 = train_model(\n",
    "    # TWEAK THESE VALUES TO SEE HOW MUCH YOU CAN IMPROVE THE RMSE\n",
    "    0.003, #learning rate\n",
    "    500, #steps\n",
    "    5, #batch_size\n",
    "    construct_feature_columns, # feature column function\n",
    "    training_examples,\n",
    "    training_targets,\n",
    "    validation_examples,\n",
    "    validation_targets)"
   ]
  },
  {
   "cell_type": "code",
   "execution_count": 10,
   "metadata": {},
   "outputs": [
    {
     "data": {
      "image/svg+xml": [
       "<?xml version=\"1.0\" encoding=\"utf-8\"?>\n",
       "<svg xmlns=\"http://www.w3.org/2000/svg\" xmlns:xlink=\"http://www.w3.org/1999/xlink\" width=\"600\" height=\"400\" viewBox=\"0 0 600 400\">\n",
       "<defs>\n",
       "  <clipPath id=\"clip9400\">\n",
       "    <rect x=\"0\" y=\"0\" width=\"600\" height=\"400\"/>\n",
       "  </clipPath>\n",
       "</defs>\n",
       "<polygon clip-path=\"url(#clip9400)\" points=\"\n",
       "0,400 600,400 600,0 0,0 \n",
       "  \" fill=\"#ffffff\" fill-opacity=\"1\"/>\n",
       "<defs>\n",
       "  <clipPath id=\"clip9401\">\n",
       "    <rect x=\"120\" y=\"0\" width=\"421\" height=\"400\"/>\n",
       "  </clipPath>\n",
       "</defs>\n",
       "<polygon clip-path=\"url(#clip9400)\" points=\"\n",
       "59.4418,360.121 580.315,360.121 580.315,31.4961 59.4418,31.4961 \n",
       "  \" fill=\"#ffffff\" fill-opacity=\"1\"/>\n",
       "<defs>\n",
       "  <clipPath id=\"clip9402\">\n",
       "    <rect x=\"59\" y=\"31\" width=\"522\" height=\"330\"/>\n",
       "  </clipPath>\n",
       "</defs>\n",
       "<polyline clip-path=\"url(#clip9402)\" style=\"stroke:#000000; stroke-width:0.5; stroke-opacity:0.1; fill:none\" points=\"\n",
       "  128.782,360.121 128.782,31.4961 \n",
       "  \"/>\n",
       "<polyline clip-path=\"url(#clip9402)\" style=\"stroke:#000000; stroke-width:0.5; stroke-opacity:0.1; fill:none\" points=\"\n",
       "  237.98,360.121 237.98,31.4961 \n",
       "  \"/>\n",
       "<polyline clip-path=\"url(#clip9402)\" style=\"stroke:#000000; stroke-width:0.5; stroke-opacity:0.1; fill:none\" points=\"\n",
       "  347.178,360.121 347.178,31.4961 \n",
       "  \"/>\n",
       "<polyline clip-path=\"url(#clip9402)\" style=\"stroke:#000000; stroke-width:0.5; stroke-opacity:0.1; fill:none\" points=\"\n",
       "  456.376,360.121 456.376,31.4961 \n",
       "  \"/>\n",
       "<polyline clip-path=\"url(#clip9402)\" style=\"stroke:#000000; stroke-width:0.5; stroke-opacity:0.1; fill:none\" points=\"\n",
       "  565.573,360.121 565.573,31.4961 \n",
       "  \"/>\n",
       "<polyline clip-path=\"url(#clip9402)\" style=\"stroke:#000000; stroke-width:0.5; stroke-opacity:0.1; fill:none\" points=\"\n",
       "  59.4418,332.337 580.315,332.337 \n",
       "  \"/>\n",
       "<polyline clip-path=\"url(#clip9402)\" style=\"stroke:#000000; stroke-width:0.5; stroke-opacity:0.1; fill:none\" points=\"\n",
       "  59.4418,267.819 580.315,267.819 \n",
       "  \"/>\n",
       "<polyline clip-path=\"url(#clip9402)\" style=\"stroke:#000000; stroke-width:0.5; stroke-opacity:0.1; fill:none\" points=\"\n",
       "  59.4418,203.3 580.315,203.3 \n",
       "  \"/>\n",
       "<polyline clip-path=\"url(#clip9402)\" style=\"stroke:#000000; stroke-width:0.5; stroke-opacity:0.1; fill:none\" points=\"\n",
       "  59.4418,138.781 580.315,138.781 \n",
       "  \"/>\n",
       "<polyline clip-path=\"url(#clip9402)\" style=\"stroke:#000000; stroke-width:0.5; stroke-opacity:0.1; fill:none\" points=\"\n",
       "  59.4418,74.2622 580.315,74.2622 \n",
       "  \"/>\n",
       "<polyline clip-path=\"url(#clip9400)\" style=\"stroke:#000000; stroke-width:1; stroke-opacity:1; fill:none\" points=\"\n",
       "  59.4418,360.121 580.315,360.121 \n",
       "  \"/>\n",
       "<polyline clip-path=\"url(#clip9400)\" style=\"stroke:#000000; stroke-width:1; stroke-opacity:1; fill:none\" points=\"\n",
       "  59.4418,360.121 59.4418,31.4961 \n",
       "  \"/>\n",
       "<polyline clip-path=\"url(#clip9400)\" style=\"stroke:#000000; stroke-width:1; stroke-opacity:1; fill:none\" points=\"\n",
       "  128.782,360.121 128.782,355.191 \n",
       "  \"/>\n",
       "<polyline clip-path=\"url(#clip9400)\" style=\"stroke:#000000; stroke-width:1; stroke-opacity:1; fill:none\" points=\"\n",
       "  237.98,360.121 237.98,355.191 \n",
       "  \"/>\n",
       "<polyline clip-path=\"url(#clip9400)\" style=\"stroke:#000000; stroke-width:1; stroke-opacity:1; fill:none\" points=\"\n",
       "  347.178,360.121 347.178,355.191 \n",
       "  \"/>\n",
       "<polyline clip-path=\"url(#clip9400)\" style=\"stroke:#000000; stroke-width:1; stroke-opacity:1; fill:none\" points=\"\n",
       "  456.376,360.121 456.376,355.191 \n",
       "  \"/>\n",
       "<polyline clip-path=\"url(#clip9400)\" style=\"stroke:#000000; stroke-width:1; stroke-opacity:1; fill:none\" points=\"\n",
       "  565.573,360.121 565.573,355.191 \n",
       "  \"/>\n",
       "<polyline clip-path=\"url(#clip9400)\" style=\"stroke:#000000; stroke-width:1; stroke-opacity:1; fill:none\" points=\"\n",
       "  59.4418,332.337 67.2549,332.337 \n",
       "  \"/>\n",
       "<polyline clip-path=\"url(#clip9400)\" style=\"stroke:#000000; stroke-width:1; stroke-opacity:1; fill:none\" points=\"\n",
       "  59.4418,267.819 67.2549,267.819 \n",
       "  \"/>\n",
       "<polyline clip-path=\"url(#clip9400)\" style=\"stroke:#000000; stroke-width:1; stroke-opacity:1; fill:none\" points=\"\n",
       "  59.4418,203.3 67.2549,203.3 \n",
       "  \"/>\n",
       "<polyline clip-path=\"url(#clip9400)\" style=\"stroke:#000000; stroke-width:1; stroke-opacity:1; fill:none\" points=\"\n",
       "  59.4418,138.781 67.2549,138.781 \n",
       "  \"/>\n",
       "<polyline clip-path=\"url(#clip9400)\" style=\"stroke:#000000; stroke-width:1; stroke-opacity:1; fill:none\" points=\"\n",
       "  59.4418,74.2622 67.2549,74.2622 \n",
       "  \"/>\n",
       "<g clip-path=\"url(#clip9400)\">\n",
       "<text style=\"fill:#000000; fill-opacity:1; font-family:Arial,Helvetica Neue,Helvetica,sans-serif; font-size:12; text-anchor:middle;\" transform=\"rotate(0, 128.782, 373.921)\" x=\"128.782\" y=\"373.921\">2</text>\n",
       "</g>\n",
       "<g clip-path=\"url(#clip9400)\">\n",
       "<text style=\"fill:#000000; fill-opacity:1; font-family:Arial,Helvetica Neue,Helvetica,sans-serif; font-size:12; text-anchor:middle;\" transform=\"rotate(0, 237.98, 373.921)\" x=\"237.98\" y=\"373.921\">4</text>\n",
       "</g>\n",
       "<g clip-path=\"url(#clip9400)\">\n",
       "<text style=\"fill:#000000; fill-opacity:1; font-family:Arial,Helvetica Neue,Helvetica,sans-serif; font-size:12; text-anchor:middle;\" transform=\"rotate(0, 347.178, 373.921)\" x=\"347.178\" y=\"373.921\">6</text>\n",
       "</g>\n",
       "<g clip-path=\"url(#clip9400)\">\n",
       "<text style=\"fill:#000000; fill-opacity:1; font-family:Arial,Helvetica Neue,Helvetica,sans-serif; font-size:12; text-anchor:middle;\" transform=\"rotate(0, 456.376, 373.921)\" x=\"456.376\" y=\"373.921\">8</text>\n",
       "</g>\n",
       "<g clip-path=\"url(#clip9400)\">\n",
       "<text style=\"fill:#000000; fill-opacity:1; font-family:Arial,Helvetica Neue,Helvetica,sans-serif; font-size:12; text-anchor:middle;\" transform=\"rotate(0, 565.573, 373.921)\" x=\"565.573\" y=\"373.921\">10</text>\n",
       "</g>\n",
       "<g clip-path=\"url(#clip9400)\">\n",
       "<text style=\"fill:#000000; fill-opacity:1; font-family:Arial,Helvetica Neue,Helvetica,sans-serif; font-size:12; text-anchor:end;\" transform=\"rotate(0, 53.4418, 336.837)\" x=\"53.4418\" y=\"336.837\">120</text>\n",
       "</g>\n",
       "<g clip-path=\"url(#clip9400)\">\n",
       "<text style=\"fill:#000000; fill-opacity:1; font-family:Arial,Helvetica Neue,Helvetica,sans-serif; font-size:12; text-anchor:end;\" transform=\"rotate(0, 53.4418, 272.319)\" x=\"53.4418\" y=\"272.319\">130</text>\n",
       "</g>\n",
       "<g clip-path=\"url(#clip9400)\">\n",
       "<text style=\"fill:#000000; fill-opacity:1; font-family:Arial,Helvetica Neue,Helvetica,sans-serif; font-size:12; text-anchor:end;\" transform=\"rotate(0, 53.4418, 207.8)\" x=\"53.4418\" y=\"207.8\">140</text>\n",
       "</g>\n",
       "<g clip-path=\"url(#clip9400)\">\n",
       "<text style=\"fill:#000000; fill-opacity:1; font-family:Arial,Helvetica Neue,Helvetica,sans-serif; font-size:12; text-anchor:end;\" transform=\"rotate(0, 53.4418, 143.281)\" x=\"53.4418\" y=\"143.281\">150</text>\n",
       "</g>\n",
       "<g clip-path=\"url(#clip9400)\">\n",
       "<text style=\"fill:#000000; fill-opacity:1; font-family:Arial,Helvetica Neue,Helvetica,sans-serif; font-size:12; text-anchor:end;\" transform=\"rotate(0, 53.4418, 78.7622)\" x=\"53.4418\" y=\"78.7622\">160</text>\n",
       "</g>\n",
       "<g clip-path=\"url(#clip9400)\">\n",
       "<text style=\"fill:#000000; fill-opacity:1; font-family:Arial,Helvetica Neue,Helvetica,sans-serif; font-size:21; text-anchor:middle;\" transform=\"rotate(0, 319.878, 18)\" x=\"319.878\" y=\"18\">Root Mean Squared Error vs. Periods</text>\n",
       "</g>\n",
       "<g clip-path=\"url(#clip9400)\">\n",
       "<text style=\"fill:#000000; fill-opacity:1; font-family:Arial,Helvetica Neue,Helvetica,sans-serif; font-size:16; text-anchor:middle;\" transform=\"rotate(0, 319.878, 397.6)\" x=\"319.878\" y=\"397.6\">Periods</text>\n",
       "</g>\n",
       "<g clip-path=\"url(#clip9400)\">\n",
       "<text style=\"fill:#000000; fill-opacity:1; font-family:Arial,Helvetica Neue,Helvetica,sans-serif; font-size:16; text-anchor:middle;\" transform=\"rotate(-90, 14.4, 195.808)\" x=\"14.4\" y=\"195.808\">RMSE</text>\n",
       "</g>\n",
       "<polyline clip-path=\"url(#clip9402)\" style=\"stroke:#009af9; stroke-width:1; stroke-opacity:1; fill:none\" points=\"\n",
       "  74.1835,40.7968 128.782,167.123 183.381,187.602 237.98,237.145 292.579,266.811 347.178,286.576 401.777,310.564 456.376,329.606 510.974,344.044 565.573,350.82 \n",
       "  \n",
       "  \"/>\n",
       "<polyline clip-path=\"url(#clip9402)\" style=\"stroke:#e26f46; stroke-width:1; stroke-opacity:1; fill:none\" points=\"\n",
       "  74.1835,44.7303 128.782,162.281 183.381,180.094 237.98,232.151 292.579,262.736 347.178,282.239 401.777,306.758 456.376,325.774 510.974,341.892 565.573,347.866 \n",
       "  \n",
       "  \"/>\n",
       "<polygon clip-path=\"url(#clip9400)\" points=\"\n",
       "451.486,97.7361 562.315,97.7361 562.315,52.3761 451.486,52.3761 \n",
       "  \" fill=\"#ffffff\" fill-opacity=\"1\"/>\n",
       "<polyline clip-path=\"url(#clip9400)\" style=\"stroke:#000000; stroke-width:1; stroke-opacity:1; fill:none\" points=\"\n",
       "  451.486,97.7361 562.315,97.7361 562.315,52.3761 451.486,52.3761 451.486,97.7361 \n",
       "  \"/>\n",
       "<polyline clip-path=\"url(#clip9400)\" style=\"stroke:#009af9; stroke-width:1; stroke-opacity:1; fill:none\" points=\"\n",
       "  457.486,67.4961 493.486,67.4961 \n",
       "  \"/>\n",
       "<g clip-path=\"url(#clip9400)\">\n",
       "<text style=\"fill:#000000; fill-opacity:1; font-family:Arial,Helvetica Neue,Helvetica,sans-serif; font-size:12; text-anchor:start;\" transform=\"rotate(0, 499.486, 71.9961)\" x=\"499.486\" y=\"71.9961\">training</text>\n",
       "</g>\n",
       "<polyline clip-path=\"url(#clip9400)\" style=\"stroke:#e26f46; stroke-width:1; stroke-opacity:1; fill:none\" points=\"\n",
       "  457.486,82.6161 493.486,82.6161 \n",
       "  \"/>\n",
       "<g clip-path=\"url(#clip9400)\">\n",
       "<text style=\"fill:#000000; fill-opacity:1; font-family:Arial,Helvetica Neue,Helvetica,sans-serif; font-size:12; text-anchor:start;\" transform=\"rotate(0, 499.486, 87.1161)\" x=\"499.486\" y=\"87.1161\">validation</text>\n",
       "</g>\n",
       "</svg>\n"
      ]
     },
     "execution_count": 10,
     "metadata": {},
     "output_type": "execute_result"
    }
   ],
   "source": [
    "plot(p1)"
   ]
  },
  {
   "cell_type": "markdown",
   "metadata": {
    "colab_type": "text",
    "id": "i4lGvqajDWlw"
   },
   "source": [
    "## One-Hot Encoding for Discrete Features\n",
    "\n",
    "Discrete (i.e. strings, enumerations, integers) features are usually converted into families of binary features before training a logistic regression model.\n",
    "\n",
    "For example, suppose we created a synthetic feature that can take any of the values `0`, `1` or `2`, and that we have a few training points:\n",
    "\n",
    "| # | feature_value |\n",
    "|---|---------------|\n",
    "| 0 |             2 |\n",
    "| 1 |             0 |\n",
    "| 2 |             1 |\n",
    "\n",
    "For each possible categorical value, we make a new **binary** feature of **real values** that can take one of just two possible values: 1.0 if the example has that value, and 0.0 if not. In the example above, the categorical feature would be converted into three features, and the training points now look like:\n",
    "\n",
    "| # | feature_value_0 | feature_value_1 | feature_value_2 |\n",
    "|---|-----------------|-----------------|-----------------|\n",
    "| 0 |             0.0 |             0.0 |             1.0 |\n",
    "| 1 |             1.0 |             0.0 |             0.0 |\n",
    "| 2 |             0.0 |             1.0 |             0.0 |"
   ]
  },
  {
   "cell_type": "markdown",
   "metadata": {
    "colab_type": "text",
    "id": "KnssXowblKm7"
   },
   "source": [
    "## Bucketized (Binned) Features\n",
    "\n",
    "Bucketization is also known as binning.\n",
    "\n",
    "We can bucketize `population` into the following 3 buckets (for instance):\n",
    "- `bucket_0` (`< 5000`): corresponding to less populated blocks\n",
    "- `bucket_1` (`5000 - 25000`): corresponding to mid populated blocks\n",
    "- `bucket_2` (`> 25000`): corresponding to highly populated blocks\n",
    "\n",
    "Given the preceding bucket definitions, the following `population` vector:\n",
    "\n",
    "    [[10001], [42004], [2500], [18000]]\n",
    "\n",
    "becomes the following bucketized feature vector:\n",
    "\n",
    "    [[1], [2], [0], [1]]\n",
    "\n",
    "The feature values are now the bucket indices. Note that these indices are considered to be discrete features. Typically, these will be further converted in one-hot representations as above, but this is done transparently.\n",
    "\n",
    "The following code defines bucketized feature columns for `households` and `longitude`; the `get_quantile_based_boundaries` function calculates boundaries based on quantiles, so that each bucket contains an equal number of elements."
   ]
  },
  {
   "cell_type": "code",
   "execution_count": 12,
   "metadata": {
    "colab": {
     "autoexec": {
      "startup": false,
      "wait_interval": 0
     }
    },
    "colab_type": "code",
    "id": "cc9qZrtRy-ED"
   },
   "outputs": [
    {
     "data": {
      "text/plain": [
       "get_quantile_based_boundaries (generic function with 1 method)"
      ]
     },
     "execution_count": 12,
     "metadata": {},
     "output_type": "execute_result"
    }
   ],
   "source": [
    "function get_quantile_based_boundaries(feature_values, num_buckets)\n",
    "  #Investigate why [:] is necessary - there is some conflict that construct_feature_columns\n",
    "  # spits out Array{Float64,2} where it should be Array{Float64,1}!!\n",
    "  quantiles = StatsBase.nquantile(construct_feature_columns(feature_values)[:], num_buckets)\n",
    "  return quantiles# [quantiles[q] for q in keys(quantiles)]\n",
    "end\n",
    "\n"
   ]
  },
  {
   "cell_type": "code",
   "execution_count": 13,
   "metadata": {},
   "outputs": [
    {
     "data": {
      "text/plain": [
       "construct_bucketized_column (generic function with 1 method)"
      ]
     },
     "execution_count": 13,
     "metadata": {},
     "output_type": "execute_result"
    }
   ],
   "source": [
    "function construct_bucketized_column(input_features, boundaries)\n",
    "    \n",
    "    data_out=zeros(size(input_features))\n",
    "    \n",
    "    for i=1:size(input_features,2)\n",
    "       curr_feature=input_features[:,i]\n",
    "       curr_boundary=boundaries[i]\n",
    "        \n",
    "        for k=1:length(curr_boundary)\n",
    "        for j=1:size(input_features,1)\n",
    "            if(curr_feature[j] >= curr_boundary[k] )\n",
    "                data_out[j,i]+=1\n",
    "            end\n",
    "        end\n",
    "        end\n",
    "\n",
    "    end\n",
    "    return data_out   \n",
    "end"
   ]
  },
  {
   "cell_type": "markdown",
   "metadata": {},
   "source": [
    "We need a special function to convert the bucketized columns into a one-hot encoding. Contrary to the high-level API of Python's TensorFlow, the Julia verion does not transparently handle buckets."
   ]
  },
  {
   "cell_type": "code",
   "execution_count": 14,
   "metadata": {},
   "outputs": [
    {
     "data": {
      "text/plain": [
       "construct_bucketized_onehot_column (generic function with 1 method)"
      ]
     },
     "execution_count": 14,
     "metadata": {},
     "output_type": "execute_result"
    }
   ],
   "source": [
    "function construct_bucketized_onehot_column(input_features, boundaries)\n",
    "    \n",
    "    length_out=0\n",
    "    for i=1:length(boundaries)\n",
    "        length_out+=length(boundaries[i])-1\n",
    "    end\n",
    "    \n",
    "    data_out=zeros(size(input_features,1), length_out)\n",
    "    \n",
    "    curr_index=1;\n",
    "    for i=1:size(input_features,2)\n",
    "       curr_feature=input_features[:,i]\n",
    "       curr_boundary=boundaries[i]\n",
    "        \n",
    "        for k=1:length(curr_boundary)-1\n",
    "        for j=1:size(input_features,1)\n",
    "            if((curr_feature[j] >= curr_boundary[k]) && (curr_feature[j] < curr_boundary[k+1] ))\n",
    "                data_out[j,curr_index]+=1\n",
    "            end\n",
    "        end\n",
    "            curr_index+=1;\n",
    "        end\n",
    "    end\n",
    "    return data_out   \n",
    "end"
   ]
  },
  {
   "cell_type": "markdown",
   "metadata": {},
   "source": [
    "Let's divide the household and longitude data into buckets."
   ]
  },
  {
   "cell_type": "code",
   "execution_count": 15,
   "metadata": {},
   "outputs": [
    {
     "data": {
      "text/plain": [
       "17000×10 Array{Float64,2}:\n",
       " 0.0  0.0  0.0  0.0  0.0  0.0  0.0  1.0  0.0  0.0\n",
       " 0.0  0.0  0.0  0.0  0.0  0.0  1.0  0.0  0.0  0.0\n",
       " 0.0  0.0  0.0  0.0  0.0  1.0  0.0  0.0  0.0  0.0\n",
       " 0.0  0.0  0.0  0.0  0.0  0.0  1.0  0.0  0.0  0.0\n",
       " 0.0  0.0  0.0  0.0  0.0  1.0  0.0  0.0  0.0  0.0\n",
       " 0.0  0.0  0.0  0.0  0.0  0.0  0.0  0.0  0.0  1.0\n",
       " 0.0  0.0  0.0  0.0  0.0  0.0  0.0  0.0  0.0  1.0\n",
       " 0.0  0.0  0.0  0.0  0.0  1.0  0.0  0.0  0.0  0.0\n",
       " 0.0  0.0  1.0  0.0  0.0  0.0  0.0  0.0  0.0  0.0\n",
       " 0.0  0.0  0.0  0.0  0.0  0.0  0.0  1.0  0.0  0.0\n",
       " 0.0  0.0  1.0  0.0  0.0  0.0  0.0  0.0  0.0  0.0\n",
       " 0.0  1.0  0.0  0.0  0.0  0.0  0.0  0.0  0.0  0.0\n",
       " 0.0  0.0  0.0  0.0  1.0  0.0  0.0  0.0  0.0  0.0\n",
       " ⋮                        ⋮                      \n",
       " 0.0  0.0  0.0  0.0  0.0  1.0  0.0  0.0  0.0  0.0\n",
       " 0.0  1.0  0.0  0.0  0.0  0.0  0.0  0.0  0.0  0.0\n",
       " 0.0  0.0  0.0  0.0  0.0  0.0  0.0  0.0  1.0  0.0\n",
       " 0.0  0.0  0.0  0.0  0.0  0.0  1.0  0.0  0.0  0.0\n",
       " 0.0  0.0  1.0  0.0  0.0  0.0  0.0  0.0  0.0  0.0\n",
       " 0.0  0.0  0.0  0.0  0.0  0.0  1.0  0.0  0.0  0.0\n",
       " 0.0  1.0  0.0  0.0  0.0  0.0  0.0  0.0  0.0  0.0\n",
       " 0.0  0.0  0.0  1.0  0.0  0.0  0.0  0.0  0.0  0.0\n",
       " 0.0  0.0  0.0  0.0  0.0  0.0  1.0  0.0  0.0  0.0\n",
       " 0.0  0.0  0.0  1.0  0.0  0.0  0.0  0.0  0.0  0.0\n",
       " 0.0  0.0  0.0  0.0  1.0  0.0  0.0  0.0  0.0  0.0\n",
       " 1.0  0.0  0.0  0.0  0.0  0.0  0.0  0.0  0.0  0.0"
      ]
     },
     "execution_count": 15,
     "metadata": {},
     "output_type": "execute_result"
    }
   ],
   "source": [
    "# Divide households into 7 buckets.\n",
    "households = california_housing_dataframe[:households]\n",
    "bucketized_households = construct_bucketized_onehot_column(\n",
    "    households, [get_quantile_based_boundaries(\n",
    "    california_housing_dataframe[:households], 7)])\n",
    "\n",
    "# Divide longitude into 10 buckets.\n",
    "longitude = california_housing_dataframe[:longitude]\n",
    "bucketized_longitude  = construct_bucketized_onehot_column(\n",
    "    longitude, [get_quantile_based_boundaries(\n",
    "    california_housing_dataframe[:longitude], 10)])"
   ]
  },
  {
   "cell_type": "markdown",
   "metadata": {
    "colab_type": "text",
    "id": "U-pQDAa0MeN3"
   },
   "source": [
    "## Task 1: Train the Model on Bucketized Feature Columns\n",
    "**Bucketize all the real valued features in our example, train the model and see if the results improve.**\n",
    "\n",
    "In the preceding code block, two real valued columns (namely `households` and `longitude`) have been transformed into bucketized feature columns. Your task is to bucketize the rest of the columns, then run the code to train the model. There are various heuristics to find the range of the buckets. This exercise uses a quantile-based technique, which chooses the bucket boundaries in such a way that each bucket has the same number of examples."
   ]
  },
  {
   "cell_type": "code",
   "execution_count": 16,
   "metadata": {
    "colab": {
     "autoexec": {
      "startup": false,
      "wait_interval": 0
     },
     "base_uri": "https://localhost:8080/",
     "height": 622
    },
    "colab_type": "code",
    "executionInfo": {
     "elapsed": 217426,
     "status": "ok",
     "timestamp": 1530126040355,
     "user": {
      "displayName": "Sören Dobberschütz",
      "photoUrl": "//lh4.googleusercontent.com/-zjTpujRnBgI/AAAAAAAAAAI/AAAAAAAAjqE/N66w7uuWXRY/s50-c-k-no/photo.jpg",
      "userId": "109321859854799946351"
     },
     "user_tz": -120
    },
    "id": "RNgfYk6OO8Sy",
    "outputId": "7ac63d40-03a5-4f18-a4a2-24cc6d343077"
   },
   "outputs": [
    {
     "data": {
      "text/plain": [
       "6-element Array{Array{Float64,1},1}:\n",
       " [32.54, 33.61, 33.86, 33.99, 34.09, 34.23, 36.594, 37.45, 37.8, 38.46, 41.95]                     \n",
       " [-124.3, -122.28, -121.96, -121.33, -119.82, -118.47, -118.29, -118.11, -117.88, -117.24, -114.31]\n",
       " [1.0, 15.0, 20.0, 26.0, 32.0, 36.0, 43.0, 52.0]                                                   \n",
       " [1.0, 219.0, 299.0, 370.429, 452.0, 567.0, 769.0, 5189.0]                                         \n",
       " [0.4999, 2.12161, 2.69576, 3.2396, 3.83023, 4.55251, 5.64087, 15.0001]                            \n",
       " [0.0180649, 1.24429, 1.59343, 1.8458, 2.04249, 2.24242, 2.52746, 52.0333]                         "
      ]
     },
     "execution_count": 16,
     "metadata": {},
     "output_type": "execute_result"
    }
   ],
   "source": [
    "quantiles_latitude=get_quantile_based_boundaries(\n",
    "    training_examples[:latitude], 10)\n",
    "quantiles_longitude=get_quantile_based_boundaries(\n",
    "    training_examples[:longitude], 10)\n",
    "quantiles_housing_median_age=get_quantile_based_boundaries(\n",
    "    training_examples[:housing_median_age], 7)\n",
    "quantiles_households=get_quantile_based_boundaries(\n",
    "    training_examples[:households], 7)\n",
    "quantiles_median_income=get_quantile_based_boundaries(\n",
    "    training_examples[:median_income], 7)\n",
    "quantiles_rooms_per_person=get_quantile_based_boundaries(\n",
    "    training_examples[:rooms_per_person], 7)\n",
    "\n",
    "quantiles_vec=[quantiles_latitude,\n",
    "               quantiles_longitude,\n",
    "                quantiles_housing_median_age,\n",
    "                quantiles_households,\n",
    "                quantiles_median_income,\n",
    "                quantiles_rooms_per_person \n",
    "]"
   ]
  },
  {
   "cell_type": "code",
   "execution_count": 17,
   "metadata": {
    "scrolled": false
   },
   "outputs": [
    {
     "name": "stdout",
     "output_type": "stream",
     "text": [
      "Training model...\n",
      "RMSE (on training data):\n",
      "  period 1: 203.99027582698028\n",
      "  period 2: 172.96922619791718\n",
      "  period 3: 146.28546842721346\n",
      "  period 4: 125.46594666991398\n",
      "  period 5: 110.82339478668447\n",
      "  period 6: 100.78134859112528\n",
      "  period 7: 93.67561117691986\n",
      "  period 8: 88.20419283221035\n",
      "  period 9: 84.03854619076178\n",
      "  period 10: 80.86092939616412\n",
      "Model training finished.\n",
      "Final RMSE (on training data): 80.86092939616412\n",
      "Final Weight (on training data): "
     ]
    },
    {
     "data": {
      "text/plain": [
       "([37.9549; 42.9262; … ; 49.6147; 61.6997], 49.13162981045757, Plot{Plots.GRBackend() n=2})"
      ]
     },
     "execution_count": 17,
     "metadata": {},
     "output_type": "execute_result"
    },
    {
     "name": "stdout",
     "output_type": "stream",
     "text": [
      "[37.9549; 42.9262; 21.6568; 45.2276; 45.7324; 11.1818; 38.2974; 49.1423; 22.5028; -26.9576; 50.5019; 44.7102; 25.9642; -13.2705; 19.3974; 57.7096; 31.1798; 34.2978; 22.4988; -7.29032; 19.5574; 24.064; 32.758; 32.8912; 32.5789; 30.6587; 32.3991; 31.8199; 30.078; 31.2015; 35.8298; 34.3732; 38.4314; 42.0378; -32.0522; -16.9641; 1.37737; 15.3621; 29.6987; 45.3425; 65.8817; -8.19134; -7.64355; 3.95525; 16.281; 34.7744; 49.6147; 61.6997]\n",
      "Final Bias (on training data): 49.13162981045757\n"
     ]
    }
   ],
   "source": [
    "weight, bias, p1 = train_model(\n",
    "    # TWEAK THESE VALUES TO SEE HOW MUCH YOU CAN IMPROVE THE RMSE\n",
    "    0.03, #learning rate\n",
    "    2000, #steps\n",
    "    100, #batch_size\n",
    "    x -> construct_bucketized_onehot_column(x, quantiles_vec), # feature column function\n",
    "    training_examples,\n",
    "    training_targets,\n",
    "    validation_examples,\n",
    "    validation_targets)"
   ]
  },
  {
   "cell_type": "code",
   "execution_count": 18,
   "metadata": {},
   "outputs": [
    {
     "data": {
      "image/svg+xml": [
       "<?xml version=\"1.0\" encoding=\"utf-8\"?>\n",
       "<svg xmlns=\"http://www.w3.org/2000/svg\" xmlns:xlink=\"http://www.w3.org/1999/xlink\" width=\"600\" height=\"400\" viewBox=\"0 0 600 400\">\n",
       "<defs>\n",
       "  <clipPath id=\"clip9600\">\n",
       "    <rect x=\"0\" y=\"0\" width=\"600\" height=\"400\"/>\n",
       "  </clipPath>\n",
       "</defs>\n",
       "<polygon clip-path=\"url(#clip9600)\" points=\"\n",
       "0,400 600,400 600,0 0,0 \n",
       "  \" fill=\"#ffffff\" fill-opacity=\"1\"/>\n",
       "<defs>\n",
       "  <clipPath id=\"clip9601\">\n",
       "    <rect x=\"120\" y=\"0\" width=\"421\" height=\"400\"/>\n",
       "  </clipPath>\n",
       "</defs>\n",
       "<polygon clip-path=\"url(#clip9600)\" points=\"\n",
       "59.4418,360.121 580.315,360.121 580.315,31.4961 59.4418,31.4961 \n",
       "  \" fill=\"#ffffff\" fill-opacity=\"1\"/>\n",
       "<defs>\n",
       "  <clipPath id=\"clip9602\">\n",
       "    <rect x=\"59\" y=\"31\" width=\"522\" height=\"330\"/>\n",
       "  </clipPath>\n",
       "</defs>\n",
       "<polyline clip-path=\"url(#clip9602)\" style=\"stroke:#000000; stroke-width:0.5; stroke-opacity:0.1; fill:none\" points=\"\n",
       "  128.782,360.121 128.782,31.4961 \n",
       "  \"/>\n",
       "<polyline clip-path=\"url(#clip9602)\" style=\"stroke:#000000; stroke-width:0.5; stroke-opacity:0.1; fill:none\" points=\"\n",
       "  237.98,360.121 237.98,31.4961 \n",
       "  \"/>\n",
       "<polyline clip-path=\"url(#clip9602)\" style=\"stroke:#000000; stroke-width:0.5; stroke-opacity:0.1; fill:none\" points=\"\n",
       "  347.178,360.121 347.178,31.4961 \n",
       "  \"/>\n",
       "<polyline clip-path=\"url(#clip9602)\" style=\"stroke:#000000; stroke-width:0.5; stroke-opacity:0.1; fill:none\" points=\"\n",
       "  456.376,360.121 456.376,31.4961 \n",
       "  \"/>\n",
       "<polyline clip-path=\"url(#clip9602)\" style=\"stroke:#000000; stroke-width:0.5; stroke-opacity:0.1; fill:none\" points=\"\n",
       "  565.573,360.121 565.573,31.4961 \n",
       "  \"/>\n",
       "<polyline clip-path=\"url(#clip9602)\" style=\"stroke:#000000; stroke-width:0.5; stroke-opacity:0.1; fill:none\" points=\"\n",
       "  59.4418,302.63 580.315,302.63 \n",
       "  \"/>\n",
       "<polyline clip-path=\"url(#clip9602)\" style=\"stroke:#000000; stroke-width:0.5; stroke-opacity:0.1; fill:none\" points=\"\n",
       "  59.4418,239.684 580.315,239.684 \n",
       "  \"/>\n",
       "<polyline clip-path=\"url(#clip9602)\" style=\"stroke:#000000; stroke-width:0.5; stroke-opacity:0.1; fill:none\" points=\"\n",
       "  59.4418,176.737 580.315,176.737 \n",
       "  \"/>\n",
       "<polyline clip-path=\"url(#clip9602)\" style=\"stroke:#000000; stroke-width:0.5; stroke-opacity:0.1; fill:none\" points=\"\n",
       "  59.4418,113.79 580.315,113.79 \n",
       "  \"/>\n",
       "<polyline clip-path=\"url(#clip9602)\" style=\"stroke:#000000; stroke-width:0.5; stroke-opacity:0.1; fill:none\" points=\"\n",
       "  59.4418,50.8437 580.315,50.8437 \n",
       "  \"/>\n",
       "<polyline clip-path=\"url(#clip9600)\" style=\"stroke:#000000; stroke-width:1; stroke-opacity:1; fill:none\" points=\"\n",
       "  59.4418,360.121 580.315,360.121 \n",
       "  \"/>\n",
       "<polyline clip-path=\"url(#clip9600)\" style=\"stroke:#000000; stroke-width:1; stroke-opacity:1; fill:none\" points=\"\n",
       "  59.4418,360.121 59.4418,31.4961 \n",
       "  \"/>\n",
       "<polyline clip-path=\"url(#clip9600)\" style=\"stroke:#000000; stroke-width:1; stroke-opacity:1; fill:none\" points=\"\n",
       "  128.782,360.121 128.782,355.191 \n",
       "  \"/>\n",
       "<polyline clip-path=\"url(#clip9600)\" style=\"stroke:#000000; stroke-width:1; stroke-opacity:1; fill:none\" points=\"\n",
       "  237.98,360.121 237.98,355.191 \n",
       "  \"/>\n",
       "<polyline clip-path=\"url(#clip9600)\" style=\"stroke:#000000; stroke-width:1; stroke-opacity:1; fill:none\" points=\"\n",
       "  347.178,360.121 347.178,355.191 \n",
       "  \"/>\n",
       "<polyline clip-path=\"url(#clip9600)\" style=\"stroke:#000000; stroke-width:1; stroke-opacity:1; fill:none\" points=\"\n",
       "  456.376,360.121 456.376,355.191 \n",
       "  \"/>\n",
       "<polyline clip-path=\"url(#clip9600)\" style=\"stroke:#000000; stroke-width:1; stroke-opacity:1; fill:none\" points=\"\n",
       "  565.573,360.121 565.573,355.191 \n",
       "  \"/>\n",
       "<polyline clip-path=\"url(#clip9600)\" style=\"stroke:#000000; stroke-width:1; stroke-opacity:1; fill:none\" points=\"\n",
       "  59.4418,302.63 67.2549,302.63 \n",
       "  \"/>\n",
       "<polyline clip-path=\"url(#clip9600)\" style=\"stroke:#000000; stroke-width:1; stroke-opacity:1; fill:none\" points=\"\n",
       "  59.4418,239.684 67.2549,239.684 \n",
       "  \"/>\n",
       "<polyline clip-path=\"url(#clip9600)\" style=\"stroke:#000000; stroke-width:1; stroke-opacity:1; fill:none\" points=\"\n",
       "  59.4418,176.737 67.2549,176.737 \n",
       "  \"/>\n",
       "<polyline clip-path=\"url(#clip9600)\" style=\"stroke:#000000; stroke-width:1; stroke-opacity:1; fill:none\" points=\"\n",
       "  59.4418,113.79 67.2549,113.79 \n",
       "  \"/>\n",
       "<polyline clip-path=\"url(#clip9600)\" style=\"stroke:#000000; stroke-width:1; stroke-opacity:1; fill:none\" points=\"\n",
       "  59.4418,50.8437 67.2549,50.8437 \n",
       "  \"/>\n",
       "<g clip-path=\"url(#clip9600)\">\n",
       "<text style=\"fill:#000000; fill-opacity:1; font-family:Arial,Helvetica Neue,Helvetica,sans-serif; font-size:12; text-anchor:middle;\" transform=\"rotate(0, 128.782, 373.921)\" x=\"128.782\" y=\"373.921\">2</text>\n",
       "</g>\n",
       "<g clip-path=\"url(#clip9600)\">\n",
       "<text style=\"fill:#000000; fill-opacity:1; font-family:Arial,Helvetica Neue,Helvetica,sans-serif; font-size:12; text-anchor:middle;\" transform=\"rotate(0, 237.98, 373.921)\" x=\"237.98\" y=\"373.921\">4</text>\n",
       "</g>\n",
       "<g clip-path=\"url(#clip9600)\">\n",
       "<text style=\"fill:#000000; fill-opacity:1; font-family:Arial,Helvetica Neue,Helvetica,sans-serif; font-size:12; text-anchor:middle;\" transform=\"rotate(0, 347.178, 373.921)\" x=\"347.178\" y=\"373.921\">6</text>\n",
       "</g>\n",
       "<g clip-path=\"url(#clip9600)\">\n",
       "<text style=\"fill:#000000; fill-opacity:1; font-family:Arial,Helvetica Neue,Helvetica,sans-serif; font-size:12; text-anchor:middle;\" transform=\"rotate(0, 456.376, 373.921)\" x=\"456.376\" y=\"373.921\">8</text>\n",
       "</g>\n",
       "<g clip-path=\"url(#clip9600)\">\n",
       "<text style=\"fill:#000000; fill-opacity:1; font-family:Arial,Helvetica Neue,Helvetica,sans-serif; font-size:12; text-anchor:middle;\" transform=\"rotate(0, 565.573, 373.921)\" x=\"565.573\" y=\"373.921\">10</text>\n",
       "</g>\n",
       "<g clip-path=\"url(#clip9600)\">\n",
       "<text style=\"fill:#000000; fill-opacity:1; font-family:Arial,Helvetica Neue,Helvetica,sans-serif; font-size:12; text-anchor:end;\" transform=\"rotate(0, 53.4418, 307.13)\" x=\"53.4418\" y=\"307.13\">100</text>\n",
       "</g>\n",
       "<g clip-path=\"url(#clip9600)\">\n",
       "<text style=\"fill:#000000; fill-opacity:1; font-family:Arial,Helvetica Neue,Helvetica,sans-serif; font-size:12; text-anchor:end;\" transform=\"rotate(0, 53.4418, 244.184)\" x=\"53.4418\" y=\"244.184\">125</text>\n",
       "</g>\n",
       "<g clip-path=\"url(#clip9600)\">\n",
       "<text style=\"fill:#000000; fill-opacity:1; font-family:Arial,Helvetica Neue,Helvetica,sans-serif; font-size:12; text-anchor:end;\" transform=\"rotate(0, 53.4418, 181.237)\" x=\"53.4418\" y=\"181.237\">150</text>\n",
       "</g>\n",
       "<g clip-path=\"url(#clip9600)\">\n",
       "<text style=\"fill:#000000; fill-opacity:1; font-family:Arial,Helvetica Neue,Helvetica,sans-serif; font-size:12; text-anchor:end;\" transform=\"rotate(0, 53.4418, 118.29)\" x=\"53.4418\" y=\"118.29\">175</text>\n",
       "</g>\n",
       "<g clip-path=\"url(#clip9600)\">\n",
       "<text style=\"fill:#000000; fill-opacity:1; font-family:Arial,Helvetica Neue,Helvetica,sans-serif; font-size:12; text-anchor:end;\" transform=\"rotate(0, 53.4418, 55.3437)\" x=\"53.4418\" y=\"55.3437\">200</text>\n",
       "</g>\n",
       "<g clip-path=\"url(#clip9600)\">\n",
       "<text style=\"fill:#000000; fill-opacity:1; font-family:Arial,Helvetica Neue,Helvetica,sans-serif; font-size:21; text-anchor:middle;\" transform=\"rotate(0, 319.878, 18)\" x=\"319.878\" y=\"18\">Root Mean Squared Error vs. Periods</text>\n",
       "</g>\n",
       "<g clip-path=\"url(#clip9600)\">\n",
       "<text style=\"fill:#000000; fill-opacity:1; font-family:Arial,Helvetica Neue,Helvetica,sans-serif; font-size:16; text-anchor:middle;\" transform=\"rotate(0, 319.878, 397.6)\" x=\"319.878\" y=\"397.6\">Periods</text>\n",
       "</g>\n",
       "<g clip-path=\"url(#clip9600)\">\n",
       "<text style=\"fill:#000000; fill-opacity:1; font-family:Arial,Helvetica Neue,Helvetica,sans-serif; font-size:16; text-anchor:middle;\" transform=\"rotate(-90, 14.4, 195.808)\" x=\"14.4\" y=\"195.808\">RMSE</text>\n",
       "</g>\n",
       "<polyline clip-path=\"url(#clip9602)\" style=\"stroke:#009af9; stroke-width:1; stroke-opacity:1; fill:none\" points=\"\n",
       "  74.1835,40.7968 128.782,118.904 183.381,186.09 237.98,238.51 292.579,275.378 347.178,300.663 401.777,318.554 456.376,332.331 510.974,342.819 565.573,350.82 \n",
       "  \n",
       "  \"/>\n",
       "<polyline clip-path=\"url(#clip9602)\" style=\"stroke:#e26f46; stroke-width:1; stroke-opacity:1; fill:none\" points=\"\n",
       "  74.1835,43.2193 128.782,120.93 183.381,187.561 237.98,239.28 292.579,275.414 347.178,299.941 401.777,317.139 456.376,330.292 510.974,340.208 565.573,347.723 \n",
       "  \n",
       "  \"/>\n",
       "<polygon clip-path=\"url(#clip9600)\" points=\"\n",
       "451.486,97.7361 562.315,97.7361 562.315,52.3761 451.486,52.3761 \n",
       "  \" fill=\"#ffffff\" fill-opacity=\"1\"/>\n",
       "<polyline clip-path=\"url(#clip9600)\" style=\"stroke:#000000; stroke-width:1; stroke-opacity:1; fill:none\" points=\"\n",
       "  451.486,97.7361 562.315,97.7361 562.315,52.3761 451.486,52.3761 451.486,97.7361 \n",
       "  \"/>\n",
       "<polyline clip-path=\"url(#clip9600)\" style=\"stroke:#009af9; stroke-width:1; stroke-opacity:1; fill:none\" points=\"\n",
       "  457.486,67.4961 493.486,67.4961 \n",
       "  \"/>\n",
       "<g clip-path=\"url(#clip9600)\">\n",
       "<text style=\"fill:#000000; fill-opacity:1; font-family:Arial,Helvetica Neue,Helvetica,sans-serif; font-size:12; text-anchor:start;\" transform=\"rotate(0, 499.486, 71.9961)\" x=\"499.486\" y=\"71.9961\">training</text>\n",
       "</g>\n",
       "<polyline clip-path=\"url(#clip9600)\" style=\"stroke:#e26f46; stroke-width:1; stroke-opacity:1; fill:none\" points=\"\n",
       "  457.486,82.6161 493.486,82.6161 \n",
       "  \"/>\n",
       "<g clip-path=\"url(#clip9600)\">\n",
       "<text style=\"fill:#000000; fill-opacity:1; font-family:Arial,Helvetica Neue,Helvetica,sans-serif; font-size:12; text-anchor:start;\" transform=\"rotate(0, 499.486, 87.1161)\" x=\"499.486\" y=\"87.1161\">validation</text>\n",
       "</g>\n",
       "</svg>\n"
      ]
     },
     "execution_count": 18,
     "metadata": {},
     "output_type": "execute_result"
    }
   ],
   "source": [
    "plot(p1)"
   ]
  },
  {
   "cell_type": "markdown",
   "metadata": {
    "colab_type": "text",
    "id": "AFJ1qoZPlQcs"
   },
   "source": [
    "## Feature Crosses\n",
    "\n",
    "Crossing two (or more) features is a clever way to learn non-linear relations using a linear model. In our problem, if we just use the feature `latitude` for learning, the model might learn that city blocks at a particular latitude (or within a particular range of latitudes since we have bucketized it) are more likely to be expensive than others. Similarly for the feature `longitude`. However, if we cross `longitude` by `latitude`, the crossed feature represents a well defined city block. If the model learns that certain city blocks (within range of latitudes and longitudes) are more likely to be more expensive than others, it is a stronger signal than two features considered individually.\n",
    "\n",
    "If we cross the `latitude` and `longitude` features (supposing, for example, that `longitude` was bucketized into `2` buckets, while `latitude` has `3` buckets), we actually get six crossed binary features. Each of these features will get its own separate weight when we train the model."
   ]
  },
  {
   "cell_type": "markdown",
   "metadata": {
    "colab_type": "text",
    "id": "-Rk0c1oTYaVH"
   },
   "source": [
    "## Task 2: Train the Model Using Feature Crosses\n",
    "\n",
    "**Add a feature cross of `longitude` and `latitude` to your model, train it, and determine whether the results improve.**\n",
    "\n",
    "The following function creates a feature cross of latitude and longitude and then feeds it to the model."
   ]
  },
  {
   "cell_type": "code",
   "execution_count": 19,
   "metadata": {
    "cellView": "both",
    "colab": {
     "autoexec": {
      "startup": false,
      "wait_interval": 0
     }
    },
    "colab_type": "code",
    "id": "-eYiVEGeYhUi"
   },
   "outputs": [
    {
     "data": {
      "text/plain": [
       "construct_latXlong_onehot_column (generic function with 1 method)"
      ]
     },
     "execution_count": 19,
     "metadata": {},
     "output_type": "execute_result"
    }
   ],
   "source": [
    "function construct_latXlong_onehot_column(input_features, boundaries) \n",
    "    #latitude and longitude are the first two columns - treat them separately\n",
    "    \n",
    "    #initialization - calculate total length of feature_vec\n",
    "    length_out=0\n",
    "    # lat and long\n",
    "    length_lat=length(boundaries[1])-1\n",
    "    length_long= length(boundaries[2])-1\n",
    "    length_out+=length_lat*length_long\n",
    "    # all other features\n",
    "    for i=3:length(boundaries)\n",
    "        length_out+=length(boundaries[i])-1\n",
    "    end\n",
    "    data_out=zeros(size(input_features,1), length_out)\n",
    "      \n",
    "    # all other features\n",
    "    curr_index=length_lat*length_long+1;\n",
    "    for i=3:size(input_features,2)\n",
    "        curr_feature=input_features[:,i]\n",
    "       curr_boundary=boundaries[i]\n",
    "       #println(curr_boundary)\n",
    "        \n",
    "        for k=1:length(curr_boundary)-1\n",
    "        for j=1:size(input_features,1)\n",
    "            if((curr_feature[j] >= curr_boundary[k]) && (curr_feature[j] < curr_boundary[k+1] ))\n",
    "                data_out[j,curr_index]+=1\n",
    "            end\n",
    "        end\n",
    "            curr_index+=1;\n",
    "        end\n",
    "    end\n",
    "    \n",
    "    # lat and long\n",
    "    data_temp=zeros(size(input_features,1), length_lat+length_long)\n",
    "    curr_index=1\n",
    "        for i=1:2\n",
    "        curr_feature=input_features[:,i]\n",
    "       curr_boundary=boundaries[i]\n",
    "       #println(curr_boundary)\n",
    "        \n",
    "        for k=1:length(curr_boundary)-1\n",
    "        for j=1:size(input_features,1)\n",
    "            if((curr_feature[j] >= curr_boundary[k]) && (curr_feature[j] < curr_boundary[k+1] ))\n",
    "                data_temp[j,curr_index]+=1\n",
    "            end\n",
    "        end\n",
    "            curr_index+=1;\n",
    "        end\n",
    "    end\n",
    "    \n",
    "    vec_temp=1\n",
    "    for j=1:size(input_features,1)\n",
    "        vec1=data_temp[j,1:length_lat]\n",
    "        vec2=data_temp[j, length_lat+1:length_lat+length_long]\n",
    "        vec_temp=vec1*vec2'\n",
    "        data_out[j, 1:length_lat*length_long]= (vec_temp)[:]\n",
    "    end\n",
    "    \n",
    "    return data_out \n",
    "end"
   ]
  },
  {
   "cell_type": "code",
   "execution_count": 20,
   "metadata": {
    "colab": {
     "autoexec": {
      "startup": false,
      "wait_interval": 0
     }
    },
    "colab_type": "code",
    "id": "xZuZMp3EShkM",
    "scrolled": true
   },
   "outputs": [
    {
     "name": "stdout",
     "output_type": "stream",
     "text": [
      "Training model...\n",
      "RMSE (on training data):\n",
      "  period 1: 209.21566659013052\n",
      "  period 2: 182.55539891794118\n",
      "  period 3: 158.44729613124915\n",
      "  period 4: 137.86642806744638\n",
      "  period 5: 121.32817880113157\n",
      "  period 6: 108.6493116164872\n",
      "  period 7: 99.09170377455486\n",
      "  period 8: 91.77973938058372\n",
      "  period 9: 86.04932155712561\n",
      "  period 10: 81.53891417185855\n",
      "Model training finished.\n",
      "Final RMSE (on training data): 81.53891417185855\n",
      "Final Weight (on training data): "
     ]
    },
    {
     "data": {
      "text/plain": [
       "([0.0; 0.0; … ; 52.3917; 62.3963], 55.198733343499036, Plot{Plots.GRBackend() n=2})"
      ]
     },
     "execution_count": 20,
     "metadata": {},
     "output_type": "execute_result"
    },
    {
     "name": "stdout",
     "output_type": "stream",
     "text": [
      "[0.0; 0.0; 0.0; 0.0; 0.0; 0.0; 12.8032; 59.9272; 42.0384; -21.4759; 0.0; 0.0; 0.0; 0.0; 0.0; 0.0; 55.85; 37.2605; 36.5099; -24.4953; 0.0; 0.0; 0.0; 0.0; 0.0; 28.3347; 45.555; 31.2541; 3.00366; -25.6861; 0.0; 0.0; 0.0; 0.0; 0.0; 17.133; -29.8488; -12.3567; -24.251; -11.0162; 0.0; 0.0; 11.5618; 41.1407; 43.5469; 10.7562; -37.9416; -1.07474; -5.6062; -3.0733; 12.6265; 43.9564; 42.7089; 56.6015; 50.1767; 16.5839; -5.31094; 0.0; 0.0; 0.0; 0.0; 36.2206; 6.0957; 23.758; 46.7966; 14.0951; -2.89199; 0.0; 0.0; 0.0; 8.96595; 41.1774; 27.788; 21.2633; 39.6985; -7.82365; -4.85104; 0.0; 0.0; 0.0; 47.293; 41.4496; 12.476; 0.323609; -1.33214; -22.7491; 0.0; 0.0; 0.0; 0.0; 9.07386; -7.64598; -15.8003; -1.22231; -22.7175; -20.1802; 0.0; 0.0; 0.0; 0.0; 26.6319; 29.5266; 37.746; 38.731; 39.474; 38.4757; 39.3764; 37.643; 37.0403; 38.1498; 40.8484; 40.4522; 42.6274; 46.9071; -22.2178; -6.88327; 11.3828; 24.7662; 36.8386; 49.2251; 66.1078; 4.34819; 3.83108; 14.7806; 25.4346; 40.8021; 52.3917; 62.3963]\n",
      "Final Bias (on training data): 55.198733343499036\n"
     ]
    }
   ],
   "source": [
    "weight, bias, p1 = train_model(\n",
    "    # TWEAK THESE VALUES TO SEE HOW MUCH YOU CAN IMPROVE THE RMSE\n",
    "    0.03, #learning rate\n",
    "    2000, #steps\n",
    "    100, #batch_size\n",
    "    x -> construct_latXlong_onehot_column(x, quantiles_vec), # feature column function\n",
    "    training_examples,\n",
    "    training_targets,\n",
    "    validation_examples,\n",
    "    validation_targets)"
   ]
  },
  {
   "cell_type": "code",
   "execution_count": 21,
   "metadata": {},
   "outputs": [
    {
     "data": {
      "image/svg+xml": [
       "<?xml version=\"1.0\" encoding=\"utf-8\"?>\n",
       "<svg xmlns=\"http://www.w3.org/2000/svg\" xmlns:xlink=\"http://www.w3.org/1999/xlink\" width=\"600\" height=\"400\" viewBox=\"0 0 600 400\">\n",
       "<defs>\n",
       "  <clipPath id=\"clip9800\">\n",
       "    <rect x=\"0\" y=\"0\" width=\"600\" height=\"400\"/>\n",
       "  </clipPath>\n",
       "</defs>\n",
       "<polygon clip-path=\"url(#clip9800)\" points=\"\n",
       "0,400 600,400 600,0 0,0 \n",
       "  \" fill=\"#ffffff\" fill-opacity=\"1\"/>\n",
       "<defs>\n",
       "  <clipPath id=\"clip9801\">\n",
       "    <rect x=\"120\" y=\"0\" width=\"421\" height=\"400\"/>\n",
       "  </clipPath>\n",
       "</defs>\n",
       "<polygon clip-path=\"url(#clip9800)\" points=\"\n",
       "59.4418,360.121 580.315,360.121 580.315,31.4961 59.4418,31.4961 \n",
       "  \" fill=\"#ffffff\" fill-opacity=\"1\"/>\n",
       "<defs>\n",
       "  <clipPath id=\"clip9802\">\n",
       "    <rect x=\"59\" y=\"31\" width=\"522\" height=\"330\"/>\n",
       "  </clipPath>\n",
       "</defs>\n",
       "<polyline clip-path=\"url(#clip9802)\" style=\"stroke:#000000; stroke-width:0.5; stroke-opacity:0.1; fill:none\" points=\"\n",
       "  128.782,360.121 128.782,31.4961 \n",
       "  \"/>\n",
       "<polyline clip-path=\"url(#clip9802)\" style=\"stroke:#000000; stroke-width:0.5; stroke-opacity:0.1; fill:none\" points=\"\n",
       "  237.98,360.121 237.98,31.4961 \n",
       "  \"/>\n",
       "<polyline clip-path=\"url(#clip9802)\" style=\"stroke:#000000; stroke-width:0.5; stroke-opacity:0.1; fill:none\" points=\"\n",
       "  347.178,360.121 347.178,31.4961 \n",
       "  \"/>\n",
       "<polyline clip-path=\"url(#clip9802)\" style=\"stroke:#000000; stroke-width:0.5; stroke-opacity:0.1; fill:none\" points=\"\n",
       "  456.376,360.121 456.376,31.4961 \n",
       "  \"/>\n",
       "<polyline clip-path=\"url(#clip9802)\" style=\"stroke:#000000; stroke-width:0.5; stroke-opacity:0.1; fill:none\" points=\"\n",
       "  565.573,360.121 565.573,31.4961 \n",
       "  \"/>\n",
       "<polyline clip-path=\"url(#clip9802)\" style=\"stroke:#000000; stroke-width:0.5; stroke-opacity:0.1; fill:none\" points=\"\n",
       "  59.4418,305.993 580.315,305.993 \n",
       "  \"/>\n",
       "<polyline clip-path=\"url(#clip9802)\" style=\"stroke:#000000; stroke-width:0.5; stroke-opacity:0.1; fill:none\" points=\"\n",
       "  59.4418,245.288 580.315,245.288 \n",
       "  \"/>\n",
       "<polyline clip-path=\"url(#clip9802)\" style=\"stroke:#000000; stroke-width:0.5; stroke-opacity:0.1; fill:none\" points=\"\n",
       "  59.4418,184.584 580.315,184.584 \n",
       "  \"/>\n",
       "<polyline clip-path=\"url(#clip9802)\" style=\"stroke:#000000; stroke-width:0.5; stroke-opacity:0.1; fill:none\" points=\"\n",
       "  59.4418,123.879 580.315,123.879 \n",
       "  \"/>\n",
       "<polyline clip-path=\"url(#clip9802)\" style=\"stroke:#000000; stroke-width:0.5; stroke-opacity:0.1; fill:none\" points=\"\n",
       "  59.4418,63.1741 580.315,63.1741 \n",
       "  \"/>\n",
       "<polyline clip-path=\"url(#clip9800)\" style=\"stroke:#000000; stroke-width:1; stroke-opacity:1; fill:none\" points=\"\n",
       "  59.4418,360.121 580.315,360.121 \n",
       "  \"/>\n",
       "<polyline clip-path=\"url(#clip9800)\" style=\"stroke:#000000; stroke-width:1; stroke-opacity:1; fill:none\" points=\"\n",
       "  59.4418,360.121 59.4418,31.4961 \n",
       "  \"/>\n",
       "<polyline clip-path=\"url(#clip9800)\" style=\"stroke:#000000; stroke-width:1; stroke-opacity:1; fill:none\" points=\"\n",
       "  128.782,360.121 128.782,355.191 \n",
       "  \"/>\n",
       "<polyline clip-path=\"url(#clip9800)\" style=\"stroke:#000000; stroke-width:1; stroke-opacity:1; fill:none\" points=\"\n",
       "  237.98,360.121 237.98,355.191 \n",
       "  \"/>\n",
       "<polyline clip-path=\"url(#clip9800)\" style=\"stroke:#000000; stroke-width:1; stroke-opacity:1; fill:none\" points=\"\n",
       "  347.178,360.121 347.178,355.191 \n",
       "  \"/>\n",
       "<polyline clip-path=\"url(#clip9800)\" style=\"stroke:#000000; stroke-width:1; stroke-opacity:1; fill:none\" points=\"\n",
       "  456.376,360.121 456.376,355.191 \n",
       "  \"/>\n",
       "<polyline clip-path=\"url(#clip9800)\" style=\"stroke:#000000; stroke-width:1; stroke-opacity:1; fill:none\" points=\"\n",
       "  565.573,360.121 565.573,355.191 \n",
       "  \"/>\n",
       "<polyline clip-path=\"url(#clip9800)\" style=\"stroke:#000000; stroke-width:1; stroke-opacity:1; fill:none\" points=\"\n",
       "  59.4418,305.993 67.2549,305.993 \n",
       "  \"/>\n",
       "<polyline clip-path=\"url(#clip9800)\" style=\"stroke:#000000; stroke-width:1; stroke-opacity:1; fill:none\" points=\"\n",
       "  59.4418,245.288 67.2549,245.288 \n",
       "  \"/>\n",
       "<polyline clip-path=\"url(#clip9800)\" style=\"stroke:#000000; stroke-width:1; stroke-opacity:1; fill:none\" points=\"\n",
       "  59.4418,184.584 67.2549,184.584 \n",
       "  \"/>\n",
       "<polyline clip-path=\"url(#clip9800)\" style=\"stroke:#000000; stroke-width:1; stroke-opacity:1; fill:none\" points=\"\n",
       "  59.4418,123.879 67.2549,123.879 \n",
       "  \"/>\n",
       "<polyline clip-path=\"url(#clip9800)\" style=\"stroke:#000000; stroke-width:1; stroke-opacity:1; fill:none\" points=\"\n",
       "  59.4418,63.1741 67.2549,63.1741 \n",
       "  \"/>\n",
       "<g clip-path=\"url(#clip9800)\">\n",
       "<text style=\"fill:#000000; fill-opacity:1; font-family:Arial,Helvetica Neue,Helvetica,sans-serif; font-size:12; text-anchor:middle;\" transform=\"rotate(0, 128.782, 373.921)\" x=\"128.782\" y=\"373.921\">2</text>\n",
       "</g>\n",
       "<g clip-path=\"url(#clip9800)\">\n",
       "<text style=\"fill:#000000; fill-opacity:1; font-family:Arial,Helvetica Neue,Helvetica,sans-serif; font-size:12; text-anchor:middle;\" transform=\"rotate(0, 237.98, 373.921)\" x=\"237.98\" y=\"373.921\">4</text>\n",
       "</g>\n",
       "<g clip-path=\"url(#clip9800)\">\n",
       "<text style=\"fill:#000000; fill-opacity:1; font-family:Arial,Helvetica Neue,Helvetica,sans-serif; font-size:12; text-anchor:middle;\" transform=\"rotate(0, 347.178, 373.921)\" x=\"347.178\" y=\"373.921\">6</text>\n",
       "</g>\n",
       "<g clip-path=\"url(#clip9800)\">\n",
       "<text style=\"fill:#000000; fill-opacity:1; font-family:Arial,Helvetica Neue,Helvetica,sans-serif; font-size:12; text-anchor:middle;\" transform=\"rotate(0, 456.376, 373.921)\" x=\"456.376\" y=\"373.921\">8</text>\n",
       "</g>\n",
       "<g clip-path=\"url(#clip9800)\">\n",
       "<text style=\"fill:#000000; fill-opacity:1; font-family:Arial,Helvetica Neue,Helvetica,sans-serif; font-size:12; text-anchor:middle;\" transform=\"rotate(0, 565.573, 373.921)\" x=\"565.573\" y=\"373.921\">10</text>\n",
       "</g>\n",
       "<g clip-path=\"url(#clip9800)\">\n",
       "<text style=\"fill:#000000; fill-opacity:1; font-family:Arial,Helvetica Neue,Helvetica,sans-serif; font-size:12; text-anchor:end;\" transform=\"rotate(0, 53.4418, 310.493)\" x=\"53.4418\" y=\"310.493\">100</text>\n",
       "</g>\n",
       "<g clip-path=\"url(#clip9800)\">\n",
       "<text style=\"fill:#000000; fill-opacity:1; font-family:Arial,Helvetica Neue,Helvetica,sans-serif; font-size:12; text-anchor:end;\" transform=\"rotate(0, 53.4418, 249.788)\" x=\"53.4418\" y=\"249.788\">125</text>\n",
       "</g>\n",
       "<g clip-path=\"url(#clip9800)\">\n",
       "<text style=\"fill:#000000; fill-opacity:1; font-family:Arial,Helvetica Neue,Helvetica,sans-serif; font-size:12; text-anchor:end;\" transform=\"rotate(0, 53.4418, 189.084)\" x=\"53.4418\" y=\"189.084\">150</text>\n",
       "</g>\n",
       "<g clip-path=\"url(#clip9800)\">\n",
       "<text style=\"fill:#000000; fill-opacity:1; font-family:Arial,Helvetica Neue,Helvetica,sans-serif; font-size:12; text-anchor:end;\" transform=\"rotate(0, 53.4418, 128.379)\" x=\"53.4418\" y=\"128.379\">175</text>\n",
       "</g>\n",
       "<g clip-path=\"url(#clip9800)\">\n",
       "<text style=\"fill:#000000; fill-opacity:1; font-family:Arial,Helvetica Neue,Helvetica,sans-serif; font-size:12; text-anchor:end;\" transform=\"rotate(0, 53.4418, 67.6741)\" x=\"53.4418\" y=\"67.6741\">200</text>\n",
       "</g>\n",
       "<g clip-path=\"url(#clip9800)\">\n",
       "<text style=\"fill:#000000; fill-opacity:1; font-family:Arial,Helvetica Neue,Helvetica,sans-serif; font-size:21; text-anchor:middle;\" transform=\"rotate(0, 319.878, 18)\" x=\"319.878\" y=\"18\">Root Mean Squared Error vs. Periods</text>\n",
       "</g>\n",
       "<g clip-path=\"url(#clip9800)\">\n",
       "<text style=\"fill:#000000; fill-opacity:1; font-family:Arial,Helvetica Neue,Helvetica,sans-serif; font-size:16; text-anchor:middle;\" transform=\"rotate(0, 319.878, 397.6)\" x=\"319.878\" y=\"397.6\">Periods</text>\n",
       "</g>\n",
       "<g clip-path=\"url(#clip9800)\">\n",
       "<text style=\"fill:#000000; fill-opacity:1; font-family:Arial,Helvetica Neue,Helvetica,sans-serif; font-size:16; text-anchor:middle;\" transform=\"rotate(-90, 14.4, 195.808)\" x=\"14.4\" y=\"195.808\">RMSE</text>\n",
       "</g>\n",
       "<polyline clip-path=\"url(#clip9802)\" style=\"stroke:#009af9; stroke-width:1; stroke-opacity:1; fill:none\" points=\"\n",
       "  74.1835,40.7968 128.782,105.533 183.381,164.072 237.98,214.046 292.579,254.204 347.178,284.991 401.777,308.198 456.376,325.953 510.974,339.868 565.573,350.82 \n",
       "  \n",
       "  \"/>\n",
       "<polyline clip-path=\"url(#clip9802)\" style=\"stroke:#e26f46; stroke-width:1; stroke-opacity:1; fill:none\" points=\"\n",
       "  74.1835,43.1739 128.782,107.609 183.381,165.745 237.98,215.189 292.579,254.74 347.178,284.862 401.777,307.411 456.376,324.495 510.974,337.812 565.573,348.2 \n",
       "  \n",
       "  \"/>\n",
       "<polygon clip-path=\"url(#clip9800)\" points=\"\n",
       "451.486,97.7361 562.315,97.7361 562.315,52.3761 451.486,52.3761 \n",
       "  \" fill=\"#ffffff\" fill-opacity=\"1\"/>\n",
       "<polyline clip-path=\"url(#clip9800)\" style=\"stroke:#000000; stroke-width:1; stroke-opacity:1; fill:none\" points=\"\n",
       "  451.486,97.7361 562.315,97.7361 562.315,52.3761 451.486,52.3761 451.486,97.7361 \n",
       "  \"/>\n",
       "<polyline clip-path=\"url(#clip9800)\" style=\"stroke:#009af9; stroke-width:1; stroke-opacity:1; fill:none\" points=\"\n",
       "  457.486,67.4961 493.486,67.4961 \n",
       "  \"/>\n",
       "<g clip-path=\"url(#clip9800)\">\n",
       "<text style=\"fill:#000000; fill-opacity:1; font-family:Arial,Helvetica Neue,Helvetica,sans-serif; font-size:12; text-anchor:start;\" transform=\"rotate(0, 499.486, 71.9961)\" x=\"499.486\" y=\"71.9961\">training</text>\n",
       "</g>\n",
       "<polyline clip-path=\"url(#clip9800)\" style=\"stroke:#e26f46; stroke-width:1; stroke-opacity:1; fill:none\" points=\"\n",
       "  457.486,82.6161 493.486,82.6161 \n",
       "  \"/>\n",
       "<g clip-path=\"url(#clip9800)\">\n",
       "<text style=\"fill:#000000; fill-opacity:1; font-family:Arial,Helvetica Neue,Helvetica,sans-serif; font-size:12; text-anchor:start;\" transform=\"rotate(0, 499.486, 87.1161)\" x=\"499.486\" y=\"87.1161\">validation</text>\n",
       "</g>\n",
       "</svg>\n"
      ]
     },
     "execution_count": 21,
     "metadata": {},
     "output_type": "execute_result"
    }
   ],
   "source": [
    "plot(p1)"
   ]
  },
  {
   "cell_type": "markdown",
   "metadata": {
    "colab_type": "text",
    "id": "ymlHJ-vrhLZw"
   },
   "source": [
    "## Optional Challenge: Try Out More Synthetic Features\n",
    "\n",
    "So far, we've tried simple bucketized columns and feature crosses, but there are many more combinations that could potentially improve the results. For example, you could cross multiple columns. What happens if you vary the number of buckets? What other synthetic features can you think of? Do they improve the model?"
   ]
  }
 ],
 "metadata": {
  "colab": {
   "collapsed_sections": [
    "JndnmDMp66FL",
    "ZTDHHM61NPTw",
    "0i7vGo9PTaZl"
   ],
   "default_view": {},
   "name": "5. Feature Crosses.ipynb",
   "provenance": [
    {
     "file_id": "/v2/external/notebooks/mlcc/feature_crosses.ipynb",
     "timestamp": 1530124267842
    }
   ],
   "version": "0.3.2",
   "views": {}
  },
  "kernelspec": {
   "display_name": "Julia 0.6.3",
   "language": "julia",
   "name": "julia-0.6"
  },
  "language_info": {
   "file_extension": ".jl",
   "mimetype": "application/julia",
   "name": "julia",
   "version": "0.6.3"
  }
 },
 "nbformat": 4,
 "nbformat_minor": 1
}
