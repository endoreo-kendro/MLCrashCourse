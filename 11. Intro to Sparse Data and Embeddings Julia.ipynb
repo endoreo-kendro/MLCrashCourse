{
 "cells": [
  {
   "cell_type": "markdown",
   "metadata": {
    "colab_type": "text",
    "id": "JndnmDMp66FL"
   },
   "source": [
    "This notebook is based on the file [Embeddings programming exercise](https://colab.research.google.com/notebooks/mlcc/intro_to_sparse_data_and_embeddings.ipynb?utm_source=mlcc&utm_campaign=colab-external&utm_medium=referral&utm_content=embeddings-colab&hl=en), which is part of Google's [Machine Learning Crash Course](https://developers.google.com/machine-learning/crash-course/)."
   ]
  },
  {
   "cell_type": "code",
   "execution_count": 1,
   "metadata": {
    "cellView": "both",
    "colab": {
     "autoexec": {
      "startup": false,
      "wait_interval": 0
     }
    },
    "colab_type": "code",
    "id": "hMqWDc_m6rUC"
   },
   "outputs": [],
   "source": [
    "# Licensed under the Apache License, Version 2.0 (the \"License\");\n",
    "# you may not use this file except in compliance with the License.\n",
    "# You may obtain a copy of the License at\n",
    "#\n",
    "# https://www.apache.org/licenses/LICENSE-2.0\n",
    "#\n",
    "# Unless required by applicable law or agreed to in writing, software\n",
    "# distributed under the License is distributed on an \"AS IS\" BASIS,\n",
    "# WITHOUT WARRANTIES OR CONDITIONS OF ANY KIND, either express or implied.\n",
    "# See the License for the specific language governing permissions and\n",
    "# limitations under the License."
   ]
  },
  {
   "cell_type": "markdown",
   "metadata": {
    "colab_type": "text",
    "id": "PTaAdgy3LS8W"
   },
   "source": [
    "# Intro to Sparse Data and Embeddings\n",
    "\n",
    "**Learning Objectives:**\n",
    "* Convert movie-review string data to a feature vector\n",
    "* Implement a sentiment-analysis linear model using a feature vector\n",
    "* Implement a sentiment-analysis DNN model using an embedding that projects data into two dimensions\n",
    "* Visualize the embedding to see what the model has learned about the relationships between words\n",
    "\n",
    "In this exercise, we'll explore sparse data and work with embeddings using text data from movie reviews (from the [ACL 2011 IMDB dataset](http://ai.stanford.edu/~amaas/data/sentiment/)). Open and run [TFrecord Extraction.ipynb](https://colab.research.google.com/drive/1QFN8BCJJKVraUOk-lmR9fF3bRXRlz9FI#forceEdit=true&sandboxMode=true) Colaboratory notebook to extract the data from the original `.tfrecord` file as Julia variables."
   ]
  },
  {
   "cell_type": "markdown",
   "metadata": {
    "colab_type": "text",
    "id": "2AKGtmwNosU8"
   },
   "source": [
    "## Setup\n",
    "\n",
    "Let's import our dependencies and open the training and test data. We have exported the test and training data as `hdf5` files in the previous step, so we use the `HDF5`-package to load the data."
   ]
  },
  {
   "cell_type": "code",
   "execution_count": 2,
   "metadata": {},
   "outputs": [
    {
     "name": "stderr",
     "output_type": "stream",
     "text": [
      "2019-02-27 17:27:19.041987: I tensorflow/core/platform/cpu_feature_guard.cc:141] Your CPU supports instructions that this TensorFlow binary was not compiled to use: SSE4.2 AVX AVX2 FMA\n"
     ]
    },
    {
     "data": {
      "text/plain": [
       "Session(Ptr{Nothing} @0x000000012eb91110)"
      ]
     },
     "execution_count": 2,
     "metadata": {},
     "output_type": "execute_result"
    }
   ],
   "source": [
    "using Plots\n",
    "using Distributions\n",
    "gr(fmt=:png)\n",
    "using DataFrames\n",
    "using TensorFlow\n",
    "import CSV\n",
    "import StatsBase\n",
    "using PyCall\n",
    "sklm=pyimport(\"sklearn.metrics\")\n",
    "using Images\n",
    "using Colors\n",
    "using Random\n",
    "using Statistics\n",
    "using SparseArrays\n",
    "using HDF5\n",
    "\n",
    "sess=Session()"
   ]
  },
  {
   "cell_type": "markdown",
   "metadata": {},
   "source": [
    "Open the test and training raw data sets."
   ]
  },
  {
   "cell_type": "code",
   "execution_count": 3,
   "metadata": {},
   "outputs": [],
   "source": [
    "c = h5open(\"train_data.h5\", \"r\") do file\n",
    "   global train_labels=read(file, \"output_labels\")\n",
    "   global train_features=read(file, \"output_features\")\n",
    "end\n",
    "c = h5open(\"test_data.h5\", \"r\") do file\n",
    "   global test_labels=read(file, \"output_labels\")\n",
    "   global test_features=read(file, \"output_features\")\n",
    "end\n",
    "train_labels=train_labels'\n",
    "test_labels=test_labels';"
   ]
  },
  {
   "cell_type": "markdown",
   "metadata": {},
   "source": [
    "Have a look at one data set:"
   ]
  },
  {
   "cell_type": "code",
   "execution_count": 4,
   "metadata": {},
   "outputs": [
    {
     "data": {
      "text/plain": [
       "1-element Array{Float32,1}:\n",
       " 1.0"
      ]
     },
     "execution_count": 4,
     "metadata": {},
     "output_type": "execute_result"
    }
   ],
   "source": [
    "test_labels[301,:]"
   ]
  },
  {
   "cell_type": "code",
   "execution_count": 5,
   "metadata": {
    "scrolled": true
   },
   "outputs": [
    {
     "data": {
      "text/plain": [
       "\"['\\\"' 'don' \\\"'\\\" 't' 'change' 'your' 'husband' '\\\"' 'is' 'another' 'soap'\\n 'opera' 'comedy' 'from' 'producer' '/' 'director' 'cecil' 'b' '.' 'de'\\n 'mille' '.' 'it' 'is' 'notable' 'as' 'the' 'first' 'of' 'several' 'films'\\n 'he' 'made' 'starring' 'gloria' 'swanson' '.' 'i' 'guess' 'you' 'could'\\n 'also' 'call' 'it' 'a' 'sequel' 'of' 'sorts' 'to' 'his' '\\\"' 'old' 'wives'\\n 'for' 'new' '\\\"' '(' '####' ')' '.' 'james' '(' 'elliot' 'dexter' ')'\\n 'and' 'leila' '(' 'swanson' ')' 'porter' 'are' 'a' 'fortyish' 'couple'\\n 'where' 'james' 'has' 'gone' 'to' 'seed' 'and' 'become' 'slovenly' 'and'\\n 'lazy' '.' 'he' 'has' 'a' 'penchant' 'for' 'smelly' 'cigars' 'and'\\n 'eating' 'raw' 'onions' '.' 'he' 'takes' 'his' 'wife' 'for' 'granted' '.'\\n 'leila' 'tries' 'to' 'get' 'him' 'to' 'straighten' 'out' 'to' 'no'\\n 'avail' '.' 'one' 'night' 'at' 'a' 'dinner' 'party' 'at' 'the' 'porters'\\n ',' 'leila' 'meets' 'the' 'dashing' 'schyler' 'van' 'sutphen' '(' 'now'\\n \\\"there's\\\" 'a' 'moniker' ')' ',' 'the' 'playboy' 'nephew' 'of' 'socialite'\\n 'mrs' '.' 'huckney' '(' 'sylvia' 'ashton' ')' '.' 'she' 'invites' 'leila'\\n 'to' 'her' 'home' 'for' 'the' 'weekend' 'to' 'make' 'james' '\\\"' 'miss'\\n 'her' '\\\"' '.' 'once' 'there' 'schyler' 'begins' 'to' 'put' 'the' 'moves'\\n 'on' 'her' ',' 'promising' 'her' 'pleasure' ',' 'wealth' 'and' 'love' ','\\n 'if' 'she' 'will' 'leave' 'her' 'husband' 'and' 'go' 'with' 'him' '.'\\n 'the' 'sequences' 'involving' \\\"leila's\\\" 'imagining' 'this' 'promised'\\n 'new' 'life' 'are' 'lavishly' 'staged' 'and' 'forecast' 'de' \\\"mille's\\\"\\n 'epic' 'costume' 'drams' 'later' 'in' 'his' 'career' '.' 'leila' ','\\n 'bored' 'with' 'her' 'marriage' 'and' 'her' 'disinterested' 'husband' ','\\n 'divorces' 'james' 'and' 'marries' 'the' 'playboy' '.' 'james'\\n 'ultimately' 'realizes' 'that' 'he' 'has' 'lost' 'the' 'only' 'thing'\\n 'that' 'mattered' 'to' 'him' 'and' 'begins' 'to' 'mend' 'his' 'ways' '.'\\n 'he' 'shaves' 'off' 'his' 'mustache' ',' 'works' 'out' ',' 'shuns'\\n 'onions' 'and' 'reacquires' 'some' 'manners' '.' 'meanwhile' ',' 'all'\\n 'is' 'not' 'rosy' 'with' \\\"leila's\\\" 'new' 'marriage' '.' 'schyler' 'it'\\n 'seems' 'likes' 'to' 'gamble' 'and' 'has' 'taken' 'up' 'with' 'the'\\n 'gold' 'digging' 'nanette' '(' 'aka' 'tootsie' ',' 'or' 'some' 'such'\\n 'name' ')' '(' 'julia' 'faye' ')' '.' 'schyler' 'loses' 'all' 'of' 'his'\\n 'money' 'and' 'steals' \\\"leila's\\\" 'diamond' 'ring' 'to' 'cover' 'his'\\n 'losses' '.' 'one' 'fateful' 'day' ',' 'leila' 'meets' 'the' '\\\"' 'new'\\n '\\\"' 'james' 'and' 'is' 'taken' 'by' 'the' 'changes' 'in' 'him' '.'\\n 'james' 'drives' 'her' 'home' 'and' 'becomes' 'aware' 'of' 'her'\\n 'situation' 'and' '.' '.' '.' '.' '.' '.' '.' '.' '.' '.' '.' '.' '.' '.'\\n '.' '.' '.' '.' '.' '.' '.' '.' '.' '.' '.' '.' '.' '.' '.' '.' '.' '.'\\n '.' '.' '.' '.' '.' '.' '.' '.' '.' '.' '.' '.' '.' '.' '.' '.' '.'\\n 'this' 'film' 'marked' 'the' 'beginning' 'of' 'gloria' \\\"swanson's\\\" 'rise'\\n 'to' 'super' 'stardom' 'in' 'a' 'career' 'that' 'would' 'rival' 'that'\\n 'of' 'mary' 'pickford' '.' 'barely' '##' 'years' 'of' 'age' ',' 'she'\\n 'had' 'begun' 'her' 'career' 'in' 'mack' 'sennett' 'two' 'reel'\\n 'comedies' 'as' 'a' 'teen' 'ager' '.' 'elliot' 'dexter' 'was' 'almost'\\n '##' 'at' 'this' 'time' 'but' 'he' 'and' 'swanson' 'make' 'a' 'good'\\n 'team' ',' 'although' \\\"it's\\\" 'hard' 'to' 'imagine' 'anyone' 'tiring' 'of'\\n 'the' 'lovely' 'miss' 'swanson' 'as' 'is' 'the' 'case' 'in' 'this' 'film'\\n '.' 'dexter' 'and' 'sylvia' 'ashton' 'had' 'appeared' 'in' 'the'\\n 'similar' '\\\"' 'old' 'wives' 'for' 'new' '\\\"' 'where' 'the' 'wife' 'had'\\n 'gone' 'to' 'seed' 'and' 'the' 'husband' 'was' 'wronged' '.' 'also' 'in'\\n 'the' 'cast' 'are' 'de' 'mille' 'regulars' 'theodore' 'roberts' 'as' 'a'\\n 'bishop' 'and' 'raymond' 'hatton' 'as' 'a' 'gambler' '.']\""
      ]
     },
     "execution_count": 5,
     "metadata": {},
     "output_type": "execute_result"
    }
   ],
   "source": [
    "test_features[301]"
   ]
  },
  {
   "cell_type": "markdown",
   "metadata": {
    "colab_type": "text",
    "id": "6W7aZ9qspZVj"
   },
   "source": [
    "## Building a Sentiment Analysis Model"
   ]
  },
  {
   "cell_type": "markdown",
   "metadata": {
    "colab_type": "text",
    "id": "jieA0k_NLS8a"
   },
   "source": [
    "Let's train a sentiment-analysis model on this data that predicts if a review is generally *favorable* (label of 1) or *unfavorable* (label of 0).\n",
    "\n",
    "To do so, we'll turn our string-value `terms` into feature vectors by using a *vocabulary*, a list of each term we expect to see in our data. For the purposes of this exercise, we've created a small vocabulary that focuses on a limited set of terms. Most of these terms were found to be strongly indicative of *favorable* or *unfavorable*, but some were just added because they're interesting.\n",
    "\n",
    "Each term in the vocabulary is mapped to a coordinate in our feature vector. To convert the string-value `terms` for an example into this vector format, we encode such that each coordinate gets a value of 0 if the vocabulary term does not appear in the example string, and a value of 1 if it does. Terms in an example that don't appear in the vocabulary are thrown away."
   ]
  },
  {
   "cell_type": "markdown",
   "metadata": {
    "colab_type": "text",
    "id": "2HSfklfnLS8b"
   },
   "source": [
    "**NOTE:** *We could of course use a larger vocabulary, and there are special tools for creating these. In addition, instead of just dropping terms that are not in the vocabulary, we can introduce a small number of OOV (out-of-vocabulary) buckets to which you can hash the terms not in the vocabulary. We can also use a __feature hashing__ approach that hashes each term, instead of creating an explicit vocabulary. This works well in practice, but loses interpretability, which is useful for this exercise.*"
   ]
  },
  {
   "cell_type": "markdown",
   "metadata": {
    "colab_type": "text",
    "id": "Uvoa2HyDtgqe"
   },
   "source": [
    "## Building the Input Pipeline"
   ]
  },
  {
   "cell_type": "markdown",
   "metadata": {
    "colab_type": "text",
    "id": "O20vMEOurDol"
   },
   "source": [
    "First, let's configure the input pipeline to import our data into a TensorFlow model. We can use the following function to parse the training and test data and return an array of the features and the corresponding labels."
   ]
  },
  {
   "cell_type": "code",
   "execution_count": 6,
   "metadata": {},
   "outputs": [
    {
     "data": {
      "text/plain": [
       "create_batches (generic function with 3 methods)"
      ]
     },
     "execution_count": 6,
     "metadata": {},
     "output_type": "execute_result"
    }
   ],
   "source": [
    "function create_batches(features, targets, steps, batch_size=5, num_epochs=0)\n",
    "  \"\"\"Create batches.\n",
    "\n",
    "  Args:\n",
    "    features: Input features.\n",
    "    targets: Target column.\n",
    "    steps: Number of steps.\n",
    "    batch_size: Batch size.\n",
    "    num_epochs: Number of epochs, 0 will let TF automatically calculate the correct number\n",
    "  Returns:\n",
    "    An extended set of feature and target columns from which batches can be extracted.\n",
    "  \"\"\"      \n",
    "    if(num_epochs==0)\n",
    "        num_epochs=ceil(batch_size*steps/size(features,1))\n",
    "    end\n",
    "    \n",
    "    features_batches=copy(features)\n",
    "    target_batches=copy(targets)\n",
    "    \n",
    "    for i=1:num_epochs        \n",
    "        select=shuffle(1:size(features,1))\n",
    "        if i==1\n",
    "            features_batches=(features[select,:])\n",
    "            target_batches=(targets[select,:])\n",
    "        else\n",
    "            features_batches=vcat(features_batches, features[select,:])\n",
    "            target_batches=vcat(target_batches, targets[select,:])\n",
    "        end\n",
    "    end\n",
    "    return features_batches, target_batches \n",
    "end"
   ]
  },
  {
   "cell_type": "code",
   "execution_count": 7,
   "metadata": {},
   "outputs": [
    {
     "data": {
      "text/plain": [
       "construct_feature_columns (generic function with 1 method)"
      ]
     },
     "execution_count": 7,
     "metadata": {},
     "output_type": "execute_result"
    }
   ],
   "source": [
    "function construct_feature_columns(input_features)\n",
    "  \"\"\"Construct the TensorFlow Feature Columns.\n",
    "\n",
    "  Args:\n",
    "    input_features: The numerical input features to use.\n",
    "  Returns:\n",
    "    A set of feature columns\n",
    "  \"\"\" \n",
    "  out=convert(Matrix, input_features[:,:])\n",
    "  return convert(Matrix{Float64},out)\n",
    "end    "
   ]
  },
  {
   "cell_type": "code",
   "execution_count": 8,
   "metadata": {},
   "outputs": [
    {
     "data": {
      "text/plain": [
       "next_batch (generic function with 1 method)"
      ]
     },
     "execution_count": 8,
     "metadata": {},
     "output_type": "execute_result"
    }
   ],
   "source": [
    "function next_batch(features_batches, targets_batches, batch_size, iter)\n",
    "  \"\"\"Next batch.\n",
    "\n",
    "  Args:\n",
    "    features_batches: Features batches from create_batches.\n",
    "    targets_batches: Target batches from create_batches.\n",
    "    batch_size: Batch size.\n",
    "    iter: Number of the current iteration\n",
    "  Returns:\n",
    "    A batch of features and targets.\n",
    "  \"\"\" \n",
    "    select=mod((iter-1)*batch_size+1, size(features_batches,1)):mod(iter*batch_size, size(features_batches,1));\n",
    "\n",
    "    ds=features_batches[select,:];\n",
    "    target=targets_batches[select,:];\n",
    "    \n",
    "    return ds, target\n",
    "end"
   ]
  },
  {
   "cell_type": "code",
   "execution_count": 9,
   "metadata": {},
   "outputs": [
    {
     "data": {
      "text/plain": [
       "my_input_fn (generic function with 3 methods)"
      ]
     },
     "execution_count": 9,
     "metadata": {},
     "output_type": "execute_result"
    }
   ],
   "source": [
    "function my_input_fn(features_batches, targets_batches, iter, batch_size=5, shuffle_flag=1)\n",
    "    \"\"\"Prepares a batch of features and labels for model training.\n",
    "  \n",
    "    Args:\n",
    "      features_batches: Features batches from create_batches.\n",
    "      targets_batches: Target batches from create_batches.\n",
    "      iter: Number of the current iteration\n",
    "      batch_size: Batch size.\n",
    "      shuffle_flag: Determines wether data is shuffled before being returned\n",
    "    Returns:\n",
    "      Tuple of (features, labels) for next data batch\n",
    "    \"\"\"  \n",
    "\n",
    "    # Construct a dataset, and configure batching/repeating.\n",
    "    ds, target = next_batch(features_batches, targets_batches, batch_size, iter)\n",
    "    \n",
    "    # Shuffle the data, if specified.\n",
    "    if shuffle_flag==1\n",
    "      select=shuffle(1:size(ds, 1));\n",
    "        ds = ds[select,:]\n",
    "        target = target[select, :]\n",
    "    end\n",
    "    \n",
    "    # Return the next batch of data.\n",
    "    return ds, target\n",
    "end"
   ]
  },
  {
   "cell_type": "markdown",
   "metadata": {
    "colab_type": "text",
    "id": "Y170tVlrLS8c"
   },
   "source": [
    "## Task 1: Use a Linear Model with Sparse Inputs and an Explicit Vocabulary\n",
    "\n",
    "For our first model, we'll build a Linear Classifier model using 50 informative terms; always start simple!\n",
    "\n",
    "The following code constructs the feature column for our terms. "
   ]
  },
  {
   "cell_type": "code",
   "execution_count": 10,
   "metadata": {
    "colab": {
     "autoexec": {
      "startup": false,
      "wait_interval": 0
     }
    },
    "colab_type": "code",
    "id": "B5gdxuWsvPcx",
    "scrolled": true
   },
   "outputs": [
    {
     "data": {
      "text/plain": [
       "50-element Array{String,1}:\n",
       " \"bad\"       \n",
       " \"great\"     \n",
       " \"best\"      \n",
       " \"worst\"     \n",
       " \"fun\"       \n",
       " \"beautiful\" \n",
       " \"excellent\" \n",
       " \"poor\"      \n",
       " \"boring\"    \n",
       " \"awful\"     \n",
       " \"terrible\"  \n",
       " \"definitely\"\n",
       " \"perfect\"   \n",
       " ⋮           \n",
       " \"her\"       \n",
       " \"good\"      \n",
       " \"time\"      \n",
       " \"?\"         \n",
       " \".\"         \n",
       " \"!\"         \n",
       " \"movie\"     \n",
       " \"film\"      \n",
       " \"action\"    \n",
       " \"comedy\"    \n",
       " \"drama\"     \n",
       " \"family\"    "
      ]
     },
     "execution_count": 10,
     "metadata": {},
     "output_type": "execute_result"
    }
   ],
   "source": [
    "# 50 informative terms that compose our model vocabulary \n",
    "informative_terms = [\"bad\", \"great\", \"best\", \"worst\", \"fun\", \"beautiful\",\n",
    "                     \"excellent\", \"poor\", \"boring\", \"awful\", \"terrible\",\n",
    "                     \"definitely\", \"perfect\", \"liked\", \"worse\", \"waste\",\n",
    "                     \"entertaining\", \"loved\", \"unfortunately\", \"amazing\",\n",
    "                     \"enjoyed\", \"favorite\", \"horrible\", \"brilliant\", \"highly\",\n",
    "                     \"simple\", \"annoying\", \"today\", \"hilarious\", \"enjoyable\",\n",
    "                     \"dull\", \"fantastic\", \"poorly\", \"fails\", \"disappointing\",\n",
    "                     \"disappointment\", \"not\", \"him\", \"her\", \"good\", \"time\",\n",
    "                     \"?\", \".\", \"!\", \"movie\", \"film\", \"action\", \"comedy\",\n",
    "                     \"drama\", \"family\"]"
   ]
  },
  {
   "cell_type": "markdown",
   "metadata": {},
   "source": [
    "The following function takes the input data and vocabulary and converts the data to a one-hot encoded matrix."
   ]
  },
  {
   "cell_type": "code",
   "execution_count": 11,
   "metadata": {},
   "outputs": [
    {
     "data": {
      "text/plain": [
       "create_data_columns (generic function with 1 method)"
      ]
     },
     "execution_count": 11,
     "metadata": {},
     "output_type": "execute_result"
    }
   ],
   "source": [
    "# function for creating categorial colum from vocabulary list in one hot encoding\n",
    "function create_data_columns(data, informative_terms)\n",
    "   onehotmat=zeros(length(data), length(informative_terms))\n",
    "   \n",
    "    for i=1:length(data)\n",
    "        string=data[i]\n",
    "        for j=1:length(informative_terms)\n",
    "            if occursin(informative_terms[j],string)\n",
    "                onehotmat[i,j]=1\n",
    "            end\n",
    "        end\n",
    "    end\n",
    "    return onehotmat\n",
    "end"
   ]
  },
  {
   "cell_type": "code",
   "execution_count": 12,
   "metadata": {},
   "outputs": [],
   "source": [
    "train_feature_mat=create_data_columns(train_features, informative_terms)\n",
    "test_features_mat=create_data_columns(test_features, informative_terms);"
   ]
  },
  {
   "cell_type": "markdown",
   "metadata": {
    "colab_type": "text",
    "id": "eTiDwyorwd3P"
   },
   "source": [
    "Next, we'll construct the Linear Classifier model, train it on the training set, and evaluate it on the evaluation set. After you read through the code, run it and see how you do."
   ]
  },
  {
   "cell_type": "code",
   "execution_count": 13,
   "metadata": {
    "colab": {
     "autoexec": {
      "startup": false,
      "wait_interval": 0
     },
     "base_uri": "https://localhost:8080/",
     "height": 459
    },
    "colab_type": "code",
    "executionInfo": {
     "elapsed": 44786,
     "status": "ok",
     "timestamp": 1532366688888,
     "user": {
      "displayName": "Sören Dobberschütz",
      "photoUrl": "//lh4.googleusercontent.com/-zjTpujRnBgI/AAAAAAAAAAI/AAAAAAAAjqE/N66w7uuWXRY/s50-c-k-no/photo.jpg",
      "userId": "109321859854799946351"
     },
     "user_tz": -120
    },
    "id": "HYKKpGLqLS8d",
    "outputId": "82bab161-da20-444f-f32d-17a8d7a1f122"
   },
   "outputs": [
    {
     "data": {
      "text/plain": [
       "train_linear_classifier_model (generic function with 1 method)"
      ]
     },
     "execution_count": 13,
     "metadata": {},
     "output_type": "execute_result"
    }
   ],
   "source": [
    "function train_linear_classifier_model(learning_rate,\n",
    "                     steps, \n",
    "                     batch_size, \n",
    "                     training_examples, \n",
    "                     training_targets, \n",
    "                     validation_examples, \n",
    "                     validation_targets)\n",
    "  \"\"\"Trains a linear classifier model.\n",
    "  \n",
    "  Args:\n",
    "    learning_rate: A `float`, the learning rate.\n",
    "    steps: A non-zero `int`, the total number of training steps. A training step\n",
    "      consists of a forward and backward pass using a single batch.\n",
    "    batch_size: A non-zero `int`, the batch size.\n",
    "    training_examples, etc: The input data.\n",
    "  Returns:\n",
    "    weight: The weights of the linear model.\n",
    "    bias: The bias of the linear model.\n",
    "    validation_probabilities: Probabilities for the validation examples.\n",
    "    p1: Plot of loss function for the different periods\n",
    "  \"\"\"\n",
    "  \n",
    "  periods = 10\n",
    "  steps_per_period = steps / periods\n",
    "\n",
    "  # Create feature columns.\n",
    "  feature_columns = placeholder(Float32)\n",
    "  target_columns = placeholder(Float32)\n",
    "  eps=1E-8\n",
    "  \n",
    "  # these two variables need to be initialized as 0, otherwise method gives problems \n",
    "  m=Variable(zeros(size(training_examples,2),1).+0.0)\n",
    "  b=Variable(0.0)\n",
    "\n",
    "  ytemp=nn.sigmoid(feature_columns*m + b)\n",
    "  y= clip_by_value(ytemp, 0.0, 1.0)\n",
    "  loss = -reduce_mean(log(y+eps).*target_columns + log(1-y+eps).*(1-target_columns)) \n",
    "\n",
    "  features_batches, targets_batches = create_batches(training_examples, training_targets, steps, batch_size)\n",
    "    \n",
    "  # Advanced Adam optimizer decent with gradient clipping\n",
    "  my_optimizer=(train.AdamOptimizer(learning_rate))\n",
    "  gvs = train.compute_gradients(my_optimizer, loss)\n",
    "  capped_gvs = [(clip_by_norm(grad, 5.0), var) for (grad, var) in gvs]\n",
    "  my_optimizer = train.apply_gradients(my_optimizer,capped_gvs)\n",
    "    \n",
    "  run(sess, global_variables_initializer()) #this needs to be run after constructing the optimizer!\n",
    "    \n",
    "  # Train the model, but do so inside a loop so that we can periodically assess\n",
    "  # loss metrics.\n",
    "  println(\"Training model...\")\n",
    "  println(\"LogLoss (on training data):\")\n",
    "  training_log_losses = []\n",
    "  validation_log_losses=[]\n",
    "  for period in 1:periods\n",
    "    # Train the model, starting from the prior state.\n",
    "    for i=1:steps_per_period\n",
    "      features, labels = my_input_fn(features_batches, targets_batches, convert(Int,(period-1)*steps_per_period+i), batch_size)\n",
    "      run(sess, my_optimizer, Dict(feature_columns=>construct_feature_columns(features), target_columns=>construct_feature_columns(labels)))\n",
    "    end\n",
    "    # Take a break and compute predictions.\n",
    "    training_probabilities = run(sess, y, Dict(feature_columns=> construct_feature_columns(training_examples)));    \n",
    "    validation_probabilities = run(sess, y, Dict(feature_columns=> construct_feature_columns(validation_examples)));  \n",
    "        \n",
    "    # Compute loss.\n",
    "    training_log_loss=run(sess,loss,Dict(feature_columns=> construct_feature_columns(training_examples), target_columns=>construct_feature_columns(training_targets)))\n",
    "    validation_log_loss =run(sess,loss,Dict(feature_columns=> construct_feature_columns(validation_examples), target_columns=>construct_feature_columns(validation_targets)))\n",
    "        \n",
    "    # Occasionally print the current loss.\n",
    "    println(\"  period \", period, \": \", training_log_loss)\n",
    "    weight = run(sess,m)\n",
    "    bias = run(sess,b)\n",
    "\n",
    "    loss_val=run(sess,loss,Dict(feature_columns=> construct_feature_columns(training_examples), target_columns=>construct_feature_columns(training_targets)))\n",
    "        \n",
    "    # Add the loss metrics from this period to our list.\n",
    "    push!(training_log_losses, training_log_loss)\n",
    "    push!(validation_log_losses, validation_log_loss)\n",
    "  end\n",
    "\n",
    "  weight = run(sess,m)\n",
    "  bias = run(sess,b)\n",
    "  \n",
    "  println(\"Model training finished.\")\n",
    "\n",
    "  # Output a graph of loss metrics over periods.\n",
    "  p1=plot(training_log_losses, label=\"training\", title=\"LogLoss vs. Periods\", ylabel=\"LogLoss\", xlabel=\"Periods\")\n",
    "  p1=plot!(validation_log_losses, label=\"validation\")\n",
    "    \n",
    "  println(\"Final LogLoss (on training data): \", training_log_losses[end])\n",
    "\n",
    "  # calculate additional ouputs\n",
    "  validation_probabilities = run(sess, y, Dict(feature_columns=> construct_feature_columns(validation_examples)));    \n",
    "    \n",
    "  return weight, bias, validation_probabilities, p1  \n",
    "end"
   ]
  },
  {
   "cell_type": "code",
   "execution_count": 14,
   "metadata": {
    "scrolled": false
   },
   "outputs": [
    {
     "name": "stderr",
     "output_type": "stream",
     "text": [
      "┌ Warning: `getindex(o::PyObject, s::Symbol)` is deprecated in favor of dot overloading (`getproperty`) so elements should now be accessed as e.g. `o.s` instead of `o[:s]`.\n",
      "│   caller = (::getfield(Serialization.__deserialized_types__, Symbol(\"##13#14\")))() at TensorFlow.jl:190\n",
      "└ @ Main ~/.julia/dev/TensorFlow/src/TensorFlow.jl:190\n",
      "┌ Warning: `getindex(o::PyObject, s::Symbol)` is deprecated in favor of dot overloading (`getproperty`) so elements should now be accessed as e.g. `o.s` instead of `o[:s]`.\n",
      "│   caller = make_py_graph(::Array{UInt8,1}) at py.jl:51\n",
      "└ @ Main ~/.julia/dev/TensorFlow/src/py.jl:51\n",
      "┌ Warning: `getindex(o::PyObject, s::Symbol)` is deprecated in favor of dot overloading (`getproperty`) so elements should now be accessed as e.g. `o.s` instead of `o[:s]`.\n",
      "│   caller = make_py_graph(::Array{UInt8,1}) at py.jl:52\n",
      "└ @ Main ~/.julia/dev/TensorFlow/src/py.jl:52\n",
      "┌ Warning: `getindex(o::PyObject, s::Symbol)` is deprecated in favor of dot overloading (`getproperty`) so elements should now be accessed as e.g. `o.s` instead of `o[:s]`.\n",
      "│   caller = py_with(::getfield(Main, Symbol(\"##3#4\")){Array{UInt8,1}}, ::PyObject) at py.jl:19\n",
      "└ @ Main ~/.julia/dev/TensorFlow/src/py.jl:19\n",
      "┌ Warning: `getindex(o::PyObject, s::Symbol)` is deprecated in favor of dot overloading (`getproperty`) so elements should now be accessed as e.g. `o.s` instead of `o[:s]`.\n",
      "│   caller = (::getfield(Main, Symbol(\"##3#4\")){Array{UInt8,1}})() at py.jl:54\n",
      "└ @ Main ~/.julia/dev/TensorFlow/src/py.jl:54\n",
      "┌ Warning: `getindex(o::PyObject, s::Symbol)` is deprecated in favor of dot overloading (`getproperty`) so elements should now be accessed as e.g. `o.s` instead of `o[:s]`.\n",
      "│   caller = (::getfield(Main, Symbol(\"##3#4\")){Array{UInt8,1}})() at py.jl:54\n",
      "└ @ Main ~/.julia/dev/TensorFlow/src/py.jl:54\n",
      "┌ Warning: `getindex(o::PyObject, s::Symbol)` is deprecated in favor of dot overloading (`getproperty`) so elements should now be accessed as e.g. `o.s` instead of `o[:s]`.\n",
      "│   caller = (::getfield(Main, Symbol(\"##3#4\")){Array{UInt8,1}})() at py.jl:54\n",
      "└ @ Main ~/.julia/dev/TensorFlow/src/py.jl:54\n",
      "┌ Warning: `getindex(o::PyObject, s::Symbol)` is deprecated in favor of dot overloading (`getproperty`) so elements should now be accessed as e.g. `o.s` instead of `o[:s]`.\n",
      "│   caller = (::getfield(Main, Symbol(\"##3#4\")){Array{UInt8,1}})() at py.jl:55\n",
      "└ @ Main ~/.julia/dev/TensorFlow/src/py.jl:55\n",
      "┌ Warning: `getindex(o::PyObject, s::Symbol)` is deprecated in favor of dot overloading (`getproperty`) so elements should now be accessed as e.g. `o.s` instead of `o[:s]`.\n",
      "│   caller = (::getfield(Main, Symbol(\"##3#4\")){Array{UInt8,1}})() at py.jl:42\n",
      "└ @ Main ~/.julia/dev/TensorFlow/src/py.jl:42\n",
      "┌ Warning: `getindex(o::PyObject, s::Symbol)` is deprecated in favor of dot overloading (`getproperty`) so elements should now be accessed as e.g. `o.s` instead of `o[:s]`.\n",
      "│   caller = (::getfield(Main, Symbol(\"##3#4\")){Array{UInt8,1}})() at py.jl:42\n",
      "└ @ Main ~/.julia/dev/TensorFlow/src/py.jl:42\n",
      "┌ Warning: `getindex(o::PyObject, s::Symbol)` is deprecated in favor of dot overloading (`getproperty`) so elements should now be accessed as e.g. `o.s` instead of `o[:s]`.\n",
      "│   caller = py_with(::getfield(Main, Symbol(\"##3#4\")){Array{UInt8,1}}, ::PyObject) at py.jl:21\n",
      "└ @ Main ~/.julia/dev/TensorFlow/src/py.jl:21\n",
      "┌ Warning: `getindex(o::PyObject, s::Symbol)` is deprecated in favor of dot overloading (`getproperty`) so elements should now be accessed as e.g. `o.s` instead of `o[:s]`.\n",
      "│   caller = (::getfield(Main, Symbol(\"#to_py_node#5\")){PyObject})(::Tuple{String,Int64}) at py.jl:77\n",
      "└ @ Main ~/.julia/dev/TensorFlow/src/py.jl:77\n",
      "┌ Warning: `getindex(o::PyObject, s::Symbol)` is deprecated in favor of dot overloading (`getproperty`) so elements should now be accessed as e.g. `o.s` instead of `o[:s]`.\n",
      "│   caller = py_gradients(::Array{UInt8,1}, ::Array{Tuple{String,Int64},1}, ::Tuple{String,Int64}, ::Nothing) at py.jl:42\n",
      "└ @ Main ~/.julia/dev/TensorFlow/src/py.jl:42\n",
      "┌ Warning: `getindex(o::PyObject, s::Symbol)` is deprecated in favor of dot overloading (`getproperty`) so elements should now be accessed as e.g. `o.s` instead of `o[:s]`.\n",
      "│   caller = py_gradients(::Array{UInt8,1}, ::Array{Tuple{String,Int64},1}, ::Tuple{String,Int64}, ::Nothing) at py.jl:85\n",
      "└ @ Main ~/.julia/dev/TensorFlow/src/py.jl:85\n",
      "┌ Warning: `getindex(o::PyObject, s::Symbol)` is deprecated in favor of dot overloading (`getproperty`) so elements should now be accessed as e.g. `o.s` instead of `o[:s]`.\n",
      "│   caller = py_gradients(::Array{UInt8,1}, ::Array{Tuple{String,Int64},1}, ::Tuple{String,Int64}, ::Nothing) at py.jl:93\n",
      "└ @ Main ~/.julia/dev/TensorFlow/src/py.jl:93\n",
      "┌ Warning: `getindex(o::PyObject, s::Symbol)` is deprecated in favor of dot overloading (`getproperty`) so elements should now be accessed as e.g. `o.s` instead of `o[:s]`.\n",
      "│   caller = py_gradients(::Array{UInt8,1}, ::Array{Tuple{String,Int64},1}, ::Tuple{String,Int64}, ::Nothing) at py.jl:95\n",
      "└ @ Main ~/.julia/dev/TensorFlow/src/py.jl:95\n",
      "┌ Warning: `getindex(o::PyObject, s::Symbol)` is deprecated in favor of dot overloading (`getproperty`) so elements should now be accessed as e.g. `o.s` instead of `o[:s]`.\n",
      "│   caller = to_protos(::PyObject) at py.jl:63\n",
      "└ @ Main ~/.julia/dev/TensorFlow/src/py.jl:63\n",
      "┌ Warning: `getindex(o::PyObject, s::Symbol)` is deprecated in favor of dot overloading (`getproperty`) so elements should now be accessed as e.g. `o.s` instead of `o[:s]`.\n",
      "│   caller = to_protos(::PyObject) at py.jl:68\n",
      "└ @ Main ~/.julia/dev/TensorFlow/src/py.jl:68\n"
     ]
    },
    {
     "name": "stdout",
     "output_type": "stream",
     "text": [
      "Training model...\n",
      "LogLoss (on training data):\n",
      "  period 1: 0.6721105081252955\n",
      "  period 2: 0.6522005640636969\n",
      "  period 3: 0.634401208607931\n",
      "  period 4: 0.6183662540532432\n",
      "  period 5: 0.6044376123838642\n",
      "  period 6: 0.5920609187885028\n",
      "  period 7: 0.5801279224633832\n",
      "  period 8: 0.5697933602890288\n",
      "  period 9: 0.5604221657436445\n",
      "  period 10: 0.5519431087096996\n",
      "Model training finished.\n",
      "Final LogLoss (on training data): 0.5519431087096996\n"
     ]
    },
    {
     "data": {
      "text/plain": [
       "([-0.368462; 0.322629; … ; 0.125009; 0.192912], 0.03650506092723156, [0.585129; 0.387341; … ; 0.663437; 0.528799], Plot{Plots.GRBackend() n=2})"
      ]
     },
     "execution_count": 14,
     "metadata": {},
     "output_type": "execute_result"
    }
   ],
   "source": [
    "weight, bias, validation_probabilities,  p1 = train_linear_classifier_model(\n",
    "    0.0005, #learning rate\n",
    "    1000, #steps\n",
    "    50, #batch_size\n",
    "    train_feature_mat,\n",
    "    train_labels,\n",
    "    test_features_mat,\n",
    "    test_labels)"
   ]
  },
  {
   "cell_type": "code",
   "execution_count": 15,
   "metadata": {},
   "outputs": [
    {
     "data": {
      "image/png": "[encoded data removed]"
     },
     "execution_count": 15,
     "metadata": {},
     "output_type": "execute_result"
    }
   ],
   "source": [
    "plot(p1)"
   ]
  },
  {
   "cell_type": "markdown",
   "metadata": {},
   "source": [
    "The following function converts the validation probabilites back to 0-1-predictions."
   ]
  },
  {
   "cell_type": "code",
   "execution_count": 16,
   "metadata": {},
   "outputs": [
    {
     "data": {
      "text/plain": [
       "castto01 (generic function with 1 method)"
      ]
     },
     "execution_count": 16,
     "metadata": {},
     "output_type": "execute_result"
    }
   ],
   "source": [
    "# Function for converting probabilities to 0/1 decision\n",
    "function castto01(probabilities)\n",
    "    out=copy(probabilities)\n",
    "    for i=1:length(probabilities)\n",
    "        if(probabilities[i]<0.5)\n",
    "            out[i]=0\n",
    "        else\n",
    "            out[i]=1\n",
    "        end\n",
    "    end\n",
    "    return out\n",
    "end    "
   ]
  },
  {
   "cell_type": "markdown",
   "metadata": {},
   "source": [
    "Let's have a look at the accuracy of the model:"
   ]
  },
  {
   "cell_type": "code",
   "execution_count": 50,
   "metadata": {},
   "outputs": [],
   "source": [
    "evaluation_metrics=DataFrame()\n",
    "false_positive_rate, true_positive_rate, thresholds = sklm.roc_curve(\n",
    "    vec(construct_feature_columns(test_labels)), vec(validation_probabilities))\n",
    "evaluation_metrics[:auc]=sklm.roc_auc_score(construct_feature_columns(test_labels), vec(validation_probabilities))\n",
    "validation_predictions=castto01(validation_probabilities);\n",
    "evaluation_metrics[:accuracy] = sklm.accuracy_score(collect(test_labels), validation_predictions)\n",
    "\n",
    "p2=plot(false_positive_rate, true_positive_rate, label=\"our model\")\n",
    "p2=plot!([0, 1], [0, 1], label=\"random classifier\");"
   ]
  },
  {
   "cell_type": "code",
   "execution_count": 51,
   "metadata": {
    "scrolled": true
   },
   "outputs": [
    {
     "name": "stdout",
     "output_type": "stream",
     "text": [
      "AUC on the validation set: [0.865822]\n",
      "Accuracy on the validation set: [0.781791]\n"
     ]
    }
   ],
   "source": [
    "println(\"AUC on the validation set: \",  evaluation_metrics[:auc])\n",
    "println(\"Accuracy on the validation set: \", evaluation_metrics[:accuracy])"
   ]
  },
  {
   "cell_type": "code",
   "execution_count": 52,
   "metadata": {},
   "outputs": [
    {
     "data": {
      "image/png": "[encoded data removed]"
     },
     "execution_count": 52,
     "metadata": {},
     "output_type": "execute_result"
    }
   ],
   "source": [
    "plot(p2)"
   ]
  },
  {
   "cell_type": "markdown",
   "metadata": {
    "colab_type": "text",
    "id": "J0ubn9gULS8g"
   },
   "source": [
    "## Task 2: Use a Deep Neural Network (DNN) Model\n",
    "\n",
    "The above model is a linear model.  It works quite well.  But can we do better with a DNN model?\n",
    "\n",
    "Let's constructa NN classification model. Run the following cells, and see how you do."
   ]
  },
  {
   "cell_type": "code",
   "execution_count": 53,
   "metadata": {
    "colab": {
     "autoexec": {
      "startup": false,
      "wait_interval": 0
     },
     "base_uri": "https://localhost:8080/",
     "height": 459
    },
    "colab_type": "code",
    "executionInfo": {
     "elapsed": 17114,
     "status": "ok",
     "timestamp": 1532366706051,
     "user": {
      "displayName": "Sören Dobberschütz",
      "photoUrl": "//lh4.googleusercontent.com/-zjTpujRnBgI/AAAAAAAAAAI/AAAAAAAAjqE/N66w7uuWXRY/s50-c-k-no/photo.jpg",
      "userId": "109321859854799946351"
     },
     "user_tz": -120
    },
    "id": "jcgOPfEALS8h",
    "outputId": "4f3ed510-1311-4053-d7a3-4a5c127e12a4"
   },
   "outputs": [
    {
     "data": {
      "text/plain": [
       "train_nn_classification_model (generic function with 1 method)"
      ]
     },
     "execution_count": 53,
     "metadata": {},
     "output_type": "execute_result"
    }
   ],
   "source": [
    "function train_nn_classification_model(learning_rate,\n",
    "                     steps, \n",
    "                     batch_size, \n",
    "                     hidden_units,\n",
    "                     is_embedding,\n",
    "                     keep_probability,\n",
    "                     training_examples, \n",
    "                     training_targets, \n",
    "                     validation_examples, \n",
    "                     validation_targets)\n",
    "  \"\"\"Trains a neural network classification model.\n",
    "  \n",
    "  Args:\n",
    "    learning_rate: A `float`, the learning rate.\n",
    "    steps: A non-zero `int`, the total number of training steps. A training step\n",
    "      consists of a forward and backward pass using a single batch.\n",
    "    batch_size: A non-zero `int`, the batch size.\n",
    "    hidden_units: A vector describing the layout of the neural network.\n",
    "    is_embedding: 'true' or 'false' depending on if the first layer of the NN is an embedding layer.\n",
    "    keep_probability: A `float`, the probability of keeping a node active during one training step.\n",
    "  Returns:\n",
    "    p1: Plot of the loss function for the different periods.\n",
    "    y: The final layer of the TensorFlow network.\n",
    "    final_probabilities: Final predicted probabilities on the validation examples.\n",
    "    weight_export: The weights of the first layer of the NN\n",
    "    feature_columns: TensorFlow feature columns.\n",
    "    target_columns: TensorFlow target columns.\n",
    "  \"\"\"\n",
    "  \n",
    "  periods = 10\n",
    "  steps_per_period = steps / periods\n",
    "\n",
    "  # Create feature columns.\n",
    "  feature_columns = placeholder(Float32, shape=[-1, size(training_examples,2)])\n",
    "  target_columns = placeholder(Float32, shape=[-1, size(training_targets,2)])\n",
    "        \n",
    "  # Network parameters\n",
    "  push!(hidden_units,size(training_targets,2)) #create an output node that fits to the size of the targets\n",
    "  activation_functions = Vector{Function}(undef,size(hidden_units,1))\n",
    "  activation_functions[1:end-1] .= z->nn.dropout(nn.relu(z), keep_probability)\n",
    "  activation_functions[end] = nn.sigmoid #Last function should be idenity as we need the logits  \n",
    "    \n",
    "  # create network \n",
    "  flag=0\n",
    "  weight_export=Variable([1])\n",
    "  Zs = [feature_columns]\n",
    "\n",
    "  for (ii,(hlsize, actfun)) in enumerate(zip(hidden_units, activation_functions))\n",
    "        Wii = get_variable(\"W_$ii\"*randstring(4), [get_shape(Zs[end], 2), hlsize], Float32)\n",
    "        bii = get_variable(\"b_$ii\"*randstring(4), [hlsize], Float32)\n",
    "        \n",
    "        if((is_embedding==true) & (flag==0))\n",
    "            Zii=Zs[end]*Wii \n",
    "        else\n",
    "            Zii = actfun(Zs[end]*Wii + bii)\n",
    "        end\n",
    "        push!(Zs, Zii)\n",
    "        \n",
    "        if(flag==0)\n",
    "            weight_export=Wii\n",
    "            flag=1\n",
    "        end\n",
    "  end\n",
    "\n",
    "  y=Zs[end]\n",
    "  eps=1e-8\n",
    "  cross_entropy = -reduce_mean(log(y+eps).*target_columns + log(1-y+eps).*(1-target_columns))\n",
    " \n",
    "  features_batches, targets_batches = create_batches(training_examples, training_targets, steps, batch_size)\n",
    "  \n",
    "  # Standard Adam Optimizer\n",
    "  my_optimizer=train.minimize(train.AdamOptimizer(learning_rate), cross_entropy)\n",
    " \n",
    "  run(sess, global_variables_initializer())\n",
    "\n",
    "    \n",
    "  # Train the model, but do so inside a loop so that we can periodically assess\n",
    "  # loss metrics.\n",
    "  println(\"Training model...\")\n",
    "  println(\"LogLoss error (on validation data):\")\n",
    "  training_log_losses = []\n",
    "  validation_log_losses = []\n",
    "  for period in 1:periods  \n",
    "    # Train the model, starting from the prior state.\n",
    "   for i=1:steps_per_period\n",
    "    features, labels = my_input_fn(features_batches, targets_batches, convert(Int,(period-1)*steps_per_period+i), batch_size)\n",
    "    run(sess, my_optimizer, Dict(feature_columns=>construct_feature_columns(features), target_columns=>construct_feature_columns(labels)))\n",
    "   end\n",
    "    # Take a break and compute log loss.\n",
    "    training_log_loss = run(sess, cross_entropy, Dict(feature_columns=> construct_feature_columns(training_examples), target_columns=>construct_feature_columns(training_targets)));    \n",
    "    validation_log_loss = run(sess, cross_entropy, Dict(feature_columns=> construct_feature_columns(validation_examples), target_columns=>construct_feature_columns(validation_targets)));  \n",
    "         \n",
    "    # Occasionally print the current loss.\n",
    "    println(\"  period \", period, \": \", training_log_loss)\n",
    "           \n",
    "    # Add the loss metrics from this period to our list.\n",
    "    push!(training_log_losses, training_log_loss)\n",
    "    push!(validation_log_losses, validation_log_loss)\n",
    "  end      \n",
    "        \n",
    "        \n",
    "  println(\"Model training finished.\")\n",
    "  \n",
    "  # Calculate final predictions (not probabilities, as above).\n",
    "  final_probabilities = run(sess, y, Dict(feature_columns=> validation_examples, target_columns=>validation_targets))\n",
    "  final_predictions=0.0.*copy(final_probabilities)\n",
    "  final_predictions=castto01(final_probabilities)\n",
    "  \n",
    "  accuracy = sklm.accuracy_score(collect(validation_targets), final_predictions)\n",
    "  println(\"Final accuracy (on validation data): \", accuracy)\n",
    "\n",
    "  # Output a graph of loss metrics over periods.\n",
    "  p1=plot(training_log_losses, label=\"training\", title=\"LogLoss vs. Periods\", ylabel=\"LogLoss\", xlabel=\"Periods\")\n",
    "  p1=plot!(validation_log_losses, label=\"validation\")\n",
    "  \n",
    "  return p1, y, final_probabilities, weight_export, feature_columns, target_columns\n",
    "end"
   ]
  },
  {
   "cell_type": "code",
   "execution_count": 54,
   "metadata": {},
   "outputs": [
    {
     "name": "stderr",
     "output_type": "stream",
     "text": [
      "┌ Warning: `getindex(o::PyObject, s::Symbol)` is deprecated in favor of dot overloading (`getproperty`) so elements should now be accessed as e.g. `o.s` instead of `o[:s]`.\n",
      "│   caller = py_gradients(::Array{UInt8,1}, ::Array{Tuple{String,Int64},1}, ::Tuple{String,Int64}, ::Nothing) at py.jl:42\n",
      "└ @ Main ~/.julia/dev/TensorFlow/src/py.jl:42\n",
      "┌ Warning: `getindex(o::PyObject, s::Symbol)` is deprecated in favor of dot overloading (`getproperty`) so elements should now be accessed as e.g. `o.s` instead of `o[:s]`.\n",
      "│   caller = py_gradients(::Array{UInt8,1}, ::Array{Tuple{String,Int64},1}, ::Tuple{String,Int64}, ::Nothing) at py.jl:85\n",
      "└ @ Main ~/.julia/dev/TensorFlow/src/py.jl:85\n",
      "┌ Warning: `getindex(o::PyObject, s::Symbol)` is deprecated in favor of dot overloading (`getproperty`) so elements should now be accessed as e.g. `o.s` instead of `o[:s]`.\n",
      "│   caller = py_gradients(::Array{UInt8,1}, ::Array{Tuple{String,Int64},1}, ::Tuple{String,Int64}, ::Nothing) at py.jl:93\n",
      "└ @ Main ~/.julia/dev/TensorFlow/src/py.jl:93\n",
      "┌ Warning: `getindex(o::PyObject, s::Symbol)` is deprecated in favor of dot overloading (`getproperty`) so elements should now be accessed as e.g. `o.s` instead of `o[:s]`.\n",
      "│   caller = py_gradients(::Array{UInt8,1}, ::Array{Tuple{String,Int64},1}, ::Tuple{String,Int64}, ::Nothing) at py.jl:95\n",
      "└ @ Main ~/.julia/dev/TensorFlow/src/py.jl:95\n",
      "┌ Warning: `getindex(o::PyObject, s::Symbol)` is deprecated in favor of dot overloading (`getproperty`) so elements should now be accessed as e.g. `o.s` instead of `o[:s]`.\n",
      "│   caller = to_protos(::PyObject) at py.jl:63\n",
      "└ @ Main ~/.julia/dev/TensorFlow/src/py.jl:63\n",
      "┌ Warning: `getindex(o::PyObject, s::Symbol)` is deprecated in favor of dot overloading (`getproperty`) so elements should now be accessed as e.g. `o.s` instead of `o[:s]`.\n",
      "│   caller = to_protos(::PyObject) at py.jl:68\n",
      "└ @ Main ~/.julia/dev/TensorFlow/src/py.jl:68\n"
     ]
    },
    {
     "name": "stdout",
     "output_type": "stream",
     "text": [
      "Training model...\n",
      "LogLoss error (on validation data):\n",
      "  period 1: 0.4515786906010827\n",
      "  period 2: 0.44849685369506703\n",
      "  period 3: 0.45678289568993147\n",
      "  period 4: 0.4460217305414473\n",
      "  period 5: 0.4472715532609433\n",
      "  period 6: 0.44637476140967014\n",
      "  period 7: 0.4461147248181754\n",
      "  period 8: 0.4512178549357173\n",
      "  period 9: 0.44487838779238126\n",
      "  period 10: 0.4452507003009877\n",
      "Model training finished.\n",
      "Final accuracy (on validation data): 0.7862314492579703\n"
     ]
    },
    {
     "data": {
      "text/plain": [
       "(Plot{Plots.GRBackend() n=2}, <Tensor Sigmoid:1 shape=(?, 1) dtype=Float32>, Float32[0.805678; 0.174846; … ; 0.918164; 0.58417], Variable{Float32}(<Tensor W_19xV4:1 shape=(50, 20) dtype=Float32>, <Tensor W_19xV4/Assign:1 shape=(50, 20) dtype=Float32>), <Tensor placeholder:1 shape=(?, 50) dtype=Float32>, <Tensor placeholder_2:1 shape=(?, 1) dtype=Float32>)"
      ]
     },
     "execution_count": 54,
     "metadata": {},
     "output_type": "execute_result"
    }
   ],
   "source": [
    "sess=Session(Graph())\n",
    "p1, y, final_probabilities, weight_export, feature_columns, target_columns = train_nn_classification_model(\n",
    "    0.003, #learning rate\n",
    "    1000, #steps\n",
    "    50, #batch_size\n",
    "    [20, 20], #hidden_units\n",
    "    false, #is_embedding\n",
    "    1.0, # keep probability\n",
    "    train_feature_mat,\n",
    "    train_labels,\n",
    "    test_features_mat,\n",
    "    test_labels)"
   ]
  },
  {
   "cell_type": "code",
   "execution_count": 55,
   "metadata": {},
   "outputs": [
    {
     "data": {
      "image/png": "[encoded data removed]"
     },
     "execution_count": 55,
     "metadata": {},
     "output_type": "execute_result"
    }
   ],
   "source": [
    "plot(p1)"
   ]
  },
  {
   "cell_type": "code",
   "execution_count": 57,
   "metadata": {},
   "outputs": [
    {
     "name": "stdout",
     "output_type": "stream",
     "text": [
      "AUC on the validation set: [0.871958]\n",
      "Accuracy on the validation set: [0.786231]\n"
     ]
    }
   ],
   "source": [
    "evaluation_metrics=DataFrame()\n",
    "false_positive_rate, true_positive_rate, thresholds = sklm.roc_curve(\n",
    "    vec(construct_feature_columns(test_labels)), vec(final_probabilities))\n",
    "evaluation_metrics[:auc]=sklm.roc_auc_score(construct_feature_columns(test_labels), vec(final_probabilities))\n",
    "validation_predictions=castto01(final_probabilities);\n",
    "evaluation_metrics[:accuracy]=accuracy = sklm.accuracy_score(collect(test_labels), validation_predictions)\n",
    "\n",
    "p2=plot(false_positive_rate, true_positive_rate, label=\"our model\")\n",
    "p2=plot!([0, 1], [0, 1], label=\"random classifier\");\n",
    "println(\"AUC on the validation set: \",  evaluation_metrics[:auc])\n",
    "println(\"Accuracy on the validation set: \", evaluation_metrics[:accuracy])"
   ]
  },
  {
   "cell_type": "code",
   "execution_count": 58,
   "metadata": {},
   "outputs": [
    {
     "data": {
      "image/png": "[encoded data removed]"
     },
     "execution_count": 58,
     "metadata": {},
     "output_type": "execute_result"
    }
   ],
   "source": [
    "plot(p2)"
   ]
  },
  {
   "cell_type": "markdown",
   "metadata": {
    "colab_type": "text",
    "id": "cZz68luxLS8j"
   },
   "source": [
    "## Task 3: Use an Embedding with a DNN Model\n",
    "\n",
    "In this task, we'll implement our DNN model using an embedding column. An embedding column takes sparse data as input and returns a lower-dimensional dense vector as output. We'll add the embedding layer as the first layer in the ``hidden_units``-vector, and set ``is_embedding`` to ``true``."
   ]
  },
  {
   "cell_type": "markdown",
   "metadata": {
    "colab_type": "text",
    "id": "UlPZ-Q9bLS8m"
   },
   "source": [
    "**NOTE:** *In practice, we might project to dimensions higher than 2, like 50 or 100.  But for now, 2 dimensions is easy to visualize.*"
   ]
  },
  {
   "cell_type": "code",
   "execution_count": 59,
   "metadata": {
    "colab": {
     "autoexec": {
      "startup": false,
      "wait_interval": 0
     },
     "base_uri": "https://localhost:8080/",
     "height": 459
    },
    "colab_type": "code",
    "executionInfo": {
     "elapsed": 45527,
     "status": "ok",
     "timestamp": 1532366751603,
     "user": {
      "displayName": "Sören Dobberschütz",
      "photoUrl": "//lh4.googleusercontent.com/-zjTpujRnBgI/AAAAAAAAAAI/AAAAAAAAjqE/N66w7uuWXRY/s50-c-k-no/photo.jpg",
      "userId": "109321859854799946351"
     },
     "user_tz": -120
    },
    "id": "5PG_yhNGLS8u",
    "outputId": "20f7ee56-996b-4f6a-da09-b68e8bba7ee4",
    "scrolled": true
   },
   "outputs": [
    {
     "name": "stdout",
     "output_type": "stream",
     "text": [
      "Training model...\n",
      "LogLoss error (on validation data):\n",
      "  period 1: 0.6069989732931624\n",
      "  period 2: 0.4521562891019462\n",
      "  period 3: 0.4472803943547435\n",
      "  period 4: 0.44470490110825006\n",
      "  period 5: 0.4459180835522875\n",
      "  period 6: 0.4449739044671009\n",
      "  period 7: 0.44566800024876874\n",
      "  period 8: 0.4480791358543033\n",
      "  period 9: 0.4506433883789002\n",
      "  period 10: 0.4444382949975863\n",
      "Model training finished.\n",
      "Final accuracy (on validation data): 0.7886315452618105\n"
     ]
    },
    {
     "data": {
      "text/plain": [
       "(Plot{Plots.GRBackend() n=2}, <Tensor Sigmoid:1 shape=(?, 1) dtype=Float32>, Float32[0.792826; 0.195035; … ; 0.925713; 0.61447], Variable{Float32}(<Tensor W_1houb:1 shape=(50, 2) dtype=Float32>, <Tensor W_1houb/Assign:1 shape=(50, 2) dtype=Float32>), <Tensor placeholder:1 shape=(?, 50) dtype=Float32>, <Tensor placeholder_2:1 shape=(?, 1) dtype=Float32>)"
      ]
     },
     "execution_count": 59,
     "metadata": {},
     "output_type": "execute_result"
    }
   ],
   "source": [
    "sess=Session(Graph())\n",
    "p1, y, final_probabilities, weight_export, feature_columns, target_columns = train_nn_classification_model(\n",
    "    0.003, #learning rate\n",
    "    1000, #steps\n",
    "    50, #batch_size\n",
    "    [2, 20, 20], #hidden_units\n",
    "    true,\n",
    "    1.0, # keep probability\n",
    "    train_feature_mat,\n",
    "    train_labels,\n",
    "    test_features_mat,\n",
    "    test_labels)"
   ]
  },
  {
   "cell_type": "code",
   "execution_count": 60,
   "metadata": {},
   "outputs": [
    {
     "data": {
      "image/png": "[encoded data removed]"
     },
     "execution_count": 60,
     "metadata": {},
     "output_type": "execute_result"
    }
   ],
   "source": [
    "plot(p1)"
   ]
  },
  {
   "cell_type": "code",
   "execution_count": 61,
   "metadata": {},
   "outputs": [
    {
     "name": "stdout",
     "output_type": "stream",
     "text": [
      "AUC on the validation set: [0.873227]\n",
      "Accuracy on the validation set: [0.788632]\n"
     ]
    }
   ],
   "source": [
    "evaluation_metrics=DataFrame()\n",
    "false_positive_rate, true_positive_rate, thresholds = sklm.roc_curve(\n",
    "    vec(construct_feature_columns(test_labels)), vec(final_probabilities))\n",
    "evaluation_metrics[:auc]=sklm.roc_auc_score(construct_feature_columns(test_labels), vec(final_probabilities))\n",
    "validation_predictions=castto01(final_probabilities);\n",
    "evaluation_metrics[:accuracy]=accuracy = sklm.accuracy_score(collect(test_labels), validation_predictions)\n",
    "\n",
    "p2=plot(false_positive_rate, true_positive_rate, label=\"our model\")\n",
    "p2=plot!([0, 1], [0, 1], label=\"random classifier\");\n",
    "println(\"AUC on the validation set: \",  evaluation_metrics[:auc])\n",
    "println(\"Accuracy on the validation set: \", evaluation_metrics[:accuracy])"
   ]
  },
  {
   "cell_type": "code",
   "execution_count": 62,
   "metadata": {},
   "outputs": [
    {
     "data": {
      "image/png": "[encoded data removed]"
     },
     "execution_count": 62,
     "metadata": {},
     "output_type": "execute_result"
    }
   ],
   "source": [
    "plot(p2)"
   ]
  },
  {
   "cell_type": "markdown",
   "metadata": {
    "colab_type": "text",
    "id": "rkKAaRWDLS83"
   },
   "source": [
    "## Task 4: Examine the Embedding\n",
    "\n",
    "Let's now take a look at the actual embedding space, and see where the terms end up in it. Do the following:\n",
    "1. Run the following code to see the embedding we trained in **Task 3**. Do things end up where you'd expect?\n",
    "\n",
    "2. Re-train the model by rerunning the code in **Task 3**, and then run the embedding visualization below again. What stays the same? What changes?\n",
    "\n",
    "3. Finally, re-train the model again using only 10 steps (which will yield a terrible model). Run the embedding visualization below again. What do you see now, and why?"
   ]
  },
  {
   "cell_type": "code",
   "execution_count": 63,
   "metadata": {},
   "outputs": [
    {
     "data": {
      "image/png": "[encoded data removed]"
     },
     "execution_count": 63,
     "metadata": {},
     "output_type": "execute_result"
    }
   ],
   "source": [
    "xy_coord=run(sess, weight_export, Dict(feature_columns=> test_features_mat, target_columns=>test_labels))\n",
    "p3=plot(title=\"Embedding Space\", xlims=(minimum(xy_coord[:,1])-0.3, maximum(xy_coord[:,1])+0.3),  ylims=(minimum(xy_coord[:,2])-0.1, maximum(xy_coord[:,2]) +0.3)  )\n",
    "for term_index=1:length(informative_terms)\n",
    "    p3=annotate!(xy_coord[term_index,1], xy_coord[term_index,1], informative_terms[term_index] )\n",
    "end\n",
    "plot(p3)"
   ]
  },
  {
   "cell_type": "markdown",
   "metadata": {
    "colab_type": "text",
    "id": "pUb3L7pqLS86"
   },
   "source": [
    "## Task 5:  Try to improve the model's performance\n",
    "\n",
    "See if you can refine the model to improve performance. A couple things you may want to try:\n",
    "\n",
    "* **Changing hyperparameters**, or **using a different optimizer** than Adam (you may only gain one or two accuracy percentage points following these strategies).\n",
    "* **Adding additional terms to `informative_terms`.** There's a full vocabulary file with all 30,716 terms for this data set that you can use at: https://storage.googleapis.com/mledu-datasets/sparse-data-embedding/terms.txt You can pick out additional terms from this vocabulary file, or use the whole thing.\n",
    "\n",
    "In the following code, we will import the whole vocabulary file and run the model with it. "
   ]
  },
  {
   "cell_type": "code",
   "execution_count": 64,
   "metadata": {},
   "outputs": [],
   "source": [
    "vocabulary=Array{String}(undef, 0)\n",
    "open(\"terms.txt\") do file\n",
    "    for ln in eachline(file)\n",
    "        push!(vocabulary, ln)\n",
    "    end\n",
    "end"
   ]
  },
  {
   "cell_type": "code",
   "execution_count": 65,
   "metadata": {},
   "outputs": [
    {
     "data": {
      "text/plain": [
       "30716-element Array{String,1}:\n",
       " \"the\"      \n",
       " \".\"        \n",
       " \",\"        \n",
       " \"and\"      \n",
       " \"a\"        \n",
       " \"of\"       \n",
       " \"to\"       \n",
       " \"is\"       \n",
       " \"in\"       \n",
       " \"i\"        \n",
       " \"it\"       \n",
       " \"this\"     \n",
       " \"'\"        \n",
       " ⋮          \n",
       " \"soapbox\"  \n",
       " \"softening\"\n",
       " \"user's\"   \n",
       " \"od\"       \n",
       " \"potter's\" \n",
       " \"renard\"   \n",
       " \"impacting\"\n",
       " \"pong\"     \n",
       " \"nobly\"    \n",
       " \"nicol\"    \n",
       " \"ff\"       \n",
       " \"MISSING\"  "
      ]
     },
     "execution_count": 65,
     "metadata": {},
     "output_type": "execute_result"
    }
   ],
   "source": [
    "vocabulary"
   ]
  },
  {
   "cell_type": "markdown",
   "metadata": {},
   "source": [
    "We will now load the test and training features matrices from disk. Open and run the **Conversion of Movie-review data to one-hot encoding**-notebook to prepare the ``IMDB_fullmatrix_datacolumns.jld``-file. The notebook can be found [here](https://github.com/sdobber/MLCrashCourse/blob/master/Conversion%20of%20Movie-review%20data%20to%20one-hot%20encoding.ipynb)."
   ]
  },
  {
   "cell_type": "code",
   "execution_count": 66,
   "metadata": {},
   "outputs": [
    {
     "data": {
      "text/plain": [
       "24999×30716 Array{Float64,2}:\n",
       " 1.0  1.0  1.0  1.0  1.0  0.0  1.0  1.0  …  0.0  0.0  0.0  0.0  0.0  0.0  0.0\n",
       " 1.0  1.0  1.0  1.0  1.0  1.0  1.0  1.0     0.0  0.0  0.0  0.0  0.0  1.0  0.0\n",
       " 1.0  1.0  1.0  1.0  1.0  1.0  1.0  1.0     0.0  0.0  0.0  0.0  0.0  1.0  0.0\n",
       " 1.0  1.0  1.0  1.0  1.0  1.0  1.0  1.0     0.0  0.0  0.0  0.0  0.0  0.0  0.0\n",
       " 1.0  1.0  1.0  1.0  1.0  1.0  1.0  1.0     0.0  0.0  0.0  0.0  0.0  1.0  0.0\n",
       " 1.0  1.0  1.0  1.0  1.0  1.0  1.0  1.0  …  0.0  0.0  0.0  0.0  0.0  1.0  0.0\n",
       " 1.0  1.0  1.0  1.0  1.0  1.0  1.0  1.0     0.0  0.0  0.0  0.0  0.0  1.0  0.0\n",
       " 1.0  1.0  1.0  1.0  1.0  1.0  1.0  1.0     0.0  0.0  0.0  0.0  0.0  1.0  0.0\n",
       " 1.0  1.0  1.0  1.0  1.0  1.0  1.0  1.0     0.0  0.0  0.0  0.0  0.0  0.0  0.0\n",
       " 1.0  1.0  1.0  1.0  1.0  1.0  1.0  1.0     0.0  0.0  0.0  0.0  0.0  0.0  0.0\n",
       " 1.0  1.0  1.0  1.0  1.0  1.0  1.0  1.0  …  0.0  0.0  0.0  0.0  0.0  1.0  0.0\n",
       " 1.0  1.0  1.0  1.0  1.0  1.0  1.0  1.0     0.0  0.0  0.0  0.0  0.0  0.0  0.0\n",
       " 1.0  1.0  1.0  1.0  1.0  0.0  1.0  1.0     0.0  0.0  0.0  0.0  0.0  0.0  0.0\n",
       " ⋮                        ⋮              ⋱       ⋮                        ⋮  \n",
       " 0.0  1.0  1.0  0.0  1.0  0.0  0.0  1.0     0.0  0.0  0.0  0.0  0.0  0.0  0.0\n",
       " 1.0  1.0  1.0  1.0  1.0  1.0  1.0  1.0     0.0  0.0  0.0  0.0  0.0  1.0  0.0\n",
       " 1.0  1.0  1.0  1.0  1.0  1.0  1.0  1.0     0.0  0.0  0.0  0.0  0.0  1.0  0.0\n",
       " 1.0  1.0  1.0  1.0  1.0  1.0  1.0  1.0  …  0.0  0.0  0.0  0.0  0.0  0.0  0.0\n",
       " 1.0  1.0  1.0  1.0  1.0  0.0  1.0  1.0     0.0  0.0  0.0  0.0  0.0  0.0  0.0\n",
       " 1.0  1.0  1.0  1.0  1.0  1.0  1.0  1.0     0.0  0.0  0.0  0.0  0.0  1.0  0.0\n",
       " 1.0  1.0  1.0  1.0  1.0  1.0  1.0  1.0     0.0  0.0  0.0  0.0  0.0  0.0  0.0\n",
       " 1.0  1.0  1.0  1.0  1.0  1.0  1.0  1.0     0.0  0.0  0.0  0.0  0.0  0.0  0.0\n",
       " 1.0  1.0  1.0  1.0  1.0  1.0  1.0  1.0  …  0.0  0.0  0.0  0.0  0.0  1.0  0.0\n",
       " 1.0  1.0  1.0  1.0  1.0  1.0  1.0  1.0     0.0  0.0  0.0  0.0  0.0  0.0  0.0\n",
       " 1.0  1.0  1.0  1.0  1.0  1.0  1.0  1.0     0.0  0.0  0.0  0.0  0.0  0.0  0.0\n",
       " 1.0  1.0  1.0  1.0  1.0  1.0  1.0  1.0     0.0  0.0  0.0  0.0  0.0  0.0  0.0"
      ]
     },
     "execution_count": 66,
     "metadata": {},
     "output_type": "execute_result"
    }
   ],
   "source": [
    "using JLD\n",
    "train_features_full=load(\"IMDB_fullmatrix_datacolumns.jld\", \"train_features_full\")\n",
    "test_features_full=load(\"IMDB_fullmatrix_datacolumns.jld\", \"test_features_full\")"
   ]
  },
  {
   "cell_type": "markdown",
   "metadata": {},
   "source": [
    "Now run the session with the full vocabulary file. Again, this will take a long time to finish. It assigns about 50GB of memory."
   ]
  },
  {
   "cell_type": "code",
   "execution_count": 67,
   "metadata": {
    "colab": {
     "autoexec": {
      "startup": false,
      "wait_interval": 0
     },
     "base_uri": "https://localhost:8080/",
     "height": 459
    },
    "colab_type": "code",
    "executionInfo": {
     "elapsed": 29648,
     "status": "ok",
     "timestamp": 1532366076389,
     "user": {
      "displayName": "Sören Dobberschütz",
      "photoUrl": "//lh4.googleusercontent.com/-zjTpujRnBgI/AAAAAAAAAAI/AAAAAAAAjqE/N66w7uuWXRY/s50-c-k-no/photo.jpg",
      "userId": "109321859854799946351"
     },
     "user_tz": -120
    },
    "id": "0jbJlwW5LS8-",
    "outputId": "53b9b5c2-9831-4e46-f93e-065aef357e03"
   },
   "outputs": [
    {
     "name": "stdout",
     "output_type": "stream",
     "text": [
      "Training model...\n",
      "LogLoss error (on validation data):\n",
      "  period 1: 0.3251127531847735\n",
      "  period 2: 0.26201559722924606\n",
      "  period 3: 0.23330845378962484\n",
      "  period 4: 0.19994648265169648\n",
      "  period 5: 0.19856387267099854\n",
      "  period 6: 0.15555357555980726\n",
      "  period 7: 0.14615092534847945\n",
      "  period 8: 0.1424473869184396\n",
      "  period 9: 0.13466042909678566\n",
      "  period 10: 0.11532863619817135\n",
      "Model training finished.\n",
      "Final accuracy (on validation data): 0.8650346013840554\n"
     ]
    },
    {
     "data": {
      "text/plain": [
       "(Plot{Plots.GRBackend() n=2}, <Tensor Sigmoid:1 shape=(?, 1) dtype=Float32>, Float32[0.255177; 0.0307122; … ; 0.989815; 0.517531], Variable{Float32}(<Tensor W_1Cumn:1 shape=(30716, 2) dtype=Float32>, <Tensor W_1Cumn/Assign:1 shape=(30716, 2) dtype=Float32>), <Tensor placeholder:1 shape=(?, 30716) dtype=Float32>, <Tensor placeholder_2:1 shape=(?, 1) dtype=Float32>)"
      ]
     },
     "execution_count": 67,
     "metadata": {},
     "output_type": "execute_result"
    }
   ],
   "source": [
    "sess=Session(Graph())\n",
    "p1, y, final_probabilities, weight_export, feature_columns, target_columns = train_nn_classification_model(\n",
    "    # TWEAK THESE VALUES TO SEE HOW MUCH YOU CAN IMPROVE THE RMSE\n",
    "    0.003, #learning rate\n",
    "    1000, #steps\n",
    "    50, #batch_size\n",
    "    [2, 20, 20], #hidden_units\n",
    "    true,\n",
    "    1.0, # keep probability\n",
    "    train_features_full,\n",
    "    train_labels,\n",
    "    test_features_full,\n",
    "    test_labels)"
   ]
  },
  {
   "cell_type": "code",
   "execution_count": 68,
   "metadata": {},
   "outputs": [
    {
     "data": {
      "image/png": "[encoded data removed]"
     },
     "execution_count": 68,
     "metadata": {},
     "output_type": "execute_result"
    }
   ],
   "source": [
    "plot(p1)"
   ]
  },
  {
   "cell_type": "code",
   "execution_count": 69,
   "metadata": {},
   "outputs": [
    {
     "name": "stdout",
     "output_type": "stream",
     "text": [
      "AUC on the validation set: [0.940777]\n",
      "Accuracy on the validation set: [0.865035]\n"
     ]
    }
   ],
   "source": [
    "evaluation_metrics=DataFrame()\n",
    "false_positive_rate, true_positive_rate, thresholds = sklm.roc_curve(\n",
    "    vec(construct_feature_columns(test_labels)), vec(final_probabilities))\n",
    "evaluation_metrics[:auc]=sklm.roc_auc_score(construct_feature_columns(test_labels), vec(final_probabilities))\n",
    "validation_predictions=castto01(final_probabilities);\n",
    "evaluation_metrics[:accuracy]=accuracy = sklm.accuracy_score(collect(test_labels), validation_predictions)\n",
    "\n",
    "p2=plot(false_positive_rate, true_positive_rate, label=\"our model\")\n",
    "p2=plot!([0, 1], [0, 1], label=\"random classifier\");\n",
    "println(\"AUC on the validation set: \",  evaluation_metrics[:auc])\n",
    "println(\"Accuracy on the validation set: \", evaluation_metrics[:accuracy])"
   ]
  },
  {
   "cell_type": "code",
   "execution_count": 70,
   "metadata": {},
   "outputs": [
    {
     "data": {
      "image/png": "[encoded data removed]"
     },
     "execution_count": 70,
     "metadata": {},
     "output_type": "execute_result"
    }
   ],
   "source": [
    "plot(p2)"
   ]
  },
  {
   "cell_type": "markdown",
   "metadata": {},
   "source": [
    "# Task 6: Try out sparse matrices\n",
    "\n",
    "We will now convert the feature matrices from the previous step to sparse matrices and re-run our code. The sparse matrices take about 350MB of memory. The code for the NN will still convert the sparse matrix containing the data for the current batch to a full matrix, which leads to a memory requirement of about 35GB."
   ]
  },
  {
   "cell_type": "code",
   "execution_count": 71,
   "metadata": {},
   "outputs": [
    {
     "data": {
      "text/plain": [
       "24999×30716 SparseMatrixCSC{Float64,Int64} with 10780292 stored entries:\n",
       "  [1    ,     1]  =  1.0\n",
       "  [2    ,     1]  =  1.0\n",
       "  [3    ,     1]  =  1.0\n",
       "  [4    ,     1]  =  1.0\n",
       "  [5    ,     1]  =  1.0\n",
       "  [6    ,     1]  =  1.0\n",
       "  [7    ,     1]  =  1.0\n",
       "  [8    ,     1]  =  1.0\n",
       "  [9    ,     1]  =  1.0\n",
       "  [10   ,     1]  =  1.0\n",
       "  [11   ,     1]  =  1.0\n",
       "  [12   ,     1]  =  1.0\n",
       "  ⋮\n",
       "  [24975, 30715]  =  1.0\n",
       "  [24977, 30715]  =  1.0\n",
       "  [24978, 30715]  =  1.0\n",
       "  [24979, 30715]  =  1.0\n",
       "  [24981, 30715]  =  1.0\n",
       "  [24982, 30715]  =  1.0\n",
       "  [24983, 30715]  =  1.0\n",
       "  [24984, 30715]  =  1.0\n",
       "  [24989, 30715]  =  1.0\n",
       "  [24990, 30715]  =  1.0\n",
       "  [24993, 30715]  =  1.0\n",
       "  [24996, 30715]  =  1.0"
      ]
     },
     "execution_count": 71,
     "metadata": {},
     "output_type": "execute_result"
    }
   ],
   "source": [
    "train_features_sparse=sparse(train_features_full)\n",
    "test_features_sparse=sparse(test_features_full)"
   ]
  },
  {
   "cell_type": "code",
   "execution_count": 38,
   "metadata": {},
   "outputs": [],
   "source": [
    "# For saving the data\n",
    "#save(\"IMDB_sparsematrix_datacolumns.jld\", \"train_features_sparse\", train_features_sparse, \"test_features_sparse\", test_features_sparse)"
   ]
  },
  {
   "cell_type": "code",
   "execution_count": 72,
   "metadata": {},
   "outputs": [
    {
     "name": "stdout",
     "output_type": "stream",
     "text": [
      "Training model...\n",
      "LogLoss error (on validation data):\n",
      "  period 1: 0.4605575853814918\n",
      "  period 2: 0.27356117272016794\n",
      "  period 3: 0.2487382422782251\n",
      "  period 4: 0.2057872125802281\n",
      "  period 5: 0.20691236441998723\n",
      "  period 6: 0.16511000500632206\n",
      "  period 7: 0.1461716377437531\n",
      "  period 8: 0.14480918371448573\n",
      "  period 9: 0.13087959631432583\n",
      "  period 10: 0.12136018625662037\n",
      "Model training finished.\n",
      "Final accuracy (on validation data): 0.8677547101884076\n"
     ]
    },
    {
     "data": {
      "text/plain": [
       "(Plot{Plots.GRBackend() n=2}, <Tensor Sigmoid:1 shape=(?, 1) dtype=Float32>, Float32[0.423151; 0.301761; … ; 0.996238; 0.827144], Variable{Float32}(<Tensor W_1BFOF:1 shape=(30716, 2) dtype=Float32>, <Tensor W_1BFOF/Assign:1 shape=(30716, 2) dtype=Float32>), <Tensor placeholder:1 shape=(?, 30716) dtype=Float32>, <Tensor placeholder_2:1 shape=(?, 1) dtype=Float32>)"
      ]
     },
     "execution_count": 72,
     "metadata": {},
     "output_type": "execute_result"
    }
   ],
   "source": [
    "sess=Session(Graph())\n",
    "p1, y, final_probabilities, weight_export, feature_columns, target_columns = train_nn_classification_model(\n",
    "    0.003, #learning rate\n",
    "    1000, #steps\n",
    "    50, #batch_size\n",
    "    [2, 20, 20], #hidden_units\n",
    "    true,\n",
    "    1.0, # keep probability\n",
    "    train_features_sparse,\n",
    "    train_labels,\n",
    "    test_features_sparse,\n",
    "    test_labels)"
   ]
  },
  {
   "cell_type": "code",
   "execution_count": 73,
   "metadata": {
    "scrolled": false
   },
   "outputs": [
    {
     "data": {
      "image/png": "[encoded data removed]"
     },
     "execution_count": 73,
     "metadata": {},
     "output_type": "execute_result"
    }
   ],
   "source": [
    "plot(p1)"
   ]
  },
  {
   "cell_type": "code",
   "execution_count": 74,
   "metadata": {},
   "outputs": [
    {
     "name": "stdout",
     "output_type": "stream",
     "text": [
      "AUC on the validation set: [0.941214]\n",
      "Accuracy on the validation set: [0.867755]\n"
     ]
    }
   ],
   "source": [
    "evaluation_metrics=DataFrame()\n",
    "false_positive_rate, true_positive_rate, thresholds = sklm.roc_curve(\n",
    "    vec(construct_feature_columns(test_labels)), vec(final_probabilities))\n",
    "evaluation_metrics[:auc]=sklm.roc_auc_score(construct_feature_columns(test_labels), vec(final_probabilities))\n",
    "validation_predictions=castto01(final_probabilities);\n",
    "evaluation_metrics[:accuracy]=accuracy = sklm.accuracy_score(collect(test_labels), validation_predictions)\n",
    "\n",
    "p2=plot(false_positive_rate, true_positive_rate, label=\"our model\")\n",
    "p2=plot!([0, 1], [0, 1], label=\"random classifier\");\n",
    "println(\"AUC on the validation set: \",  evaluation_metrics[:auc])\n",
    "println(\"Accuracy on the validation set: \", evaluation_metrics[:accuracy])"
   ]
  },
  {
   "cell_type": "code",
   "execution_count": 75,
   "metadata": {
    "scrolled": false
   },
   "outputs": [
    {
     "data": {
      "image/png": "[encoded data removed]"
     },
     "execution_count": 75,
     "metadata": {},
     "output_type": "execute_result"
    }
   ],
   "source": [
    "plot(p2)"
   ]
  },
  {
   "cell_type": "markdown",
   "metadata": {
    "colab_type": "text",
    "id": "ew3kwGM-LS9B"
   },
   "source": [
    "## A Final Word\n",
    "\n",
    "We may have gotten a DNN solution with an embedding that was better than our original linear model, but the linear model was also pretty good and was quite a bit faster to train. Linear models train more quickly because they do not have nearly as many parameters to update or layers to backprop through.\n",
    "\n",
    "In some applications, the speed of linear models may be a game changer, or linear models may be perfectly sufficient from a quality standpoint. In other areas, the additional model complexity and capacity provided by DNNs might be more important. When defining your model architecture, remember to explore your problem sufficiently so that you know which space you're in."
   ]
  }
 ],
 "metadata": {
  "accelerator": "GPU",
  "colab": {
   "collapsed_sections": [
    "JndnmDMp66FL",
    "mNCLhxsXyOIS"
   ],
   "default_view": {},
   "name": "11. Intro to Sparse Data and Embeddings.ipynb",
   "provenance": [
    {
     "file_id": "/v2/external/notebooks/mlcc/intro_to_sparse_data_and_embeddings.ipynb",
     "timestamp": 1531160515994
    }
   ],
   "version": "0.3.2",
   "views": {}
  },
  "kernelspec": {
   "display_name": "Julia 1.1.0",
   "language": "julia",
   "name": "julia-1.1"
  },
  "language_info": {
   "file_extension": ".jl",
   "mimetype": "application/julia",
   "name": "julia",
   "version": "1.1.0"
  }
 },
 "nbformat": 4,
 "nbformat_minor": 1
}
